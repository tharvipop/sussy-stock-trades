{
 "cells": [
  {
   "cell_type": "markdown",
   "metadata": {},
   "source": [
    "# Sussy stock trades\n",
    "\n",
    "**Prabina Pokharel, Atharva Kulkarni**"
   ]
  },
  {
   "cell_type": "markdown",
   "metadata": {},
   "source": [
    "## Summary of Findings"
   ]
  },
  {
   "cell_type": "markdown",
   "metadata": {},
   "source": [
    "### Introduction\n",
    "We've decided to create a binary classification model for this project. Specifically, we are going to try to predict whether a given stock transaction resulted in capital gains over $200 or not.\n",
    "\n",
    "Response variable: `cap_gains_over_200_usd`\n",
    "\n",
    "Validation parameter: Precision\n",
    "\n",
    "### Baseline Model\n",
    "We used 2 nominal variables to predict the response variable, `state` and `type`. We did not need to perform any cleaning/feature engineering in this model, because `state` and `type` were given to us. We achieved a precision scores in between 0.75 - 0.85 on *unseen* data, so we think that even this baseline model does a decent job at predicting values as true only if they are true in real life most of the time.\n",
    "\n",
    "\n",
    "### Final Model\n",
    "We used 5 variables to predict the response variable:\n",
    "1. `state` (from baseline), nominal\n",
    "2. `type` (from baseline), nominal\n",
    "3. `owner`, nominal\n",
    "4. `amount_cleaned` (a feature we created), numerical\n",
    "   - we added this feature because the more money you have invested, it is more likely a sell will result in capital gains of over $200.\n",
    "5. `non_disclosure_period(days)` (a feature we created), numerical\n",
    "   - we added this feature because if the `non_disclosure_period(days)` is high, we believe that corresponds to a trade that a representative does not want to disclose because they have higher capital gains.\n",
    "\n",
    "We chose Random Forest Classifier for our model. Since our model was a classification problem, we could either choose Decision Tree or Random Forest. We decided to go with Random Forest since it is made out of many Decision Trees, model performance should be higher.\n",
    "\n",
    "After performing GridSearchCV on our unfit Random Forest Classifier, these are the hyperparamters we found to be optimizing precision score:\n",
    "\n",
    "- criterion': 'entropy',\n",
    "- max_depth': 5,\n",
    "- min_samples_split': 5,\n",
    "- n_estimators': 30\n",
    "\n",
    "On our final model, our precision score increases from 0.75-0.85 to 0.9+, so we definitely believe that the 3 additional features we chose are very correlated with our response variable.\n",
    "\n",
    "\n",
    "### Fairness Analysis\n",
    "We ran permutation test on the result we got from our model to check if there is any parity towards a specific group. More specifically, we tried to answer whether the model is unfair towards Californian reps when compared to non-Californian reps. Our null hypothesis is that the model is fair and our alternate hypothesis is that the model is unfair towards Californian reps. We used precision as a measure of parity. If the measure yield same number for both groups, then our model likely achieves precision parity. Our observed precision difference was around 95%. To determine if 95% difference is significant, we ran a permutation test and got a p-value of less than our chosen cutoff of 0.01, we showed that our model is likely unfair towards Californian reps."
   ]
  },
  {
   "cell_type": "markdown",
   "metadata": {},
   "source": [
    "## Code"
   ]
  },
  {
   "cell_type": "code",
   "execution_count": 15,
   "metadata": {},
   "outputs": [],
   "source": [
    "import matplotlib.pyplot as plt\n",
    "import numpy as np\n",
    "import os\n",
    "import pandas as pd\n",
    "import seaborn as sns\n",
    "from sklearn.pipeline import Pipeline\n",
    "from sklearn.linear_model import LinearRegression\n",
    "from sklearn.preprocessing import FunctionTransformer, OneHotEncoder, StandardScaler\n",
    "from sklearn.compose import ColumnTransformer\n",
    "from sklearn.tree import DecisionTreeClassifier\n",
    "from sklearn.ensemble import RandomForestClassifier\n",
    "from sklearn.metrics import recall_score, precision_score\n",
    "from sklearn.model_selection import train_test_split\n",
    "from sklearn import metrics\n",
    "from sklearn.model_selection import GridSearchCV\n",
    "import warnings\n",
    "warnings.filterwarnings('ignore')\n",
    "%config InlineBackend.figure_format = 'retina'  # Higher resolution figures"
   ]
  },
  {
   "cell_type": "markdown",
   "metadata": {},
   "source": [
    "### Framing the Problem"
   ]
  },
  {
   "cell_type": "markdown",
   "metadata": {},
   "source": [
    "Before we get to framing our problem, here's an overview of our cleaning steps and feature engineering from project 3:\n",
    "\n",
    "* Changing `disclosure_date` and `transaction_date` to pandas datetime object \n",
    "  * This was handy to create, as we could simply subtract the two columns to create a new new `non_disclosure_period(days)` column.\n",
    "* Removed the 'Hon.' out of representatives' names\n",
    "  * To make it easier to read.\n",
    "* Added a `state` column, created from `district`\n",
    "  * Necessary in order to be able to answer our main question!\n",
    "  * Also useful to create cool aggregates by state!\n",
    "* Added an `amount_cleaned` column, created from `amount`\n",
    "  * This was important in order to be able to do any sort of math calculations with relation to amount of the transaction value.\n"
   ]
  },
  {
   "cell_type": "markdown",
   "metadata": {},
   "source": [
    "We've decided to create a binary classification model for this project. Specifically, we are going to try to predict whether a given stock transaction resulted in capital gains over $200 or not.\n",
    "\n",
    "Response variable: `cap_gains_over_200_usd`\n",
    "\n",
    "Figuring our what metric to use is a bit trickier. First we'd need to see if our response variable data distribution is imbalanced or not:"
   ]
  },
  {
   "cell_type": "code",
   "execution_count": 16,
   "metadata": {},
   "outputs": [
    {
     "data": {
      "text/plain": [
       "False    13238\n",
       "True       964\n",
       "Name: cap_gains_over_200_usd, dtype: int64"
      ]
     },
     "execution_count": 16,
     "metadata": {},
     "output_type": "execute_result"
    }
   ],
   "source": [
    "df = pd.read_csv('data/cleaned_transactions.csv')\n",
    "df['cap_gains_over_200_usd'].value_counts()"
   ]
  },
  {
   "cell_type": "markdown",
   "metadata": {},
   "source": [
    "So unfortunately we don't have 50/50 balanced data. When it comes to unbalanced data, we can choose between recall or precision. Since we care about false positives in our prediction (i.e., we don't want to just classify every trade as having a positive response variable value and having many false positives), we will choose **precision** as our validation parameter."
   ]
  },
  {
   "cell_type": "markdown",
   "metadata": {},
   "source": [
    "Here's why we're *not* choosing...\n",
    "\n",
    "- Accuracy: since our `False` values in our response variable data accounts for nearly 93% of the total response variable data, we could achieve 93% accuracy by just predicting all values are `False`.\n",
    "- Recall: seeimingly similar to precision, recall only takes into account true positives and false negatives. We could have also chosen recall as our validation parameter, but decided not to because we are placing more importance on predicting values as positive if they really are positive."
   ]
  },
  {
   "cell_type": "markdown",
   "metadata": {},
   "source": [
    "We won't have any 'time of prediction' issues because all of the columns in our dataset, and any extra features we engineer, because all of them can be found out before finding out `cap_gains_over_200_usd`."
   ]
  },
  {
   "cell_type": "markdown",
   "metadata": {},
   "source": [
    "### Baseline Model"
   ]
  },
  {
   "cell_type": "markdown",
   "metadata": {},
   "source": [
    "For our baseline model, we're using 2 variables to predict the response variable, `state` and `type`. Both are categorical.\n",
    "\n",
    "- state: we believe state actually does matter in predicting capital gains over 200 because in our project 3 permutation test, we determined representatives from some states are more likely to have `cap_gains_over_200_usd` as `True` than other states.\n",
    "- type: if a transaction is not some sort of sale, then it is impossible for `cap_gains_over_200_usd` to be `True`."
   ]
  },
  {
   "cell_type": "markdown",
   "metadata": {},
   "source": [
    "Let's split up the data into X and y, and then conduct a train-test-split."
   ]
  },
  {
   "cell_type": "code",
   "execution_count": 17,
   "metadata": {},
   "outputs": [],
   "source": [
    "X = df[['state', 'type']]\n",
    "y = df['cap_gains_over_200_usd']\n",
    "X_train, X_test, y_train, y_test = train_test_split(X,y,test_size=0.2)"
   ]
  },
  {
   "cell_type": "markdown",
   "metadata": {},
   "source": [
    "Our `base_preproc` is a column transformer that's going to OHE the `state` and `type` columns."
   ]
  },
  {
   "cell_type": "code",
   "execution_count": 18,
   "metadata": {},
   "outputs": [],
   "source": [
    "base_preproc = ColumnTransformer(\n",
    "    transformers = [\n",
    "        ('ohe', OneHotEncoder(), ['state', 'type'])\n",
    "    ],\n",
    "    remainder='drop'\n",
    ")"
   ]
  },
  {
   "cell_type": "markdown",
   "metadata": {},
   "source": [
    "We then put the column transformer into a pipeline, paired with a `RandomForestClassifier` object. Note that the `RandomForestClassifier` has no parameters passed in, so it will use default values. We will conduct GridSearchCV for the best combination of hyperparameters in the next section."
   ]
  },
  {
   "cell_type": "code",
   "execution_count": 19,
   "metadata": {},
   "outputs": [],
   "source": [
    "base_pl = Pipeline([\n",
    "    ('prepocessor', base_preproc),\n",
    "    ('dec-tree', RandomForestClassifier())\n",
    "])\n",
    "\n",
    "# fit the pipeline\n",
    "base_pl.fit(X_train, y_train);"
   ]
  },
  {
   "cell_type": "code",
   "execution_count": 20,
   "metadata": {},
   "outputs": [
    {
     "name": "stdout",
     "output_type": "stream",
     "text": [
      "Testing Precision: 0.83\n"
     ]
    }
   ],
   "source": [
    "# predict response variables values based on fitted pipieline\n",
    "y_pred_base = base_pl.predict(X_test)\n",
    "\n",
    "print(f'Testing Precision: {metrics.precision_score(y_test, y_pred_base):.2f}')\n"
   ]
  },
  {
   "cell_type": "markdown",
   "metadata": {},
   "source": [
    "### Final Model"
   ]
  },
  {
   "cell_type": "markdown",
   "metadata": {},
   "source": [
    "For our final model, we're using 5 variables to predict the response variable:\n",
    "1. `state` (from baseline), nominal\n",
    "2. `type` (from baseline), nominal\n",
    "3. `owner`, nominal\n",
    "4. `amount_cleaned` (a feature we created), numerical\n",
    "5. `non_disclosure_period(days)` (a feature we created), numerical"
   ]
  },
  {
   "cell_type": "markdown",
   "metadata": {},
   "source": [
    "How we feature engineered the 2 new columns:\n",
    "\n",
    "- `amount_cleaned`\n",
    "  - We created a dictionary to map range values to their average value, and then replaced range values in `amount` with its average amount.\n",
    "- `non_disclosure_period(days)`\n",
    "  - We changed `disclosure_date` and `transaction_date` to pandas datetime object. This was handy to create, as we could simply subtract the two columns to create the new feature. \n"
   ]
  },
  {
   "cell_type": "markdown",
   "metadata": {},
   "source": [
    "Now let's deal with missing values in the 5 variables we're using for prediction, and make sure all column types are the types that we want."
   ]
  },
  {
   "cell_type": "code",
   "execution_count": 21,
   "metadata": {},
   "outputs": [
    {
     "data": {
      "text/html": [
       "<div>\n",
       "<style scoped>\n",
       "    .dataframe tbody tr th:only-of-type {\n",
       "        vertical-align: middle;\n",
       "    }\n",
       "\n",
       "    .dataframe tbody tr th {\n",
       "        vertical-align: top;\n",
       "    }\n",
       "\n",
       "    .dataframe thead th {\n",
       "        text-align: right;\n",
       "    }\n",
       "</style>\n",
       "<table border=\"1\" class=\"dataframe\">\n",
       "  <thead>\n",
       "    <tr style=\"text-align: right;\">\n",
       "      <th></th>\n",
       "      <th>disclosure_year</th>\n",
       "      <th>disclosure_date</th>\n",
       "      <th>transaction_date</th>\n",
       "      <th>owner</th>\n",
       "      <th>ticker</th>\n",
       "      <th>asset_description</th>\n",
       "      <th>type</th>\n",
       "      <th>amount</th>\n",
       "      <th>representative</th>\n",
       "      <th>district</th>\n",
       "      <th>ptr_link</th>\n",
       "      <th>cap_gains_over_200_usd</th>\n",
       "      <th>state</th>\n",
       "      <th>amount_cleaned</th>\n",
       "      <th>non_disclosure_period(days)</th>\n",
       "    </tr>\n",
       "  </thead>\n",
       "  <tbody>\n",
       "    <tr>\n",
       "      <th>0</th>\n",
       "      <td>2021</td>\n",
       "      <td>2021-10-04</td>\n",
       "      <td>2021-09-27</td>\n",
       "      <td>joint</td>\n",
       "      <td>BP</td>\n",
       "      <td>BP plc</td>\n",
       "      <td>purchase</td>\n",
       "      <td>$1,001 - $15,000</td>\n",
       "      <td>Virginia Foxx</td>\n",
       "      <td>NC05</td>\n",
       "      <td>https://disclosures-clerk.house.gov/public_dis...</td>\n",
       "      <td>False</td>\n",
       "      <td>NC</td>\n",
       "      <td>8000.5</td>\n",
       "      <td>7.0</td>\n",
       "    </tr>\n",
       "    <tr>\n",
       "      <th>1</th>\n",
       "      <td>2021</td>\n",
       "      <td>2021-10-04</td>\n",
       "      <td>2021-09-13</td>\n",
       "      <td>joint</td>\n",
       "      <td>XOM</td>\n",
       "      <td>Exxon Mobil Corporation</td>\n",
       "      <td>purchase</td>\n",
       "      <td>$1,001 - $15,000</td>\n",
       "      <td>Virginia Foxx</td>\n",
       "      <td>NC05</td>\n",
       "      <td>https://disclosures-clerk.house.gov/public_dis...</td>\n",
       "      <td>False</td>\n",
       "      <td>NC</td>\n",
       "      <td>8000.5</td>\n",
       "      <td>21.0</td>\n",
       "    </tr>\n",
       "    <tr>\n",
       "      <th>2</th>\n",
       "      <td>2021</td>\n",
       "      <td>2021-10-04</td>\n",
       "      <td>2021-09-10</td>\n",
       "      <td>joint</td>\n",
       "      <td>ILPT</td>\n",
       "      <td>Industrial Logistics Properties Trust - Common...</td>\n",
       "      <td>purchase</td>\n",
       "      <td>$15,001 - $50,000</td>\n",
       "      <td>Virginia Foxx</td>\n",
       "      <td>NC05</td>\n",
       "      <td>https://disclosures-clerk.house.gov/public_dis...</td>\n",
       "      <td>False</td>\n",
       "      <td>NC</td>\n",
       "      <td>32500.5</td>\n",
       "      <td>24.0</td>\n",
       "    </tr>\n",
       "    <tr>\n",
       "      <th>3</th>\n",
       "      <td>2021</td>\n",
       "      <td>2021-10-04</td>\n",
       "      <td>2021-09-28</td>\n",
       "      <td>joint</td>\n",
       "      <td>PM</td>\n",
       "      <td>Phillip Morris International Inc</td>\n",
       "      <td>purchase</td>\n",
       "      <td>$15,001 - $50,000</td>\n",
       "      <td>Virginia Foxx</td>\n",
       "      <td>NC05</td>\n",
       "      <td>https://disclosures-clerk.house.gov/public_dis...</td>\n",
       "      <td>False</td>\n",
       "      <td>NC</td>\n",
       "      <td>32500.5</td>\n",
       "      <td>6.0</td>\n",
       "    </tr>\n",
       "    <tr>\n",
       "      <th>4</th>\n",
       "      <td>2021</td>\n",
       "      <td>2021-10-04</td>\n",
       "      <td>2021-09-17</td>\n",
       "      <td>self</td>\n",
       "      <td>BLK</td>\n",
       "      <td>BlackRock Inc</td>\n",
       "      <td>sale_partial</td>\n",
       "      <td>$1,001 - $15,000</td>\n",
       "      <td>Alan S. Lowenthal</td>\n",
       "      <td>CA47</td>\n",
       "      <td>https://disclosures-clerk.house.gov/public_dis...</td>\n",
       "      <td>False</td>\n",
       "      <td>CA</td>\n",
       "      <td>8000.5</td>\n",
       "      <td>17.0</td>\n",
       "    </tr>\n",
       "  </tbody>\n",
       "</table>\n",
       "</div>"
      ],
      "text/plain": [
       "   disclosure_year disclosure_date transaction_date  owner ticker  \\\n",
       "0             2021      2021-10-04       2021-09-27  joint     BP   \n",
       "1             2021      2021-10-04       2021-09-13  joint    XOM   \n",
       "2             2021      2021-10-04       2021-09-10  joint   ILPT   \n",
       "3             2021      2021-10-04       2021-09-28  joint     PM   \n",
       "4             2021      2021-10-04       2021-09-17   self    BLK   \n",
       "\n",
       "                                   asset_description          type  \\\n",
       "0                                             BP plc      purchase   \n",
       "1                            Exxon Mobil Corporation      purchase   \n",
       "2  Industrial Logistics Properties Trust - Common...      purchase   \n",
       "3                   Phillip Morris International Inc      purchase   \n",
       "4                                      BlackRock Inc  sale_partial   \n",
       "\n",
       "              amount     representative district  \\\n",
       "0   $1,001 - $15,000      Virginia Foxx     NC05   \n",
       "1   $1,001 - $15,000      Virginia Foxx     NC05   \n",
       "2  $15,001 - $50,000      Virginia Foxx     NC05   \n",
       "3  $15,001 - $50,000      Virginia Foxx     NC05   \n",
       "4   $1,001 - $15,000  Alan S. Lowenthal     CA47   \n",
       "\n",
       "                                            ptr_link  cap_gains_over_200_usd  \\\n",
       "0  https://disclosures-clerk.house.gov/public_dis...                   False   \n",
       "1  https://disclosures-clerk.house.gov/public_dis...                   False   \n",
       "2  https://disclosures-clerk.house.gov/public_dis...                   False   \n",
       "3  https://disclosures-clerk.house.gov/public_dis...                   False   \n",
       "4  https://disclosures-clerk.house.gov/public_dis...                   False   \n",
       "\n",
       "  state amount_cleaned non_disclosure_period(days)  \n",
       "0    NC         8000.5                         7.0  \n",
       "1    NC         8000.5                        21.0  \n",
       "2    NC        32500.5                        24.0  \n",
       "3    NC        32500.5                         6.0  \n",
       "4    CA         8000.5                        17.0  "
      ]
     },
     "execution_count": 21,
     "metadata": {},
     "output_type": "execute_result"
    }
   ],
   "source": [
    "# '--' does not signify anything so replace with nan\n",
    "df['owner'] = df['owner'].replace({'--': np.nan})\n",
    "\n",
    "# np.nan is not acceptable in sklearn pipelines so we replace it with its own \n",
    "# categorical value\n",
    "df = df.replace({np.NaN:'missing'})\n",
    "\n",
    "# since we imported from csv, make sure 'disclosure_date' and 'transaction_date'\n",
    "# are of type date time\n",
    "df['disclosure_date'] = pd.to_datetime(df['disclosure_date'], errors = 'coerce')\n",
    "df['transaction_date'] = pd.to_datetime(df['transaction_date'], errors = 'coerce')\n",
    "\n",
    "# we are only going to include rows in which the 'non_disclosure_period(days)'\n",
    "# values are not missing\n",
    "df = df[df['non_disclosure_period(days)']!='missing']\n",
    "df.head()"
   ]
  },
  {
   "cell_type": "markdown",
   "metadata": {},
   "source": [
    "Let's split up the data into X and y, and then conduct a train-test-split."
   ]
  },
  {
   "cell_type": "code",
   "execution_count": 22,
   "metadata": {},
   "outputs": [],
   "source": [
    "X = df[['owner', 'type', 'state', 'amount_cleaned', 'non_disclosure_period(days)']]\n",
    "y = df['cap_gains_over_200_usd']\n",
    "X_train, X_test, y_train, y_test = train_test_split(X,y,test_size=0.2)"
   ]
  },
  {
   "cell_type": "markdown",
   "metadata": {},
   "source": [
    "Let's create a ColumnTransformer object with OneHotEncoder and StandardScalar as its transformers."
   ]
  },
  {
   "cell_type": "code",
   "execution_count": 23,
   "metadata": {},
   "outputs": [],
   "source": [
    "final_preproc = ColumnTransformer(\n",
    "    transformers = [\n",
    "        ('ohe', OneHotEncoder(drop='first'), ['owner', 'type', 'state']),\n",
    "        ('std', StandardScaler(), ['amount_cleaned', 'non_disclosure_period(days)'])\n",
    "    ],\n",
    "    remainder='drop'\n",
    ")"
   ]
  },
  {
   "cell_type": "code",
   "execution_count": 24,
   "metadata": {},
   "outputs": [],
   "source": [
    "final_pl = Pipeline([\n",
    "    ('prepocessor', final_preproc),\n",
    "    # these hyperparameter values are from conducting GridSearchCV (see below)\n",
    "    ('dec-tree', RandomForestClassifier(criterion='entropy', max_depth=5,min_samples_split=5, n_estimators=70))\n",
    "])\n",
    "final_pl.fit(X_train, y_train);"
   ]
  },
  {
   "cell_type": "code",
   "execution_count": 25,
   "metadata": {},
   "outputs": [
    {
     "name": "stdout",
     "output_type": "stream",
     "text": [
      "Testing Precision: 0.94\n"
     ]
    }
   ],
   "source": [
    "y_pred_final = final_pl.predict(X_test)\n",
    "print(f'Testing Precision: {metrics.precision_score(y_test, y_pred_final):.2f}')"
   ]
  },
  {
   "cell_type": "markdown",
   "metadata": {},
   "source": [
    "Let's conduct GridSearchCV to see which combination of hyperparamters is best.\n",
    "This section appears after instantiating and fitting the pipeline, but we conducted \n",
    "GridSearchCV before fitting final_pl."
   ]
  },
  {
   "cell_type": "code",
   "execution_count": 26,
   "metadata": {},
   "outputs": [],
   "source": [
    "hyperparameters = {\n",
    "    'dec-tree__n_estimators': np.arange(10, 100, 20),\n",
    "    'dec-tree__criterion': ['gini', 'entropy'],\n",
    "    'dec-tree__max_depth': [2,3,4,5],\n",
    "    'dec-tree__min_samples_split': [1,2,5]\n",
    "}"
   ]
  },
  {
   "cell_type": "code",
   "execution_count": 27,
   "metadata": {},
   "outputs": [
    {
     "data": {
      "text/plain": [
       "{'dec-tree__criterion': 'entropy',\n",
       " 'dec-tree__max_depth': 5,\n",
       " 'dec-tree__min_samples_split': 5,\n",
       " 'dec-tree__n_estimators': 90}"
      ]
     },
     "execution_count": 27,
     "metadata": {},
     "output_type": "execute_result"
    }
   ],
   "source": [
    "searcher = GridSearchCV(final_pl, param_grid = hyperparameters, cv=5, scoring='precision')\n",
    "searcher.fit(X_train, y_train)\n",
    "searcher.best_params_"
   ]
  },
  {
   "cell_type": "markdown",
   "metadata": {},
   "source": [
    "### Fairness Analysis"
   ]
  },
  {
   "cell_type": "markdown",
   "metadata": {},
   "source": [
    "We're going to split our dataset into representatives from California and representatives not from California."
   ]
  },
  {
   "cell_type": "markdown",
   "metadata": {},
   "source": [
    "Null Hypothesis: Our model is fair. Its precision for Californian representatives and non-Californian representatives are roughly the same, and any discrepancies we see are due to random chance.\n",
    "\n",
    "Alternative Hypothesis: Our model is unfair. Its precision for Californian representatives is lower than its precision for non-Californian representatives"
   ]
  },
  {
   "cell_type": "markdown",
   "metadata": {},
   "source": [
    "We will choose a p-value of 0.01. Here, we could have chosen a p-value of 0.05 but we wanted to be extra sure that our model is fair or unfair."
   ]
  },
  {
   "cell_type": "code",
   "execution_count": 37,
   "metadata": {},
   "outputs": [
    {
     "data": {
      "text/html": [
       "<div>\n",
       "<style scoped>\n",
       "    .dataframe tbody tr th:only-of-type {\n",
       "        vertical-align: middle;\n",
       "    }\n",
       "\n",
       "    .dataframe tbody tr th {\n",
       "        vertical-align: top;\n",
       "    }\n",
       "\n",
       "    .dataframe thead th {\n",
       "        text-align: right;\n",
       "    }\n",
       "</style>\n",
       "<table border=\"1\" class=\"dataframe\">\n",
       "  <thead>\n",
       "    <tr style=\"text-align: right;\">\n",
       "      <th></th>\n",
       "      <th>owner</th>\n",
       "      <th>type</th>\n",
       "      <th>state</th>\n",
       "      <th>amount_cleaned</th>\n",
       "      <th>non_disclosure_period(days)</th>\n",
       "      <th>prediction</th>\n",
       "      <th>cap_gains_over_200_usd</th>\n",
       "      <th>is_CA</th>\n",
       "    </tr>\n",
       "  </thead>\n",
       "  <tbody>\n",
       "    <tr>\n",
       "      <th>4575</th>\n",
       "      <td>joint</td>\n",
       "      <td>purchase</td>\n",
       "      <td>VA</td>\n",
       "      <td>8000.5</td>\n",
       "      <td>8.0</td>\n",
       "      <td>False</td>\n",
       "      <td>False</td>\n",
       "      <td>non_cali</td>\n",
       "    </tr>\n",
       "    <tr>\n",
       "      <th>10164</th>\n",
       "      <td>joint</td>\n",
       "      <td>purchase</td>\n",
       "      <td>NC</td>\n",
       "      <td>8000.5</td>\n",
       "      <td>108.0</td>\n",
       "      <td>False</td>\n",
       "      <td>False</td>\n",
       "      <td>non_cali</td>\n",
       "    </tr>\n",
       "    <tr>\n",
       "      <th>12437</th>\n",
       "      <td>self</td>\n",
       "      <td>purchase</td>\n",
       "      <td>CA</td>\n",
       "      <td>32500.5</td>\n",
       "      <td>31.0</td>\n",
       "      <td>False</td>\n",
       "      <td>False</td>\n",
       "      <td>cali</td>\n",
       "    </tr>\n",
       "  </tbody>\n",
       "</table>\n",
       "</div>"
      ],
      "text/plain": [
       "       owner      type state amount_cleaned non_disclosure_period(days)  \\\n",
       "4575   joint  purchase    VA         8000.5                         8.0   \n",
       "10164  joint  purchase    NC         8000.5                       108.0   \n",
       "12437   self  purchase    CA        32500.5                        31.0   \n",
       "\n",
       "       prediction  cap_gains_over_200_usd     is_CA  \n",
       "4575        False                   False  non_cali  \n",
       "10164       False                   False  non_cali  \n",
       "12437       False                   False      cali  "
      ]
     },
     "execution_count": 37,
     "metadata": {},
     "output_type": "execute_result"
    }
   ],
   "source": [
    "results = X_test # we will only focus on testing data\n",
    "results['prediction'] = y_pred_final # we are setting prediction column to be our final model's prediction\n",
    "results['cap_gains_over_200_usd'] = y_test\n",
    "results['is_CA'] = (results.state == 'CA').replace({True: 'cali', False: 'non_cali'})\n",
    "results.head(3)"
   ]
  },
  {
   "cell_type": "markdown",
   "metadata": {},
   "source": [
    "Here, we observe that the difference in precision between Californian and non-Californian reps is roughly 95%."
   ]
  },
  {
   "cell_type": "code",
   "execution_count": 30,
   "metadata": {},
   "outputs": [
    {
     "data": {
      "text/plain": [
       "0.9428571428571428"
      ]
     },
     "execution_count": 30,
     "metadata": {},
     "output_type": "execute_result"
    }
   ],
   "source": [
    "obs = results.groupby('is_CA').apply(lambda x: metrics.precision_score(x['cap_gains_over_200_usd'], x['prediction'])).diff().iloc[-1]\n",
    "obs"
   ]
  },
  {
   "cell_type": "markdown",
   "metadata": {},
   "source": [
    "We will run a permutation test of 1000 iterations to see if the difference in precision is significant."
   ]
  },
  {
   "cell_type": "code",
   "execution_count": 31,
   "metadata": {},
   "outputs": [],
   "source": [
    "diff_in_prec = []\n",
    "for _ in range(1000):\n",
    "    s = (\n",
    "        results[['is_CA', 'prediction', 'cap_gains_over_200_usd']]\n",
    "        .assign(is_CA=results.is_CA.sample(frac=1.0, replace=False).reset_index(drop=True))\n",
    "        .groupby('is_CA')\n",
    "        .apply(lambda x: metrics.precision_score(x['cap_gains_over_200_usd'], x['prediction']))\n",
    "        .diff()\n",
    "        .iloc[-1]\n",
    "    )\n",
    "    \n",
    "    diff_in_prec.append(s) # appens precision difference for each iteration"
   ]
  },
  {
   "cell_type": "code",
   "execution_count": 32,
   "metadata": {},
   "outputs": [
    {
     "data": {
      "image/png": "[encoded data removed]",
      "text/plain": [
       "<Figure size 720x360 with 1 Axes>"
      ]
     },
     "metadata": {
      "image/png": {
       "height": 318,
       "width": 605
      },
      "needs_background": "light"
     },
     "output_type": "display_data"
    }
   ],
   "source": [
    "plt.figure(figsize=(10, 5))\n",
    "pd.Series(diff_in_prec).plot(kind='hist', ec='w', density=True, bins=15, title='Difference in Precision (CA - nonCA)')\n",
    "plt.axvline(x=obs, color='red', label='observed difference in precision')\n",
    "plt.legend(loc='upper left');"
   ]
  },
  {
   "cell_type": "code",
   "execution_count": 36,
   "metadata": {},
   "outputs": [
    {
     "data": {
      "text/plain": [
       "0.001"
      ]
     },
     "execution_count": 36,
     "metadata": {},
     "output_type": "execute_result"
    }
   ],
   "source": [
    "p_val = (obs <= diff_in_prec).mean()\n",
    "p_val"
   ]
  },
  {
   "cell_type": "markdown",
   "metadata": {},
   "source": [
    "From the graph as well as the p-val, it looks like the difference in precision across the two groups is highly significant. Therefore, our model likely does not achieve precision parity. "
   ]
  }
 ],
 "metadata": {
  "kernelspec": {
   "display_name": "Python 3",
   "language": "python",
   "name": "python3"
  },
  "language_info": {
   "codemirror_mode": {
    "name": "ipython",
    "version": 3
   },
   "file_extension": ".py",
   "mimetype": "text/x-python",
   "name": "python",
   "nbconvert_exporter": "python",
   "pygments_lexer": "ipython3",
   "version": "3.8.8"
  },
  "vscode": {
   "interpreter": {
    "hash": "5636f6b95148646feb0d24dbe44e68ecae31bd4665dcef46a11b1f0771f6eb91"
   }
  }
 },
 "nbformat": 4,
 "nbformat_minor": 2
}
