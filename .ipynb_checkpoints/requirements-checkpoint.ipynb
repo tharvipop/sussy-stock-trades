{
 "cells": [
  {
   "cell_type": "markdown",
   "id": "98f1d4f7",
   "metadata": {},
   "source": [
    "- investigate at least 3 columns on their own and at least 3 pairs of columns\n",
    "- Summary of Findings: So when you perform data cleaning steps (e.g. updating the data types of columns) you should discuss how the steps you've taken have brought your data closer to its underlying data generating process.\n",
    "- Misisngness: What you should do is pick a column with missing values, let's say column XXX. Then, for three other columns, you check to see if the missingness of XXX depends on the other column. (What you will probably see is that the missingness of XXX does depend on the other columns you choose.)\n",
    "- Summary: pictures/plots in the summary section\n",
    "- Missingness: If you find out that the missingness of column XXX depends on column YYY, then any analysis you do involving column XXX will be biased if you don't control for (i.e. impute using) column YYY. You don't actually have to do any imputation, but you should acknowledge the types of bias that are (or are not present) depending on your missingness results.\n",
    "- Analysis: For categorical columns, yes, grouping and drawing bar charts is sufficient.\n"
   ]
  },
  {
   "cell_type": "code",
   "execution_count": null,
   "id": "3a614a3f",
   "metadata": {},
   "outputs": [],
   "source": []
  }
 ],
 "metadata": {
  "kernelspec": {
   "display_name": "Python 3",
   "language": "python",
   "name": "python3"
  },
  "language_info": {
   "codemirror_mode": {
    "name": "ipython",
    "version": 3
   },
   "file_extension": ".py",
   "mimetype": "text/x-python",
   "name": "python",
   "nbconvert_exporter": "python",
   "pygments_lexer": "ipython3",
   "version": "3.8.8"
  }
 },
 "nbformat": 4,
 "nbformat_minor": 5
}
