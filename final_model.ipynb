{
 "cells": [
  {
   "cell_type": "code",
   "execution_count": 115,
   "metadata": {},
   "outputs": [],
   "source": [
    "import matplotlib.pyplot as plt\n",
    "import numpy as np\n",
    "import os\n",
    "import pandas as pd\n",
    "from sklearn.pipeline import Pipeline\n",
    "from sklearn.linear_model import LinearRegression\n",
    "from sklearn.preprocessing import FunctionTransformer\n",
    "from sklearn.preprocessing import OneHotEncoder\n",
    "from sklearn.compose import ColumnTransformer\n",
    "from sklearn.preprocessing import StandardScaler\n",
    "from sklearn.tree import DecisionTreeClassifier\n",
    "from sklearn.metrics import recall_score\n",
    "from sklearn.metrics import precision_score\n",
    "from sklearn.model_selection import train_test_split\n",
    "from sklearn import metrics\n",
    "from sklearn.ensemble import RandomForestClassifier\n",
    "from sklearn.model_selection import GridSearchCV\n",
    "import warnings\n",
    "warnings.filterwarnings('ignore')"
   ]
  },
  {
   "cell_type": "code",
   "execution_count": 98,
   "metadata": {},
   "outputs": [
    {
     "data": {
      "text/html": [
       "<div>\n",
       "<style scoped>\n",
       "    .dataframe tbody tr th:only-of-type {\n",
       "        vertical-align: middle;\n",
       "    }\n",
       "\n",
       "    .dataframe tbody tr th {\n",
       "        vertical-align: top;\n",
       "    }\n",
       "\n",
       "    .dataframe thead th {\n",
       "        text-align: right;\n",
       "    }\n",
       "</style>\n",
       "<table border=\"1\" class=\"dataframe\">\n",
       "  <thead>\n",
       "    <tr style=\"text-align: right;\">\n",
       "      <th></th>\n",
       "      <th>disclosure_year</th>\n",
       "      <th>disclosure_date</th>\n",
       "      <th>transaction_date</th>\n",
       "      <th>owner</th>\n",
       "      <th>ticker</th>\n",
       "      <th>asset_description</th>\n",
       "      <th>type</th>\n",
       "      <th>amount</th>\n",
       "      <th>representative</th>\n",
       "      <th>district</th>\n",
       "      <th>ptr_link</th>\n",
       "      <th>cap_gains_over_200_usd</th>\n",
       "      <th>state</th>\n",
       "      <th>amount_cleaned</th>\n",
       "    </tr>\n",
       "  </thead>\n",
       "  <tbody>\n",
       "    <tr>\n",
       "      <th>0</th>\n",
       "      <td>2021</td>\n",
       "      <td>2021-10-04</td>\n",
       "      <td>2021-09-27</td>\n",
       "      <td>joint</td>\n",
       "      <td>BP</td>\n",
       "      <td>BP plc</td>\n",
       "      <td>purchase</td>\n",
       "      <td>$1,001 - $15,000</td>\n",
       "      <td>Virginia Foxx</td>\n",
       "      <td>NC05</td>\n",
       "      <td>https://disclosures-clerk.house.gov/public_dis...</td>\n",
       "      <td>False</td>\n",
       "      <td>NC</td>\n",
       "      <td>8000.5</td>\n",
       "    </tr>\n",
       "    <tr>\n",
       "      <th>1</th>\n",
       "      <td>2021</td>\n",
       "      <td>2021-10-04</td>\n",
       "      <td>2021-09-13</td>\n",
       "      <td>joint</td>\n",
       "      <td>XOM</td>\n",
       "      <td>Exxon Mobil Corporation</td>\n",
       "      <td>purchase</td>\n",
       "      <td>$1,001 - $15,000</td>\n",
       "      <td>Virginia Foxx</td>\n",
       "      <td>NC05</td>\n",
       "      <td>https://disclosures-clerk.house.gov/public_dis...</td>\n",
       "      <td>False</td>\n",
       "      <td>NC</td>\n",
       "      <td>8000.5</td>\n",
       "    </tr>\n",
       "    <tr>\n",
       "      <th>2</th>\n",
       "      <td>2021</td>\n",
       "      <td>2021-10-04</td>\n",
       "      <td>2021-09-10</td>\n",
       "      <td>joint</td>\n",
       "      <td>ILPT</td>\n",
       "      <td>Industrial Logistics Properties Trust - Common...</td>\n",
       "      <td>purchase</td>\n",
       "      <td>$15,001 - $50,000</td>\n",
       "      <td>Virginia Foxx</td>\n",
       "      <td>NC05</td>\n",
       "      <td>https://disclosures-clerk.house.gov/public_dis...</td>\n",
       "      <td>False</td>\n",
       "      <td>NC</td>\n",
       "      <td>32500.5</td>\n",
       "    </tr>\n",
       "    <tr>\n",
       "      <th>3</th>\n",
       "      <td>2021</td>\n",
       "      <td>2021-10-04</td>\n",
       "      <td>2021-09-28</td>\n",
       "      <td>joint</td>\n",
       "      <td>PM</td>\n",
       "      <td>Phillip Morris International Inc</td>\n",
       "      <td>purchase</td>\n",
       "      <td>$15,001 - $50,000</td>\n",
       "      <td>Virginia Foxx</td>\n",
       "      <td>NC05</td>\n",
       "      <td>https://disclosures-clerk.house.gov/public_dis...</td>\n",
       "      <td>False</td>\n",
       "      <td>NC</td>\n",
       "      <td>32500.5</td>\n",
       "    </tr>\n",
       "    <tr>\n",
       "      <th>4</th>\n",
       "      <td>2021</td>\n",
       "      <td>2021-10-04</td>\n",
       "      <td>2021-09-17</td>\n",
       "      <td>self</td>\n",
       "      <td>BLK</td>\n",
       "      <td>BlackRock Inc</td>\n",
       "      <td>sale_partial</td>\n",
       "      <td>$1,001 - $15,000</td>\n",
       "      <td>Alan S. Lowenthal</td>\n",
       "      <td>CA47</td>\n",
       "      <td>https://disclosures-clerk.house.gov/public_dis...</td>\n",
       "      <td>False</td>\n",
       "      <td>CA</td>\n",
       "      <td>8000.5</td>\n",
       "    </tr>\n",
       "  </tbody>\n",
       "</table>\n",
       "</div>"
      ],
      "text/plain": [
       "   disclosure_year disclosure_date transaction_date  owner ticker  \\\n",
       "0             2021      2021-10-04       2021-09-27  joint     BP   \n",
       "1             2021      2021-10-04       2021-09-13  joint    XOM   \n",
       "2             2021      2021-10-04       2021-09-10  joint   ILPT   \n",
       "3             2021      2021-10-04       2021-09-28  joint     PM   \n",
       "4             2021      2021-10-04       2021-09-17   self    BLK   \n",
       "\n",
       "                                   asset_description          type  \\\n",
       "0                                             BP plc      purchase   \n",
       "1                            Exxon Mobil Corporation      purchase   \n",
       "2  Industrial Logistics Properties Trust - Common...      purchase   \n",
       "3                   Phillip Morris International Inc      purchase   \n",
       "4                                      BlackRock Inc  sale_partial   \n",
       "\n",
       "              amount     representative district  \\\n",
       "0   $1,001 - $15,000      Virginia Foxx     NC05   \n",
       "1   $1,001 - $15,000      Virginia Foxx     NC05   \n",
       "2  $15,001 - $50,000      Virginia Foxx     NC05   \n",
       "3  $15,001 - $50,000      Virginia Foxx     NC05   \n",
       "4   $1,001 - $15,000  Alan S. Lowenthal     CA47   \n",
       "\n",
       "                                            ptr_link  cap_gains_over_200_usd  \\\n",
       "0  https://disclosures-clerk.house.gov/public_dis...                   False   \n",
       "1  https://disclosures-clerk.house.gov/public_dis...                   False   \n",
       "2  https://disclosures-clerk.house.gov/public_dis...                   False   \n",
       "3  https://disclosures-clerk.house.gov/public_dis...                   False   \n",
       "4  https://disclosures-clerk.house.gov/public_dis...                   False   \n",
       "\n",
       "  state  amount_cleaned  \n",
       "0    NC          8000.5  \n",
       "1    NC          8000.5  \n",
       "2    NC         32500.5  \n",
       "3    NC         32500.5  \n",
       "4    CA          8000.5  "
      ]
     },
     "execution_count": 98,
     "metadata": {},
     "output_type": "execute_result"
    }
   ],
   "source": [
    "df = pd.read_csv('data/cleaned_all_transactions.csv').iloc[:, 1:]\n",
    "df.head()"
   ]
  },
  {
   "cell_type": "code",
   "execution_count": 99,
   "metadata": {},
   "outputs": [
    {
     "data": {
      "text/html": [
       "<div>\n",
       "<style scoped>\n",
       "    .dataframe tbody tr th:only-of-type {\n",
       "        vertical-align: middle;\n",
       "    }\n",
       "\n",
       "    .dataframe tbody tr th {\n",
       "        vertical-align: top;\n",
       "    }\n",
       "\n",
       "    .dataframe thead th {\n",
       "        text-align: right;\n",
       "    }\n",
       "</style>\n",
       "<table border=\"1\" class=\"dataframe\">\n",
       "  <thead>\n",
       "    <tr style=\"text-align: right;\">\n",
       "      <th></th>\n",
       "      <th>disclosure_year</th>\n",
       "      <th>disclosure_date</th>\n",
       "      <th>transaction_date</th>\n",
       "      <th>owner</th>\n",
       "      <th>ticker</th>\n",
       "      <th>asset_description</th>\n",
       "      <th>type</th>\n",
       "      <th>amount</th>\n",
       "      <th>representative</th>\n",
       "      <th>district</th>\n",
       "      <th>ptr_link</th>\n",
       "      <th>cap_gains_over_200_usd</th>\n",
       "      <th>state</th>\n",
       "      <th>amount_cleaned</th>\n",
       "      <th>non_disclosure_period(days)</th>\n",
       "    </tr>\n",
       "  </thead>\n",
       "  <tbody>\n",
       "    <tr>\n",
       "      <th>0</th>\n",
       "      <td>2021</td>\n",
       "      <td>2021-10-04 00:00:00</td>\n",
       "      <td>2021-09-27 00:00:00</td>\n",
       "      <td>joint</td>\n",
       "      <td>BP</td>\n",
       "      <td>BP plc</td>\n",
       "      <td>purchase</td>\n",
       "      <td>$1,001 - $15,000</td>\n",
       "      <td>Virginia Foxx</td>\n",
       "      <td>NC05</td>\n",
       "      <td>https://disclosures-clerk.house.gov/public_dis...</td>\n",
       "      <td>False</td>\n",
       "      <td>NC</td>\n",
       "      <td>8000.5</td>\n",
       "      <td>7.0</td>\n",
       "    </tr>\n",
       "    <tr>\n",
       "      <th>1</th>\n",
       "      <td>2021</td>\n",
       "      <td>2021-10-04 00:00:00</td>\n",
       "      <td>2021-09-13 00:00:00</td>\n",
       "      <td>joint</td>\n",
       "      <td>XOM</td>\n",
       "      <td>Exxon Mobil Corporation</td>\n",
       "      <td>purchase</td>\n",
       "      <td>$1,001 - $15,000</td>\n",
       "      <td>Virginia Foxx</td>\n",
       "      <td>NC05</td>\n",
       "      <td>https://disclosures-clerk.house.gov/public_dis...</td>\n",
       "      <td>False</td>\n",
       "      <td>NC</td>\n",
       "      <td>8000.5</td>\n",
       "      <td>21.0</td>\n",
       "    </tr>\n",
       "    <tr>\n",
       "      <th>2</th>\n",
       "      <td>2021</td>\n",
       "      <td>2021-10-04 00:00:00</td>\n",
       "      <td>2021-09-10 00:00:00</td>\n",
       "      <td>joint</td>\n",
       "      <td>ILPT</td>\n",
       "      <td>Industrial Logistics Properties Trust - Common...</td>\n",
       "      <td>purchase</td>\n",
       "      <td>$15,001 - $50,000</td>\n",
       "      <td>Virginia Foxx</td>\n",
       "      <td>NC05</td>\n",
       "      <td>https://disclosures-clerk.house.gov/public_dis...</td>\n",
       "      <td>False</td>\n",
       "      <td>NC</td>\n",
       "      <td>32500.5</td>\n",
       "      <td>24.0</td>\n",
       "    </tr>\n",
       "    <tr>\n",
       "      <th>3</th>\n",
       "      <td>2021</td>\n",
       "      <td>2021-10-04 00:00:00</td>\n",
       "      <td>2021-09-28 00:00:00</td>\n",
       "      <td>joint</td>\n",
       "      <td>PM</td>\n",
       "      <td>Phillip Morris International Inc</td>\n",
       "      <td>purchase</td>\n",
       "      <td>$15,001 - $50,000</td>\n",
       "      <td>Virginia Foxx</td>\n",
       "      <td>NC05</td>\n",
       "      <td>https://disclosures-clerk.house.gov/public_dis...</td>\n",
       "      <td>False</td>\n",
       "      <td>NC</td>\n",
       "      <td>32500.5</td>\n",
       "      <td>6.0</td>\n",
       "    </tr>\n",
       "    <tr>\n",
       "      <th>4</th>\n",
       "      <td>2021</td>\n",
       "      <td>2021-10-04 00:00:00</td>\n",
       "      <td>2021-09-17 00:00:00</td>\n",
       "      <td>self</td>\n",
       "      <td>BLK</td>\n",
       "      <td>BlackRock Inc</td>\n",
       "      <td>sale_partial</td>\n",
       "      <td>$1,001 - $15,000</td>\n",
       "      <td>Alan S. Lowenthal</td>\n",
       "      <td>CA47</td>\n",
       "      <td>https://disclosures-clerk.house.gov/public_dis...</td>\n",
       "      <td>False</td>\n",
       "      <td>CA</td>\n",
       "      <td>8000.5</td>\n",
       "      <td>17.0</td>\n",
       "    </tr>\n",
       "  </tbody>\n",
       "</table>\n",
       "</div>"
      ],
      "text/plain": [
       "   disclosure_year      disclosure_date     transaction_date  owner ticker  \\\n",
       "0             2021  2021-10-04 00:00:00  2021-09-27 00:00:00  joint     BP   \n",
       "1             2021  2021-10-04 00:00:00  2021-09-13 00:00:00  joint    XOM   \n",
       "2             2021  2021-10-04 00:00:00  2021-09-10 00:00:00  joint   ILPT   \n",
       "3             2021  2021-10-04 00:00:00  2021-09-28 00:00:00  joint     PM   \n",
       "4             2021  2021-10-04 00:00:00  2021-09-17 00:00:00   self    BLK   \n",
       "\n",
       "                                   asset_description          type  \\\n",
       "0                                             BP plc      purchase   \n",
       "1                            Exxon Mobil Corporation      purchase   \n",
       "2  Industrial Logistics Properties Trust - Common...      purchase   \n",
       "3                   Phillip Morris International Inc      purchase   \n",
       "4                                      BlackRock Inc  sale_partial   \n",
       "\n",
       "              amount     representative district  \\\n",
       "0   $1,001 - $15,000      Virginia Foxx     NC05   \n",
       "1   $1,001 - $15,000      Virginia Foxx     NC05   \n",
       "2  $15,001 - $50,000      Virginia Foxx     NC05   \n",
       "3  $15,001 - $50,000      Virginia Foxx     NC05   \n",
       "4   $1,001 - $15,000  Alan S. Lowenthal     CA47   \n",
       "\n",
       "                                            ptr_link  cap_gains_over_200_usd  \\\n",
       "0  https://disclosures-clerk.house.gov/public_dis...                   False   \n",
       "1  https://disclosures-clerk.house.gov/public_dis...                   False   \n",
       "2  https://disclosures-clerk.house.gov/public_dis...                   False   \n",
       "3  https://disclosures-clerk.house.gov/public_dis...                   False   \n",
       "4  https://disclosures-clerk.house.gov/public_dis...                   False   \n",
       "\n",
       "  state amount_cleaned non_disclosure_period(days)  \n",
       "0    NC         8000.5                         7.0  \n",
       "1    NC         8000.5                        21.0  \n",
       "2    NC        32500.5                        24.0  \n",
       "3    NC        32500.5                         6.0  \n",
       "4    CA         8000.5                        17.0  "
      ]
     },
     "execution_count": 99,
     "metadata": {},
     "output_type": "execute_result"
    }
   ],
   "source": [
    "df['owner'] = df['owner'].replace({'--': np.nan})\n",
    "df['disclosure_date'] = pd.to_datetime(df['disclosure_date'], errors = 'coerce')\n",
    "df['transaction_date'] = pd.to_datetime(df['transaction_date'], errors = 'coerce')\n",
    "df['non_disclosure_period(days)'] = (df['disclosure_date'] - df['transaction_date']).dt.days\n",
    "df = df.replace({np.NaN:'missing'})\n",
    "df = df[df['non_disclosure_period(days)']!='missing']\n",
    "df.head()"
   ]
  },
  {
   "cell_type": "code",
   "execution_count": 100,
   "metadata": {},
   "outputs": [],
   "source": [
    "# df.to_csv('data/cleaned_transactions.csv', index=False)"
   ]
  },
  {
   "cell_type": "code",
   "execution_count": 179,
   "metadata": {},
   "outputs": [],
   "source": [
    "X = df[['owner', 'type', 'state', 'amount_cleaned', 'non_disclosure_period(days)']]\n",
    "y = df['cap_gains_over_200_usd']\n",
    "X_train, X_test, y_train, y_test = train_test_split(X,y,test_size=0.2)"
   ]
  },
  {
   "cell_type": "code",
   "execution_count": 180,
   "metadata": {},
   "outputs": [],
   "source": [
    "preproc = ColumnTransformer(\n",
    "    transformers = [\n",
    "        ('ohe', OneHotEncoder(drop='first'), ['owner', 'type', 'state']),\n",
    "        ('std', StandardScaler(), ['amount_cleaned', 'non_disclosure_period(days)'])\n",
    "    ],\n",
    "    remainder='drop'\n",
    ")"
   ]
  },
  {
   "cell_type": "code",
   "execution_count": 181,
   "metadata": {},
   "outputs": [
    {
     "data": {
      "text/plain": [
       "array([False, False,  True, ..., False, False, False])"
      ]
     },
     "execution_count": 181,
     "metadata": {},
     "output_type": "execute_result"
    }
   ],
   "source": [
    "pl = Pipeline([\n",
    "    ('prepocessor', preproc),\n",
    "    ('dec-tree', RandomForestClassifier(criterion='entropy', max_depth=5,min_samples_split=2, n_estimators=70))\n",
    "    # ('dec-tree', RandomForestClassifier())\n",
    "])\n",
    "pl.fit(X_train, y_train)\n",
    "\n",
    "pred_train = pl.predict(X_train)\n",
    "pred_train"
   ]
  },
  {
   "cell_type": "code",
   "execution_count": 182,
   "metadata": {},
   "outputs": [
    {
     "data": {
      "text/plain": [
       "array([False, False, False, ..., False, False, False])"
      ]
     },
     "execution_count": 182,
     "metadata": {},
     "output_type": "execute_result"
    }
   ],
   "source": [
    "pred_test = pl.predict(X_test)\n",
    "pred_test"
   ]
  },
  {
   "cell_type": "code",
   "execution_count": 183,
   "metadata": {},
   "outputs": [
    {
     "data": {
      "text/plain": [
       "0.9465527868275072"
      ]
     },
     "execution_count": 183,
     "metadata": {},
     "output_type": "execute_result"
    }
   ],
   "source": [
    "pl.score(X_train, y_train)"
   ]
  },
  {
   "cell_type": "code",
   "execution_count": 184,
   "metadata": {},
   "outputs": [
    {
     "data": {
      "text/plain": [
       "0.9394366197183098"
      ]
     },
     "execution_count": 184,
     "metadata": {},
     "output_type": "execute_result"
    }
   ],
   "source": [
    "pl.score(X_test, y_test)"
   ]
  },
  {
   "cell_type": "code",
   "execution_count": 185,
   "metadata": {},
   "outputs": [],
   "source": [
    "y_pred = pl.predict(X_test)"
   ]
  },
  {
   "cell_type": "code",
   "execution_count": 186,
   "metadata": {},
   "outputs": [
    {
     "data": {
      "text/plain": [
       "0.9394366197183098"
      ]
     },
     "execution_count": 186,
     "metadata": {},
     "output_type": "execute_result"
    }
   ],
   "source": [
    "metrics.accuracy_score(y_test, y_pred)"
   ]
  },
  {
   "cell_type": "code",
   "execution_count": 187,
   "metadata": {},
   "outputs": [
    {
     "data": {
      "text/plain": [
       "0.9565217391304348"
      ]
     },
     "execution_count": 187,
     "metadata": {},
     "output_type": "execute_result"
    }
   ],
   "source": [
    "metrics.precision_score(y_test, y_pred)"
   ]
  },
  {
   "cell_type": "code",
   "execution_count": 188,
   "metadata": {},
   "outputs": [
    {
     "data": {
      "text/plain": [
       "0.205607476635514"
      ]
     },
     "execution_count": 188,
     "metadata": {},
     "output_type": "execute_result"
    }
   ],
   "source": [
    "metrics.recall_score(y_test, y_pred)"
   ]
  },
  {
   "cell_type": "code",
   "execution_count": 164,
   "metadata": {},
   "outputs": [],
   "source": [
    "hyperparameters = {\n",
    "    'dec-tree__n_estimators': np.arange(10, 100, 20),\n",
    "    'dec-tree__criterion': ['gini', 'entropy'],\n",
    "    'dec-tree__max_depth': [2,3,4,5],\n",
    "    'dec-tree__min_samples_split': [1,2,5]\n",
    "}"
   ]
  },
  {
   "cell_type": "code",
   "execution_count": 176,
   "metadata": {},
   "outputs": [
    {
     "data": {
      "text/plain": [
       "{'dec-tree__criterion': 'entropy',\n",
       " 'dec-tree__max_depth': 5,\n",
       " 'dec-tree__min_samples_split': 2,\n",
       " 'dec-tree__n_estimators': 70}"
      ]
     },
     "execution_count": 176,
     "metadata": {},
     "output_type": "execute_result"
    }
   ],
   "source": [
    "searcher = GridSearchCV(pl, param_grid = hyperparameters, cv=5, scoring='precision')\n",
    "searcher.fit(X_train, y_train)\n",
    "searcher.best_params_"
   ]
  },
  {
   "cell_type": "code",
   "execution_count": 193,
   "metadata": {},
   "outputs": [
    {
     "data": {
      "text/plain": [
       "0.9428571428571428"
      ]
     },
     "execution_count": 193,
     "metadata": {},
     "output_type": "execute_result"
    }
   ],
   "source": [
    "# Training accuracy\n",
    "searcher.score(X_train, y_train)"
   ]
  },
  {
   "cell_type": "code",
   "execution_count": 198,
   "metadata": {},
   "outputs": [
    {
     "data": {
      "text/plain": [
       "0.9454545454545454"
      ]
     },
     "execution_count": 198,
     "metadata": {},
     "output_type": "execute_result"
    }
   ],
   "source": [
    "# Testing accuracy\n",
    "searcher.score(X_test, y_test)"
   ]
  },
  {
   "cell_type": "code",
   "execution_count": null,
   "metadata": {},
   "outputs": [],
   "source": []
  }
 ],
 "metadata": {
  "kernelspec": {
   "display_name": "Python 3.8.8 ('base')",
   "language": "python",
   "name": "python3"
  },
  "language_info": {
   "codemirror_mode": {
    "name": "ipython",
    "version": 3
   },
   "file_extension": ".py",
   "mimetype": "text/x-python",
   "name": "python",
   "nbconvert_exporter": "python",
   "pygments_lexer": "ipython3",
   "version": "3.8.8"
  },
  "orig_nbformat": 4,
  "vscode": {
   "interpreter": {
    "hash": "5636f6b95148646feb0d24dbe44e68ecae31bd4665dcef46a11b1f0771f6eb91"
   }
  }
 },
 "nbformat": 4,
 "nbformat_minor": 2
}
