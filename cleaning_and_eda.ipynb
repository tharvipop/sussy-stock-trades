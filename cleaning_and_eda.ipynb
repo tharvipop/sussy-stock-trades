{
 "cells": [
  {
   "cell_type": "code",
   "execution_count": 300,
   "metadata": {},
   "outputs": [],
   "source": [
    "import pandas as pd\n",
    "import numpy as np\n",
    "import matplotlib as plt"
   ]
  },
  {
   "cell_type": "markdown",
   "metadata": {},
   "source": [
    "## Let's clean the data"
   ]
  },
  {
   "cell_type": "code",
   "execution_count": 301,
   "metadata": {},
   "outputs": [
    {
     "data": {
      "text/html": [
       "<div>\n",
       "<style scoped>\n",
       "    .dataframe tbody tr th:only-of-type {\n",
       "        vertical-align: middle;\n",
       "    }\n",
       "\n",
       "    .dataframe tbody tr th {\n",
       "        vertical-align: top;\n",
       "    }\n",
       "\n",
       "    .dataframe thead th {\n",
       "        text-align: right;\n",
       "    }\n",
       "</style>\n",
       "<table border=\"1\" class=\"dataframe\">\n",
       "  <thead>\n",
       "    <tr style=\"text-align: right;\">\n",
       "      <th></th>\n",
       "      <th>disclosure_year</th>\n",
       "      <th>disclosure_date</th>\n",
       "      <th>transaction_date</th>\n",
       "      <th>owner</th>\n",
       "      <th>ticker</th>\n",
       "      <th>asset_description</th>\n",
       "      <th>type</th>\n",
       "      <th>amount</th>\n",
       "      <th>representative</th>\n",
       "      <th>district</th>\n",
       "      <th>ptr_link</th>\n",
       "      <th>cap_gains_over_200_usd</th>\n",
       "    </tr>\n",
       "  </thead>\n",
       "  <tbody>\n",
       "    <tr>\n",
       "      <th>0</th>\n",
       "      <td>2021</td>\n",
       "      <td>10/04/2021</td>\n",
       "      <td>2021-09-27</td>\n",
       "      <td>joint</td>\n",
       "      <td>BP</td>\n",
       "      <td>BP plc</td>\n",
       "      <td>purchase</td>\n",
       "      <td>$1,001 - $15,000</td>\n",
       "      <td>Hon. Virginia Foxx</td>\n",
       "      <td>NC05</td>\n",
       "      <td>https://disclosures-clerk.house.gov/public_dis...</td>\n",
       "      <td>False</td>\n",
       "    </tr>\n",
       "    <tr>\n",
       "      <th>1</th>\n",
       "      <td>2021</td>\n",
       "      <td>10/04/2021</td>\n",
       "      <td>2021-09-13</td>\n",
       "      <td>joint</td>\n",
       "      <td>XOM</td>\n",
       "      <td>Exxon Mobil Corporation</td>\n",
       "      <td>purchase</td>\n",
       "      <td>$1,001 - $15,000</td>\n",
       "      <td>Hon. Virginia Foxx</td>\n",
       "      <td>NC05</td>\n",
       "      <td>https://disclosures-clerk.house.gov/public_dis...</td>\n",
       "      <td>False</td>\n",
       "    </tr>\n",
       "    <tr>\n",
       "      <th>2</th>\n",
       "      <td>2021</td>\n",
       "      <td>10/04/2021</td>\n",
       "      <td>2021-09-10</td>\n",
       "      <td>joint</td>\n",
       "      <td>ILPT</td>\n",
       "      <td>Industrial Logistics Properties Trust - Common...</td>\n",
       "      <td>purchase</td>\n",
       "      <td>$15,001 - $50,000</td>\n",
       "      <td>Hon. Virginia Foxx</td>\n",
       "      <td>NC05</td>\n",
       "      <td>https://disclosures-clerk.house.gov/public_dis...</td>\n",
       "      <td>False</td>\n",
       "    </tr>\n",
       "    <tr>\n",
       "      <th>3</th>\n",
       "      <td>2021</td>\n",
       "      <td>10/04/2021</td>\n",
       "      <td>2021-09-28</td>\n",
       "      <td>joint</td>\n",
       "      <td>PM</td>\n",
       "      <td>Phillip Morris International Inc</td>\n",
       "      <td>purchase</td>\n",
       "      <td>$15,001 - $50,000</td>\n",
       "      <td>Hon. Virginia Foxx</td>\n",
       "      <td>NC05</td>\n",
       "      <td>https://disclosures-clerk.house.gov/public_dis...</td>\n",
       "      <td>False</td>\n",
       "    </tr>\n",
       "    <tr>\n",
       "      <th>4</th>\n",
       "      <td>2021</td>\n",
       "      <td>10/04/2021</td>\n",
       "      <td>2021-09-17</td>\n",
       "      <td>self</td>\n",
       "      <td>BLK</td>\n",
       "      <td>BlackRock Inc</td>\n",
       "      <td>sale_partial</td>\n",
       "      <td>$1,001 - $15,000</td>\n",
       "      <td>Hon. Alan S. Lowenthal</td>\n",
       "      <td>CA47</td>\n",
       "      <td>https://disclosures-clerk.house.gov/public_dis...</td>\n",
       "      <td>False</td>\n",
       "    </tr>\n",
       "  </tbody>\n",
       "</table>\n",
       "</div>"
      ],
      "text/plain": [
       "   disclosure_year disclosure_date transaction_date  owner ticker  \\\n",
       "0             2021      10/04/2021       2021-09-27  joint     BP   \n",
       "1             2021      10/04/2021       2021-09-13  joint    XOM   \n",
       "2             2021      10/04/2021       2021-09-10  joint   ILPT   \n",
       "3             2021      10/04/2021       2021-09-28  joint     PM   \n",
       "4             2021      10/04/2021       2021-09-17   self    BLK   \n",
       "\n",
       "                                   asset_description          type  \\\n",
       "0                                             BP plc      purchase   \n",
       "1                            Exxon Mobil Corporation      purchase   \n",
       "2  Industrial Logistics Properties Trust - Common...      purchase   \n",
       "3                   Phillip Morris International Inc      purchase   \n",
       "4                                      BlackRock Inc  sale_partial   \n",
       "\n",
       "              amount          representative district  \\\n",
       "0   $1,001 - $15,000      Hon. Virginia Foxx     NC05   \n",
       "1   $1,001 - $15,000      Hon. Virginia Foxx     NC05   \n",
       "2  $15,001 - $50,000      Hon. Virginia Foxx     NC05   \n",
       "3  $15,001 - $50,000      Hon. Virginia Foxx     NC05   \n",
       "4   $1,001 - $15,000  Hon. Alan S. Lowenthal     CA47   \n",
       "\n",
       "                                            ptr_link  cap_gains_over_200_usd  \n",
       "0  https://disclosures-clerk.house.gov/public_dis...                   False  \n",
       "1  https://disclosures-clerk.house.gov/public_dis...                   False  \n",
       "2  https://disclosures-clerk.house.gov/public_dis...                   False  \n",
       "3  https://disclosures-clerk.house.gov/public_dis...                   False  \n",
       "4  https://disclosures-clerk.house.gov/public_dis...                   False  "
      ]
     },
     "execution_count": 301,
     "metadata": {},
     "output_type": "execute_result"
    }
   ],
   "source": [
    "df = pd.read_csv('data/all_transactions.csv')\n",
    "df.head(5)"
   ]
  },
  {
   "cell_type": "markdown",
   "metadata": {},
   "source": [
    "Look at the types of the columns to see which ones may need to have their types changed."
   ]
  },
  {
   "cell_type": "code",
   "execution_count": 302,
   "metadata": {},
   "outputs": [
    {
     "data": {
      "text/plain": [
       "disclosure_year            int64\n",
       "disclosure_date           object\n",
       "transaction_date          object\n",
       "owner                     object\n",
       "ticker                    object\n",
       "asset_description         object\n",
       "type                      object\n",
       "amount                    object\n",
       "representative            object\n",
       "district                  object\n",
       "ptr_link                  object\n",
       "cap_gains_over_200_usd      bool\n",
       "dtype: object"
      ]
     },
     "execution_count": 302,
     "metadata": {},
     "output_type": "execute_result"
    }
   ],
   "source": [
    "df.dtypes"
   ]
  },
  {
   "cell_type": "markdown",
   "metadata": {},
   "source": [
    "```disclosure_data``` and ```transaction_date``` can be represented in date time, but they are normal objects right now. "
   ]
  },
  {
   "cell_type": "code",
   "execution_count": 303,
   "metadata": {},
   "outputs": [
    {
     "data": {
      "text/plain": [
       "disclosure_year                    int64\n",
       "disclosure_date           datetime64[ns]\n",
       "transaction_date          datetime64[ns]\n",
       "owner                             object\n",
       "ticker                            object\n",
       "asset_description                 object\n",
       "type                              object\n",
       "amount                            object\n",
       "representative                    object\n",
       "district                          object\n",
       "ptr_link                          object\n",
       "cap_gains_over_200_usd              bool\n",
       "dtype: object"
      ]
     },
     "execution_count": 303,
     "metadata": {},
     "output_type": "execute_result"
    }
   ],
   "source": [
    "# need to have errors = 'coerce', so some weird data gets set to np.nan\n",
    "df['disclosure_date'] = pd.to_datetime(df['disclosure_date'], errors = 'coerce')\n",
    "df['transaction_date'] = pd.to_datetime(df['transaction_date'], errors = 'coerce')\n",
    "df.dtypes"
   ]
  },
  {
   "cell_type": "markdown",
   "metadata": {},
   "source": [
    "Let's clean the 'Hon. ' out of every rep's name so it becomes easier to read."
   ]
  },
  {
   "cell_type": "code",
   "execution_count": 304,
   "metadata": {},
   "outputs": [],
   "source": [
    "# regex=False to get rid of regex depracated warning\n",
    "df['representative'] = df['representative'].str.replace('Hon. ', '', regex=False)"
   ]
  },
  {
   "cell_type": "markdown",
   "metadata": {},
   "source": [
    "Let's create a `state` column so we can do groupby state if we need to in the future."
   ]
  },
  {
   "cell_type": "code",
   "execution_count": 305,
   "metadata": {},
   "outputs": [],
   "source": [
    "df['state'] = df['district'].str[:2]"
   ]
  },
  {
   "cell_type": "markdown",
   "metadata": {},
   "source": [
    "Now let's deal with the ranges in the ```amount``` column. The ranges are an issue for 2 reasons:\n",
    "\n",
    "* We can't do math with a range\n",
    "* It's harder to read"
   ]
  },
  {
   "cell_type": "markdown",
   "metadata": {},
   "source": [
    "So let's create a new column, ```amount_cleaned```, that consists of the mean of the range given in ```amount```. \n",
    "\n",
    "And for values without a range, e.g. '$1,001 -', we'll deal with those after we fill in the ranges with averages."
   ]
  },
  {
   "cell_type": "code",
   "execution_count": 306,
   "metadata": {},
   "outputs": [],
   "source": [
    "mapped_values = {\n",
    "    '$1,001 - $15,000':8_000.5,\n",
    "    '$15,001 - $50,000':32_500.5,\n",
    "    '$50,001 - $100,000':75_000.5,\n",
    "    '$100,001 - $250,000':175_000.5,\n",
    "\n",
    "    # place holder so we can calculate values by filling in average\n",
    "    '$1,001 -':-99,\n",
    "\n",
    "    '$250,001 - $500,000':375_000.5,\n",
    "    '$500,001 - $1,000,000':375_000.5,\n",
    "    '$1,000,001 - $5,000,000':3_000_000.5,\n",
    "\n",
    "    # place holder so we can calculate values by filling in average\n",
    "    '$1,000,000 +':-100,\n",
    "\n",
    "    '$5,000,001 - $25,000,000':15_000_000.5,\n",
    "    '$1,000 - $15,000':8_000,\n",
    "    '$15,000 - $50,000':32_000,\n",
    "\n",
    "    # we aren't giving 50,000,000+ a placeholder here, because we think\n",
    "    # 50,000,000+ is already too much so let's just keep the average as is.\n",
    "    '$50,000,000 +':50_000_000,\n",
    "    '$1,000,000 - $5,000,000':3_000_000,\n",
    "}\n",
    "df['amount_cleaned'] = df['amount'].replace(mapped_values)"
   ]
  },
  {
   "cell_type": "markdown",
   "metadata": {},
   "source": [
    "Now let's deal with the non-ranges.\n",
    "\n",
    "Let's find the average of ```amount_cleaned``` column when values are above $1,001 and $1,000,000 seperately."
   ]
  },
  {
   "cell_type": "code",
   "execution_count": 307,
   "metadata": {},
   "outputs": [
    {
     "data": {
      "text/plain": [
       "(53267.76, 6163265.79)"
      ]
     },
     "execution_count": 307,
     "metadata": {},
     "output_type": "execute_result"
    }
   ],
   "source": [
    "avg_above_1001 = round(df.loc[df['amount_cleaned'] >= 1_001]['amount_cleaned'].mean(), 2)\n",
    "avg_above_1_mil = round(df.loc[df['amount_cleaned'] >= 1_000_000]['amount_cleaned'].mean(), 2)\n",
    "\n",
    "avg_above_1001, avg_above_1_mil"
   ]
  },
  {
   "cell_type": "code",
   "execution_count": 308,
   "metadata": {},
   "outputs": [
    {
     "data": {
      "text/plain": [
       "8000.50        10008\n",
       "32500.50        2237\n",
       "75000.50         718\n",
       "175000.50        545\n",
       "375000.50        368\n",
       "53267.76         242\n",
       "3000000.50        38\n",
       "6163265.79        28\n",
       "15000000.50        9\n",
       "8000.00            4\n",
       "32000.00           3\n",
       "50000000.00        1\n",
       "3000000.00         1\n",
       "Name: amount_cleaned, dtype: int64"
      ]
     },
     "execution_count": 308,
     "metadata": {},
     "output_type": "execute_result"
    }
   ],
   "source": [
    "# replace -99, which maps to '$1,001 -' in 'amounts' with avg_above_1001\n",
    "df['amount_cleaned'] = df['amount_cleaned'].replace({-99: avg_above_1001})\n",
    "\n",
    "# replace -100, which maps to '$1,001 -' in 'amounts' with avg_above_1_mil\n",
    "df['amount_cleaned'] = df['amount_cleaned'].replace({-100: avg_above_1_mil})\n",
    "\n",
    "# let's make sure the -99 and -100 values are gone!\n",
    "df['amount_cleaned'].value_counts()"
   ]
  },
  {
   "cell_type": "code",
   "execution_count": 309,
   "metadata": {},
   "outputs": [
    {
     "data": {
      "text/plain": [
       "disclosure_year                    int64\n",
       "disclosure_date           datetime64[ns]\n",
       "transaction_date          datetime64[ns]\n",
       "owner                             object\n",
       "ticker                            object\n",
       "asset_description                 object\n",
       "type                              object\n",
       "amount                            object\n",
       "representative                    object\n",
       "district                          object\n",
       "ptr_link                          object\n",
       "cap_gains_over_200_usd              bool\n",
       "state                             object\n",
       "amount_cleaned                   float64\n",
       "dtype: object"
      ]
     },
     "execution_count": 309,
     "metadata": {},
     "output_type": "execute_result"
    }
   ],
   "source": [
    "# let's make sure our newly added column is of type float\n",
    "df.dtypes"
   ]
  },
  {
   "cell_type": "code",
   "execution_count": 310,
   "metadata": {},
   "outputs": [],
   "source": [
    "# df.to_csv('data/cleaned_all_transactions.csv')"
   ]
  },
  {
   "cell_type": "markdown",
   "metadata": {},
   "source": [
    "## EDA Time"
   ]
  },
  {
   "cell_type": "markdown",
   "metadata": {},
   "source": [
    "### **Univariate Analysis** - We need to look at the distributions of relevant columns separately by using DataFrame operations and drawing appropriate plots."
   ]
  },
  {
   "cell_type": "markdown",
   "metadata": {},
   "source": [
    "Note: ```value_counts()``` will help us understand the values of a column by showing us how many times each entry occurs."
   ]
  },
  {
   "cell_type": "markdown",
   "metadata": {},
   "source": [
    "Let's explore the ``disclosure_year`` columm first"
   ]
  },
  {
   "cell_type": "code",
   "execution_count": 26,
   "metadata": {},
   "outputs": [
    {
     "data": {
      "text/plain": [
       "2020    7379\n",
       "2021    5520\n",
       "2022    1303\n",
       "Name: disclosure_year, dtype: int64"
      ]
     },
     "execution_count": 26,
     "metadata": {},
     "output_type": "execute_result"
    }
   ],
   "source": [
    "# call .value_counts on 'disclosure_year'\n",
    "df['disclosure_year'].value_counts()"
   ]
  },
  {
   "cell_type": "code",
   "execution_count": 57,
   "metadata": {},
   "outputs": [
    {
     "data": {
      "image/png": "[encoded data removed]",
      "text/plain": [
       "<Figure size 432x288 with 1 Axes>"
      ]
     },
     "metadata": {
      "needs_background": "light"
     },
     "output_type": "display_data"
    }
   ],
   "source": [
    "# first call .value_counts(), then .plot(), so graph is easier to read\n",
    "df['disclosure_year'].value_counts().plot(kind = 'bar', \\\n",
    "    title = 'Year of Stock Transaction Disclosure', \\\n",
    "    xlabel = 'Year', ylabel = 'number of `stock transactions');"
   ]
  },
  {
   "cell_type": "markdown",
   "metadata": {},
   "source": [
    "Clearly **2020** was the most popular year in this data set. This doesn't mean that the reps just traded more in 2020 than in 2021 or 2022, they probably just have not disclosed trades from those two years yet."
   ]
  },
  {
   "cell_type": "markdown",
   "metadata": {},
   "source": [
    "Now let's look at the ```ticker``` column. There are too many individiual tickers (abbreviations used to uniquely identify shares of a particular stock), so we will only look at the top 20."
   ]
  },
  {
   "cell_type": "code",
   "execution_count": 258,
   "metadata": {},
   "outputs": [
    {
     "data": {
      "image/png": "[encoded data removed]",
      "text/plain": [
       "<Figure size 432x288 with 1 Axes>"
      ]
     },
     "metadata": {
      "needs_background": "light"
     },
     "output_type": "display_data"
    }
   ],
   "source": [
    "df['ticker'].value_counts()[:20].plot(kind = 'barh', \\\n",
    "    title = '20 Most Popular Stock Transactions by Ticker', \\\n",
    "    xlabel = 'ticker', ylabel = 'number of transactions');"
   ]
  },
  {
   "cell_type": "markdown",
   "metadata": {},
   "source": [
    "Clearly, the most popular stock trades are in tech:\n",
    "* Microsoft\n",
    "* Apple\n",
    "* NetApp\n",
    "* FaceBook (Meta)\n",
    "* Amazon\n",
    "* Tesla\n",
    "* and so on...\n",
    "\n",
    "But there is even a Fed Fund:\n",
    "*  BLF FedFund (TDDXX)\n",
    "\n",
    "\n",
    "**Surprised rich people are investing in fed funds?**\n",
    "\n",
    "**Hey, maybe the old people in the House of Representatives *really do care***\n",
    "**about their retirement funds!**\n",
    "\n",
    "\n",
    "The biggest surprise, however, is the most popular ticker, '--', which isn't even a stock. What is '--'? Further digging will be done soon."
   ]
  },
  {
   "cell_type": "markdown",
   "metadata": {},
   "source": [
    "Now let's look at the ```amount_cleaned``` column, to see how much of that 💰💸🤑 reps bring in."
   ]
  },
  {
   "cell_type": "code",
   "execution_count": 278,
   "metadata": {},
   "outputs": [
    {
     "data": {
      "text/plain": [
       "8000.50        10008\n",
       "32500.50        2237\n",
       "75000.50         718\n",
       "175000.50        545\n",
       "375000.50        368\n",
       "53267.76         242\n",
       "3000000.50        38\n",
       "6163265.79        28\n",
       "15000000.50        9\n",
       "8000.00            4\n",
       "32000.00           3\n",
       "50000000.00        1\n",
       "3000000.00         1\n",
       "Name: amount_cleaned, dtype: int64"
      ]
     },
     "execution_count": 278,
     "metadata": {},
     "output_type": "execute_result"
    }
   ],
   "source": [
    "df['amount_cleaned'].value_counts()"
   ]
  },
  {
   "cell_type": "code",
   "execution_count": 280,
   "metadata": {},
   "outputs": [
    {
     "data": {
      "image/png": "[encoded data removed]",
      "text/plain": [
       "<Figure size 432x288 with 1 Axes>"
      ]
     },
     "metadata": {
      "needs_background": "light"
     },
     "output_type": "display_data"
    }
   ],
   "source": [
    "# first call .value_counts(), then .plot(), so graph is easier to read\n",
    "df['amount_cleaned'].value_counts().plot(kind = 'bar', \\\n",
    "    title = 'How many transactions reps make, by size', ylabel = 'Number of transactions', \\\n",
    "    xlabel = 'Transaction Amount (averaged)');"
   ]
  },
  {
   "cell_type": "markdown",
   "metadata": {},
   "source": [
    "Wow! An overwhelming majority of stock trades are averaged out to $8000.5, **that we cannot even estimate how many transactions are done for any transaction above $53267.76**"
   ]
  },
  {
   "cell_type": "markdown",
   "metadata": {},
   "source": [
    "### **Bivariate Analysis** - We need to look at the statistics of pairs of columns to identify possible associations. "
   ]
  },
  {
   "cell_type": "markdown",
   "metadata": {},
   "source": [
    "Let's see what we can find out if we group ```amount_cleaned``` and ```cap_gains_over_200_usd```"
   ]
  },
  {
   "cell_type": "code",
   "execution_count": 296,
   "metadata": {},
   "outputs": [
    {
     "data": {
      "image/png": "[encoded data removed]",
      "text/plain": [
       "<Figure size 432x288 with 1 Axes>"
      ]
     },
     "metadata": {
      "needs_background": "light"
     },
     "output_type": "display_data"
    }
   ],
   "source": [
    "df[['amount_cleaned', 'cap_gains_over_200_usd']].value_counts().plot(kind = 'barh');"
   ]
  },
  {
   "cell_type": "markdown",
   "metadata": {},
   "source": [
    "Clearly, the three most popular categories of trade are:\n",
    "* $8000.5 and NO capital gains above $200\n",
    "* $32500.5 and NO capital gains above $200\n",
    "* $75,000.5 and NO capital gains above $200\n",
    "\n",
    "Reps need to realize they ain't so good at trading huh 🤣"
   ]
  },
  {
   "cell_type": "markdown",
   "metadata": {},
   "source": [
    "### **Interesting Aggregate Statistics / Pivots**"
   ]
  },
  {
   "cell_type": "markdown",
   "metadata": {},
   "source": [
    "... But maybe, Reps. Patrick T. McHenry, Mr. TJ John (Tj) Cox, and Tim Burchett really are pros, with a 100% ```cap_gains_over_200_usd``` proportion score."
   ]
  },
  {
   "cell_type": "code",
   "execution_count": 294,
   "metadata": {},
   "outputs": [
    {
     "data": {
      "text/html": [
       "<div>\n",
       "<style scoped>\n",
       "    .dataframe tbody tr th:only-of-type {\n",
       "        vertical-align: middle;\n",
       "    }\n",
       "\n",
       "    .dataframe tbody tr th {\n",
       "        vertical-align: top;\n",
       "    }\n",
       "\n",
       "    .dataframe thead th {\n",
       "        text-align: right;\n",
       "    }\n",
       "</style>\n",
       "<table border=\"1\" class=\"dataframe\">\n",
       "  <thead>\n",
       "    <tr style=\"text-align: right;\">\n",
       "      <th></th>\n",
       "      <th>cap_gains_over_200_usd</th>\n",
       "    </tr>\n",
       "    <tr>\n",
       "      <th>representative</th>\n",
       "      <th></th>\n",
       "    </tr>\n",
       "  </thead>\n",
       "  <tbody>\n",
       "    <tr>\n",
       "      <th>Hon. Tim Burchett</th>\n",
       "      <td>1.000000</td>\n",
       "    </tr>\n",
       "    <tr>\n",
       "      <th>Mr. TJ John (Tj) Cox</th>\n",
       "      <td>1.000000</td>\n",
       "    </tr>\n",
       "    <tr>\n",
       "      <th>Hon. Patrick T. McHenry</th>\n",
       "      <td>1.000000</td>\n",
       "    </tr>\n",
       "    <tr>\n",
       "      <th>Mr. Peter Meijer</th>\n",
       "      <td>0.902256</td>\n",
       "    </tr>\n",
       "    <tr>\n",
       "      <th>Hon. Bradley S. Schneider</th>\n",
       "      <td>0.777778</td>\n",
       "    </tr>\n",
       "    <tr>\n",
       "      <th>...</th>\n",
       "      <td>...</td>\n",
       "    </tr>\n",
       "    <tr>\n",
       "      <th>Hon. Harold Dallas Rogers</th>\n",
       "      <td>0.000000</td>\n",
       "    </tr>\n",
       "    <tr>\n",
       "      <th>Hon. Harley E. Rouda</th>\n",
       "      <td>0.000000</td>\n",
       "    </tr>\n",
       "    <tr>\n",
       "      <th>Hon. Gus M. Bilirakis</th>\n",
       "      <td>0.000000</td>\n",
       "    </tr>\n",
       "    <tr>\n",
       "      <th>Hon. Greg Steube</th>\n",
       "      <td>0.000000</td>\n",
       "    </tr>\n",
       "    <tr>\n",
       "      <th>None Victoria Spartz</th>\n",
       "      <td>0.000000</td>\n",
       "    </tr>\n",
       "  </tbody>\n",
       "</table>\n",
       "<p>178 rows × 1 columns</p>\n",
       "</div>"
      ],
      "text/plain": [
       "                           cap_gains_over_200_usd\n",
       "representative                                   \n",
       "Hon. Tim Burchett                        1.000000\n",
       "Mr. TJ John (Tj) Cox                     1.000000\n",
       "Hon. Patrick T. McHenry                  1.000000\n",
       "Mr. Peter Meijer                         0.902256\n",
       "Hon. Bradley S. Schneider                0.777778\n",
       "...                                           ...\n",
       "Hon. Harold Dallas Rogers                0.000000\n",
       "Hon. Harley E. Rouda                     0.000000\n",
       "Hon. Gus M. Bilirakis                    0.000000\n",
       "Hon. Greg Steube                         0.000000\n",
       "None Victoria Spartz                     0.000000\n",
       "\n",
       "[178 rows x 1 columns]"
      ]
     },
     "execution_count": 294,
     "metadata": {},
     "output_type": "execute_result"
    }
   ],
   "source": [
    "(\n",
    "    df.pivot_table(index = 'representative', values = 'cap_gains_over_200_usd')\n",
    "    .sort_values(by='cap_gains_over_200_usd', ascending=False)\n",
    ")"
   ]
  },
  {
   "cell_type": "markdown",
   "metadata": {},
   "source": [
    "Which state has the highest average number of trades that result in capital gains over $200?\n",
    "Michigan! With a pretty mind blowing result of 77% 🤯\n",
    "\n",
    "**Note:** The first that may come to mind is that Michigan may have had a ```high cap_gains_over_200_usd``` value for relatively small trades, in the $1,000 - $15,000 category, and low numbers in the rest. This would have induced Simpson's paradox. But we checked with another pivot table, and it is the case that Michigan has ```high cap_gains_over_200_usd``` values for *all* amount categories. "
   ]
  },
  {
   "cell_type": "code",
   "execution_count": 102,
   "metadata": {},
   "outputs": [
    {
     "data": {
      "text/html": [
       "<div>\n",
       "<style scoped>\n",
       "    .dataframe tbody tr th:only-of-type {\n",
       "        vertical-align: middle;\n",
       "    }\n",
       "\n",
       "    .dataframe tbody tr th {\n",
       "        vertical-align: top;\n",
       "    }\n",
       "\n",
       "    .dataframe thead th {\n",
       "        text-align: right;\n",
       "    }\n",
       "</style>\n",
       "<table border=\"1\" class=\"dataframe\">\n",
       "  <thead>\n",
       "    <tr style=\"text-align: right;\">\n",
       "      <th></th>\n",
       "      <th>cap_gains_over_200_usd</th>\n",
       "    </tr>\n",
       "    <tr>\n",
       "      <th>state</th>\n",
       "      <th></th>\n",
       "    </tr>\n",
       "  </thead>\n",
       "  <tbody>\n",
       "    <tr>\n",
       "      <th>MI</th>\n",
       "      <td>0.772871</td>\n",
       "    </tr>\n",
       "    <tr>\n",
       "      <th>SC</th>\n",
       "      <td>0.379310</td>\n",
       "    </tr>\n",
       "    <tr>\n",
       "      <th>NY</th>\n",
       "      <td>0.280702</td>\n",
       "    </tr>\n",
       "    <tr>\n",
       "      <th>ID</th>\n",
       "      <td>0.222222</td>\n",
       "    </tr>\n",
       "    <tr>\n",
       "      <th>LA</th>\n",
       "      <td>0.222222</td>\n",
       "    </tr>\n",
       "  </tbody>\n",
       "</table>\n",
       "</div>"
      ],
      "text/plain": [
       "       cap_gains_over_200_usd\n",
       "state                        \n",
       "MI                   0.772871\n",
       "SC                   0.379310\n",
       "NY                   0.280702\n",
       "ID                   0.222222\n",
       "LA                   0.222222"
      ]
     },
     "execution_count": 102,
     "metadata": {},
     "output_type": "execute_result"
    }
   ],
   "source": [
    "(\n",
    "    df.pivot_table(index = 'state', values = 'cap_gains_over_200_usd')\n",
    "    .sort_values(by = 'cap_gains_over_200_usd', ascending=False)\n",
    "    .head(5)\n",
    ")"
   ]
  },
  {
   "cell_type": "code",
   "execution_count": 313,
   "metadata": {},
   "outputs": [
    {
     "data": {
      "text/html": [
       "<div>\n",
       "<style scoped>\n",
       "    .dataframe tbody tr th:only-of-type {\n",
       "        vertical-align: middle;\n",
       "    }\n",
       "\n",
       "    .dataframe tbody tr th {\n",
       "        vertical-align: top;\n",
       "    }\n",
       "\n",
       "    .dataframe thead th {\n",
       "        text-align: right;\n",
       "    }\n",
       "</style>\n",
       "<table border=\"1\" class=\"dataframe\">\n",
       "  <thead>\n",
       "    <tr style=\"text-align: right;\">\n",
       "      <th>type</th>\n",
       "      <th>exchange</th>\n",
       "      <th>purchase</th>\n",
       "      <th>sale_full</th>\n",
       "      <th>sale_partial</th>\n",
       "    </tr>\n",
       "    <tr>\n",
       "      <th>amount_cleaned</th>\n",
       "      <th></th>\n",
       "      <th></th>\n",
       "      <th></th>\n",
       "      <th></th>\n",
       "    </tr>\n",
       "  </thead>\n",
       "  <tbody>\n",
       "    <tr>\n",
       "      <th>8000.00</th>\n",
       "      <td>NaN</td>\n",
       "      <td>NaN</td>\n",
       "      <td>0.000000</td>\n",
       "      <td>0.000000</td>\n",
       "    </tr>\n",
       "    <tr>\n",
       "      <th>8000.50</th>\n",
       "      <td>0.0</td>\n",
       "      <td>0.001744</td>\n",
       "      <td>0.101849</td>\n",
       "      <td>0.184381</td>\n",
       "    </tr>\n",
       "    <tr>\n",
       "      <th>32000.00</th>\n",
       "      <td>NaN</td>\n",
       "      <td>NaN</td>\n",
       "      <td>0.000000</td>\n",
       "      <td>0.000000</td>\n",
       "    </tr>\n",
       "    <tr>\n",
       "      <th>32500.50</th>\n",
       "      <td>0.0</td>\n",
       "      <td>0.001589</td>\n",
       "      <td>0.188703</td>\n",
       "      <td>0.230337</td>\n",
       "    </tr>\n",
       "    <tr>\n",
       "      <th>53267.76</th>\n",
       "      <td>0.0</td>\n",
       "      <td>0.000000</td>\n",
       "      <td>0.272727</td>\n",
       "      <td>0.103175</td>\n",
       "    </tr>\n",
       "    <tr>\n",
       "      <th>75000.50</th>\n",
       "      <td>0.0</td>\n",
       "      <td>0.007712</td>\n",
       "      <td>0.131148</td>\n",
       "      <td>0.311475</td>\n",
       "    </tr>\n",
       "    <tr>\n",
       "      <th>175000.50</th>\n",
       "      <td>0.0</td>\n",
       "      <td>0.000000</td>\n",
       "      <td>0.105505</td>\n",
       "      <td>0.325000</td>\n",
       "    </tr>\n",
       "    <tr>\n",
       "      <th>375000.50</th>\n",
       "      <td>0.0</td>\n",
       "      <td>0.000000</td>\n",
       "      <td>0.068323</td>\n",
       "      <td>0.433333</td>\n",
       "    </tr>\n",
       "    <tr>\n",
       "      <th>3000000.00</th>\n",
       "      <td>NaN</td>\n",
       "      <td>NaN</td>\n",
       "      <td>0.000000</td>\n",
       "      <td>NaN</td>\n",
       "    </tr>\n",
       "    <tr>\n",
       "      <th>3000000.50</th>\n",
       "      <td>0.0</td>\n",
       "      <td>0.000000</td>\n",
       "      <td>0.000000</td>\n",
       "      <td>0.666667</td>\n",
       "    </tr>\n",
       "    <tr>\n",
       "      <th>6163265.79</th>\n",
       "      <td>NaN</td>\n",
       "      <td>0.000000</td>\n",
       "      <td>0.076923</td>\n",
       "      <td>0.000000</td>\n",
       "    </tr>\n",
       "    <tr>\n",
       "      <th>15000000.50</th>\n",
       "      <td>NaN</td>\n",
       "      <td>0.000000</td>\n",
       "      <td>0.333333</td>\n",
       "      <td>0.000000</td>\n",
       "    </tr>\n",
       "    <tr>\n",
       "      <th>50000000.00</th>\n",
       "      <td>NaN</td>\n",
       "      <td>NaN</td>\n",
       "      <td>0.000000</td>\n",
       "      <td>NaN</td>\n",
       "    </tr>\n",
       "  </tbody>\n",
       "</table>\n",
       "</div>"
      ],
      "text/plain": [
       "type            exchange  purchase  sale_full  sale_partial\n",
       "amount_cleaned                                             \n",
       "8000.00              NaN       NaN   0.000000      0.000000\n",
       "8000.50              0.0  0.001744   0.101849      0.184381\n",
       "32000.00             NaN       NaN   0.000000      0.000000\n",
       "32500.50             0.0  0.001589   0.188703      0.230337\n",
       "53267.76             0.0  0.000000   0.272727      0.103175\n",
       "75000.50             0.0  0.007712   0.131148      0.311475\n",
       "175000.50            0.0  0.000000   0.105505      0.325000\n",
       "375000.50            0.0  0.000000   0.068323      0.433333\n",
       "3000000.00           NaN       NaN   0.000000           NaN\n",
       "3000000.50           0.0  0.000000   0.000000      0.666667\n",
       "6163265.79           NaN  0.000000   0.076923      0.000000\n",
       "15000000.50          NaN  0.000000   0.333333      0.000000\n",
       "50000000.00          NaN       NaN   0.000000           NaN"
      ]
     },
     "execution_count": 313,
     "metadata": {},
     "output_type": "execute_result"
    }
   ],
   "source": [
    "df.pivot_table(index='amount_cleaned', values='cap_gains_over_200_usd', columns='type')"
   ]
  },
  {
   "cell_type": "code",
   "execution_count": null,
   "metadata": {},
   "outputs": [],
   "source": []
  }
 ],
 "metadata": {
  "interpreter": {
   "hash": "5295a267c55f180e60e71387ea73cc020fddd40d0e79d6e49d9e5453acf0c9a9"
  },
  "kernelspec": {
   "display_name": "Python 3.8.12 ('dsc80')",
   "language": "python",
   "name": "python3"
  },
  "language_info": {
   "codemirror_mode": {
    "name": "ipython",
    "version": 3
   },
   "file_extension": ".py",
   "mimetype": "text/x-python",
   "name": "python",
   "nbconvert_exporter": "python",
   "pygments_lexer": "ipython3",
   "version": "3.8.12"
  },
  "orig_nbformat": 4
 },
 "nbformat": 4,
 "nbformat_minor": 2
}
