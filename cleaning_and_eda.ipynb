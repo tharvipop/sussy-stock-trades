{
 "cells": [
  {
   "cell_type": "code",
   "execution_count": 11,
   "metadata": {},
   "outputs": [],
   "source": [
    "import pandas as pd\n",
    "import numpy as np\n",
    "import matplotlib as plt"
   ]
  },
  {
   "cell_type": "markdown",
   "metadata": {},
   "source": [
    "## Let's clean the data"
   ]
  },
  {
   "cell_type": "code",
   "execution_count": 2,
   "metadata": {},
   "outputs": [
    {
     "data": {
      "text/html": [
       "<div>\n",
       "<style scoped>\n",
       "    .dataframe tbody tr th:only-of-type {\n",
       "        vertical-align: middle;\n",
       "    }\n",
       "\n",
       "    .dataframe tbody tr th {\n",
       "        vertical-align: top;\n",
       "    }\n",
       "\n",
       "    .dataframe thead th {\n",
       "        text-align: right;\n",
       "    }\n",
       "</style>\n",
       "<table border=\"1\" class=\"dataframe\">\n",
       "  <thead>\n",
       "    <tr style=\"text-align: right;\">\n",
       "      <th></th>\n",
       "      <th>disclosure_year</th>\n",
       "      <th>disclosure_date</th>\n",
       "      <th>transaction_date</th>\n",
       "      <th>owner</th>\n",
       "      <th>ticker</th>\n",
       "      <th>asset_description</th>\n",
       "      <th>type</th>\n",
       "      <th>amount</th>\n",
       "      <th>representative</th>\n",
       "      <th>district</th>\n",
       "      <th>ptr_link</th>\n",
       "      <th>cap_gains_over_200_usd</th>\n",
       "    </tr>\n",
       "  </thead>\n",
       "  <tbody>\n",
       "    <tr>\n",
       "      <th>0</th>\n",
       "      <td>2021</td>\n",
       "      <td>10/04/2021</td>\n",
       "      <td>2021-09-27</td>\n",
       "      <td>joint</td>\n",
       "      <td>BP</td>\n",
       "      <td>BP plc</td>\n",
       "      <td>purchase</td>\n",
       "      <td>$1,001 - $15,000</td>\n",
       "      <td>Hon. Virginia Foxx</td>\n",
       "      <td>NC05</td>\n",
       "      <td>https://disclosures-clerk.house.gov/public_dis...</td>\n",
       "      <td>False</td>\n",
       "    </tr>\n",
       "    <tr>\n",
       "      <th>1</th>\n",
       "      <td>2021</td>\n",
       "      <td>10/04/2021</td>\n",
       "      <td>2021-09-13</td>\n",
       "      <td>joint</td>\n",
       "      <td>XOM</td>\n",
       "      <td>Exxon Mobil Corporation</td>\n",
       "      <td>purchase</td>\n",
       "      <td>$1,001 - $15,000</td>\n",
       "      <td>Hon. Virginia Foxx</td>\n",
       "      <td>NC05</td>\n",
       "      <td>https://disclosures-clerk.house.gov/public_dis...</td>\n",
       "      <td>False</td>\n",
       "    </tr>\n",
       "    <tr>\n",
       "      <th>2</th>\n",
       "      <td>2021</td>\n",
       "      <td>10/04/2021</td>\n",
       "      <td>2021-09-10</td>\n",
       "      <td>joint</td>\n",
       "      <td>ILPT</td>\n",
       "      <td>Industrial Logistics Properties Trust - Common...</td>\n",
       "      <td>purchase</td>\n",
       "      <td>$15,001 - $50,000</td>\n",
       "      <td>Hon. Virginia Foxx</td>\n",
       "      <td>NC05</td>\n",
       "      <td>https://disclosures-clerk.house.gov/public_dis...</td>\n",
       "      <td>False</td>\n",
       "    </tr>\n",
       "    <tr>\n",
       "      <th>3</th>\n",
       "      <td>2021</td>\n",
       "      <td>10/04/2021</td>\n",
       "      <td>2021-09-28</td>\n",
       "      <td>joint</td>\n",
       "      <td>PM</td>\n",
       "      <td>Phillip Morris International Inc</td>\n",
       "      <td>purchase</td>\n",
       "      <td>$15,001 - $50,000</td>\n",
       "      <td>Hon. Virginia Foxx</td>\n",
       "      <td>NC05</td>\n",
       "      <td>https://disclosures-clerk.house.gov/public_dis...</td>\n",
       "      <td>False</td>\n",
       "    </tr>\n",
       "    <tr>\n",
       "      <th>4</th>\n",
       "      <td>2021</td>\n",
       "      <td>10/04/2021</td>\n",
       "      <td>2021-09-17</td>\n",
       "      <td>self</td>\n",
       "      <td>BLK</td>\n",
       "      <td>BlackRock Inc</td>\n",
       "      <td>sale_partial</td>\n",
       "      <td>$1,001 - $15,000</td>\n",
       "      <td>Hon. Alan S. Lowenthal</td>\n",
       "      <td>CA47</td>\n",
       "      <td>https://disclosures-clerk.house.gov/public_dis...</td>\n",
       "      <td>False</td>\n",
       "    </tr>\n",
       "  </tbody>\n",
       "</table>\n",
       "</div>"
      ],
      "text/plain": [
       "   disclosure_year disclosure_date transaction_date  owner ticker  \\\n",
       "0             2021      10/04/2021       2021-09-27  joint     BP   \n",
       "1             2021      10/04/2021       2021-09-13  joint    XOM   \n",
       "2             2021      10/04/2021       2021-09-10  joint   ILPT   \n",
       "3             2021      10/04/2021       2021-09-28  joint     PM   \n",
       "4             2021      10/04/2021       2021-09-17   self    BLK   \n",
       "\n",
       "                                   asset_description          type  \\\n",
       "0                                             BP plc      purchase   \n",
       "1                            Exxon Mobil Corporation      purchase   \n",
       "2  Industrial Logistics Properties Trust - Common...      purchase   \n",
       "3                   Phillip Morris International Inc      purchase   \n",
       "4                                      BlackRock Inc  sale_partial   \n",
       "\n",
       "              amount          representative district  \\\n",
       "0   $1,001 - $15,000      Hon. Virginia Foxx     NC05   \n",
       "1   $1,001 - $15,000      Hon. Virginia Foxx     NC05   \n",
       "2  $15,001 - $50,000      Hon. Virginia Foxx     NC05   \n",
       "3  $15,001 - $50,000      Hon. Virginia Foxx     NC05   \n",
       "4   $1,001 - $15,000  Hon. Alan S. Lowenthal     CA47   \n",
       "\n",
       "                                            ptr_link  cap_gains_over_200_usd  \n",
       "0  https://disclosures-clerk.house.gov/public_dis...                   False  \n",
       "1  https://disclosures-clerk.house.gov/public_dis...                   False  \n",
       "2  https://disclosures-clerk.house.gov/public_dis...                   False  \n",
       "3  https://disclosures-clerk.house.gov/public_dis...                   False  \n",
       "4  https://disclosures-clerk.house.gov/public_dis...                   False  "
      ]
     },
     "execution_count": 2,
     "metadata": {},
     "output_type": "execute_result"
    }
   ],
   "source": [
    "df = pd.read_csv('data/all_transactions.csv')\n",
    "df.head(5)"
   ]
  },
  {
   "cell_type": "markdown",
   "metadata": {},
   "source": [
    "Look at the types of the columns to see which ones may need to have their types changed."
   ]
  },
  {
   "cell_type": "code",
   "execution_count": 3,
   "metadata": {},
   "outputs": [
    {
     "data": {
      "text/plain": [
       "disclosure_year            int64\n",
       "disclosure_date           object\n",
       "transaction_date          object\n",
       "owner                     object\n",
       "ticker                    object\n",
       "asset_description         object\n",
       "type                      object\n",
       "amount                    object\n",
       "representative            object\n",
       "district                  object\n",
       "ptr_link                  object\n",
       "cap_gains_over_200_usd      bool\n",
       "dtype: object"
      ]
     },
     "execution_count": 3,
     "metadata": {},
     "output_type": "execute_result"
    }
   ],
   "source": [
    "df.dtypes"
   ]
  },
  {
   "cell_type": "markdown",
   "metadata": {},
   "source": [
    "disclosure_data and transaction_date can be represented in date time, but they are normal objects right now. "
   ]
  },
  {
   "cell_type": "code",
   "execution_count": 4,
   "metadata": {},
   "outputs": [
    {
     "data": {
      "text/plain": [
       "disclosure_year                    int64\n",
       "disclosure_date           datetime64[ns]\n",
       "transaction_date          datetime64[ns]\n",
       "owner                             object\n",
       "ticker                            object\n",
       "asset_description                 object\n",
       "type                              object\n",
       "amount                            object\n",
       "representative                    object\n",
       "district                          object\n",
       "ptr_link                          object\n",
       "cap_gains_over_200_usd              bool\n",
       "dtype: object"
      ]
     },
     "execution_count": 4,
     "metadata": {},
     "output_type": "execute_result"
    }
   ],
   "source": [
    "df['disclosure_date'] = pd.to_datetime(df['disclosure_date'], errors = 'coerce')\n",
    "df['transaction_date'] = pd.to_datetime(df['transaction_date'], errors = 'coerce')\n",
    "df.dtypes"
   ]
  },
  {
   "cell_type": "markdown",
   "metadata": {},
   "source": [
    "Let's clean the 'Hon. ' out of every rep's name so it becomes easier to read."
   ]
  },
  {
   "cell_type": "code",
   "execution_count": 5,
   "metadata": {},
   "outputs": [
    {
     "name": "stderr",
     "output_type": "stream",
     "text": [
      "/var/folders/3k/d13l9xy576xd1j71sdj55ttc0000gn/T/ipykernel_18471/1258939511.py:1: FutureWarning: The default value of regex will change from True to False in a future version.\n",
      "  df['representative'] = df['representative'].str.replace('Hon. ', '')\n"
     ]
    }
   ],
   "source": [
    "df['representative'] = df['representative'].str.replace('Hon. ', '')"
   ]
  },
  {
   "cell_type": "markdown",
   "metadata": {},
   "source": [
    "Let's create a 'state' column so we can do groupby state if we need to in the future."
   ]
  },
  {
   "cell_type": "code",
   "execution_count": 6,
   "metadata": {},
   "outputs": [],
   "source": [
    "df['state'] = df['district'].str[:2]"
   ]
  },
  {
   "cell_type": "markdown",
   "metadata": {},
   "source": [
    "All done!"
   ]
  },
  {
   "cell_type": "code",
   "execution_count": 25,
   "metadata": {},
   "outputs": [
    {
     "data": {
      "text/html": [
       "<div>\n",
       "<style scoped>\n",
       "    .dataframe tbody tr th:only-of-type {\n",
       "        vertical-align: middle;\n",
       "    }\n",
       "\n",
       "    .dataframe tbody tr th {\n",
       "        vertical-align: top;\n",
       "    }\n",
       "\n",
       "    .dataframe thead th {\n",
       "        text-align: right;\n",
       "    }\n",
       "</style>\n",
       "<table border=\"1\" class=\"dataframe\">\n",
       "  <thead>\n",
       "    <tr style=\"text-align: right;\">\n",
       "      <th></th>\n",
       "      <th>disclosure_year</th>\n",
       "      <th>disclosure_date</th>\n",
       "      <th>transaction_date</th>\n",
       "      <th>owner</th>\n",
       "      <th>ticker</th>\n",
       "      <th>asset_description</th>\n",
       "      <th>type</th>\n",
       "      <th>amount</th>\n",
       "      <th>representative</th>\n",
       "      <th>district</th>\n",
       "      <th>ptr_link</th>\n",
       "      <th>cap_gains_over_200_usd</th>\n",
       "      <th>state</th>\n",
       "    </tr>\n",
       "  </thead>\n",
       "  <tbody>\n",
       "    <tr>\n",
       "      <th>0</th>\n",
       "      <td>2021</td>\n",
       "      <td>2021-10-04</td>\n",
       "      <td>2021-09-27</td>\n",
       "      <td>joint</td>\n",
       "      <td>BP</td>\n",
       "      <td>BP plc</td>\n",
       "      <td>purchase</td>\n",
       "      <td>$1,001 - $15,000</td>\n",
       "      <td>Virginia Foxx</td>\n",
       "      <td>NC05</td>\n",
       "      <td>https://disclosures-clerk.house.gov/public_dis...</td>\n",
       "      <td>False</td>\n",
       "      <td>NC</td>\n",
       "    </tr>\n",
       "    <tr>\n",
       "      <th>1</th>\n",
       "      <td>2021</td>\n",
       "      <td>2021-10-04</td>\n",
       "      <td>2021-09-13</td>\n",
       "      <td>joint</td>\n",
       "      <td>XOM</td>\n",
       "      <td>Exxon Mobil Corporation</td>\n",
       "      <td>purchase</td>\n",
       "      <td>$1,001 - $15,000</td>\n",
       "      <td>Virginia Foxx</td>\n",
       "      <td>NC05</td>\n",
       "      <td>https://disclosures-clerk.house.gov/public_dis...</td>\n",
       "      <td>False</td>\n",
       "      <td>NC</td>\n",
       "    </tr>\n",
       "    <tr>\n",
       "      <th>2</th>\n",
       "      <td>2021</td>\n",
       "      <td>2021-10-04</td>\n",
       "      <td>2021-09-10</td>\n",
       "      <td>joint</td>\n",
       "      <td>ILPT</td>\n",
       "      <td>Industrial Logistics Properties Trust - Common...</td>\n",
       "      <td>purchase</td>\n",
       "      <td>$15,001 - $50,000</td>\n",
       "      <td>Virginia Foxx</td>\n",
       "      <td>NC05</td>\n",
       "      <td>https://disclosures-clerk.house.gov/public_dis...</td>\n",
       "      <td>False</td>\n",
       "      <td>NC</td>\n",
       "    </tr>\n",
       "    <tr>\n",
       "      <th>3</th>\n",
       "      <td>2021</td>\n",
       "      <td>2021-10-04</td>\n",
       "      <td>2021-09-28</td>\n",
       "      <td>joint</td>\n",
       "      <td>PM</td>\n",
       "      <td>Phillip Morris International Inc</td>\n",
       "      <td>purchase</td>\n",
       "      <td>$15,001 - $50,000</td>\n",
       "      <td>Virginia Foxx</td>\n",
       "      <td>NC05</td>\n",
       "      <td>https://disclosures-clerk.house.gov/public_dis...</td>\n",
       "      <td>False</td>\n",
       "      <td>NC</td>\n",
       "    </tr>\n",
       "    <tr>\n",
       "      <th>4</th>\n",
       "      <td>2021</td>\n",
       "      <td>2021-10-04</td>\n",
       "      <td>2021-09-17</td>\n",
       "      <td>self</td>\n",
       "      <td>BLK</td>\n",
       "      <td>BlackRock Inc</td>\n",
       "      <td>sale_partial</td>\n",
       "      <td>$1,001 - $15,000</td>\n",
       "      <td>Alan S. Lowenthal</td>\n",
       "      <td>CA47</td>\n",
       "      <td>https://disclosures-clerk.house.gov/public_dis...</td>\n",
       "      <td>False</td>\n",
       "      <td>CA</td>\n",
       "    </tr>\n",
       "  </tbody>\n",
       "</table>\n",
       "</div>"
      ],
      "text/plain": [
       "   disclosure_year disclosure_date transaction_date  owner ticker  \\\n",
       "0             2021      2021-10-04       2021-09-27  joint     BP   \n",
       "1             2021      2021-10-04       2021-09-13  joint    XOM   \n",
       "2             2021      2021-10-04       2021-09-10  joint   ILPT   \n",
       "3             2021      2021-10-04       2021-09-28  joint     PM   \n",
       "4             2021      2021-10-04       2021-09-17   self    BLK   \n",
       "\n",
       "                                   asset_description          type  \\\n",
       "0                                             BP plc      purchase   \n",
       "1                            Exxon Mobil Corporation      purchase   \n",
       "2  Industrial Logistics Properties Trust - Common...      purchase   \n",
       "3                   Phillip Morris International Inc      purchase   \n",
       "4                                      BlackRock Inc  sale_partial   \n",
       "\n",
       "              amount     representative district  \\\n",
       "0   $1,001 - $15,000      Virginia Foxx     NC05   \n",
       "1   $1,001 - $15,000      Virginia Foxx     NC05   \n",
       "2  $15,001 - $50,000      Virginia Foxx     NC05   \n",
       "3  $15,001 - $50,000      Virginia Foxx     NC05   \n",
       "4   $1,001 - $15,000  Alan S. Lowenthal     CA47   \n",
       "\n",
       "                                            ptr_link  cap_gains_over_200_usd  \\\n",
       "0  https://disclosures-clerk.house.gov/public_dis...                   False   \n",
       "1  https://disclosures-clerk.house.gov/public_dis...                   False   \n",
       "2  https://disclosures-clerk.house.gov/public_dis...                   False   \n",
       "3  https://disclosures-clerk.house.gov/public_dis...                   False   \n",
       "4  https://disclosures-clerk.house.gov/public_dis...                   False   \n",
       "\n",
       "  state  \n",
       "0    NC  \n",
       "1    NC  \n",
       "2    NC  \n",
       "3    NC  \n",
       "4    CA  "
      ]
     },
     "execution_count": 25,
     "metadata": {},
     "output_type": "execute_result"
    }
   ],
   "source": [
    "df.head(5)"
   ]
  },
  {
   "cell_type": "code",
   "execution_count": 8,
   "metadata": {},
   "outputs": [],
   "source": [
    "# df.to_csv('data/cleaned_all_transactions.csv')"
   ]
  },
  {
   "cell_type": "markdown",
   "metadata": {},
   "source": [
    "## EDA Time"
   ]
  },
  {
   "cell_type": "markdown",
   "metadata": {},
   "source": [
    "### Univariate Analysis"
   ]
  },
  {
   "cell_type": "markdown",
   "metadata": {},
   "source": [
    "We need to look at the distributions of relevant columns separately by using DataFrame operations and drawing appropriate plots. ```value_counts()``` will help us understand the values of a column."
   ]
  },
  {
   "cell_type": "markdown",
   "metadata": {},
   "source": [
    "Let's explore the ``disclosure_year`` columm first"
   ]
  },
  {
   "cell_type": "code",
   "execution_count": 26,
   "metadata": {},
   "outputs": [
    {
     "data": {
      "text/plain": [
       "2020    7379\n",
       "2021    5520\n",
       "2022    1303\n",
       "Name: disclosure_year, dtype: int64"
      ]
     },
     "execution_count": 26,
     "metadata": {},
     "output_type": "execute_result"
    }
   ],
   "source": [
    "# call .value_counts on 'disclosure_year\n",
    "df['disclosure_year'].value_counts()"
   ]
  },
  {
   "cell_type": "code",
   "execution_count": 32,
   "metadata": {},
   "outputs": [
    {
     "data": {
      "image/png": "[encoded data removed]",
      "text/plain": [
       "<Figure size 432x288 with 1 Axes>"
      ]
     },
     "metadata": {
      "needs_background": "light"
     },
     "output_type": "display_data"
    }
   ],
   "source": [
    "# first call .value_counts(), then .plot(), so graph is easier to read\n",
    "df['disclosure_year'].value_counts().plot(kind = 'bar', \\\n",
    "    title = 'Year of Stock Transaction Disclosure');"
   ]
  },
  {
   "cell_type": "markdown",
   "metadata": {},
   "source": [
    "Now let's look at the ```ticker``` column. There are too many individiual tickers (abbreviations used to uniquely identify shares of a particular stock), so we will only look at the top 20."
   ]
  },
  {
   "cell_type": "code",
   "execution_count": 40,
   "metadata": {},
   "outputs": [
    {
     "data": {
      "image/png": "[encoded data removed]",
      "text/plain": [
       "<Figure size 432x288 with 1 Axes>"
      ]
     },
     "metadata": {
      "needs_background": "light"
     },
     "output_type": "display_data"
    }
   ],
   "source": [
    "df['ticker'].value_counts()[:20].plot(kind = 'barh', \\\n",
    "    title = '20 Most Popular Stock Transactions by Ticker');"
   ]
  },
  {
   "cell_type": "markdown",
   "metadata": {},
   "source": [
    "Clearly, the most popular stock trades are in tech:\n",
    "* Microsoft\n",
    "* Apple\n",
    "* NetApp\n",
    "* FaceBook (Meta?)\n",
    "* Amazon\n",
    "* Tesla\n",
    "* and so on...\n",
    "\n",
    "But there is even a Fed Fund:\n",
    "*  BLF FedFund (TDDXX)\n",
    "\n",
    "\n",
    "**Surprised rich people are investing in fed funds?**\n",
    "\n",
    "**Hey, maybe the old people in the House of Representatives *really do care***\n",
    "**about their retirement funds!**\n",
    "\n",
    "\n",
    "The biggest surprise, however, is the most popular ticker, '--', which isn't even a stock. What is '--'? Let's do some further digging."
   ]
  },
  {
   "cell_type": "markdown",
   "metadata": {},
   "source": []
  }
 ],
 "metadata": {
  "interpreter": {
   "hash": "5295a267c55f180e60e71387ea73cc020fddd40d0e79d6e49d9e5453acf0c9a9"
  },
  "kernelspec": {
   "display_name": "Python 3.8.12 ('dsc80')",
   "language": "python",
   "name": "python3"
  },
  "language_info": {
   "codemirror_mode": {
    "name": "ipython",
    "version": 3
   },
   "file_extension": ".py",
   "mimetype": "text/x-python",
   "name": "python",
   "nbconvert_exporter": "python",
   "pygments_lexer": "ipython3",
   "version": "3.8.12"
  },
  "orig_nbformat": 4
 },
 "nbformat": 4,
 "nbformat_minor": 2
}
