{
 "cells": [
  {
   "cell_type": "code",
   "execution_count": 11,
   "metadata": {},
   "outputs": [],
   "source": [
    "import pandas as pd\n",
    "import numpy as np\n",
    "import matplotlib as plt"
   ]
  },
  {
   "cell_type": "markdown",
   "metadata": {},
   "source": [
    "## Let's clean the data"
   ]
  },
  {
   "cell_type": "code",
   "execution_count": 2,
   "metadata": {},
   "outputs": [
    {
     "data": {
      "text/html": [
       "<div>\n",
       "<style scoped>\n",
       "    .dataframe tbody tr th:only-of-type {\n",
       "        vertical-align: middle;\n",
       "    }\n",
       "\n",
       "    .dataframe tbody tr th {\n",
       "        vertical-align: top;\n",
       "    }\n",
       "\n",
       "    .dataframe thead th {\n",
       "        text-align: right;\n",
       "    }\n",
       "</style>\n",
       "<table border=\"1\" class=\"dataframe\">\n",
       "  <thead>\n",
       "    <tr style=\"text-align: right;\">\n",
       "      <th></th>\n",
       "      <th>disclosure_year</th>\n",
       "      <th>disclosure_date</th>\n",
       "      <th>transaction_date</th>\n",
       "      <th>owner</th>\n",
       "      <th>ticker</th>\n",
       "      <th>asset_description</th>\n",
       "      <th>type</th>\n",
       "      <th>amount</th>\n",
       "      <th>representative</th>\n",
       "      <th>district</th>\n",
       "      <th>ptr_link</th>\n",
       "      <th>cap_gains_over_200_usd</th>\n",
       "    </tr>\n",
       "  </thead>\n",
       "  <tbody>\n",
       "    <tr>\n",
       "      <th>0</th>\n",
       "      <td>2021</td>\n",
       "      <td>10/04/2021</td>\n",
       "      <td>2021-09-27</td>\n",
       "      <td>joint</td>\n",
       "      <td>BP</td>\n",
       "      <td>BP plc</td>\n",
       "      <td>purchase</td>\n",
       "      <td>$1,001 - $15,000</td>\n",
       "      <td>Hon. Virginia Foxx</td>\n",
       "      <td>NC05</td>\n",
       "      <td>https://disclosures-clerk.house.gov/public_dis...</td>\n",
       "      <td>False</td>\n",
       "    </tr>\n",
       "    <tr>\n",
       "      <th>1</th>\n",
       "      <td>2021</td>\n",
       "      <td>10/04/2021</td>\n",
       "      <td>2021-09-13</td>\n",
       "      <td>joint</td>\n",
       "      <td>XOM</td>\n",
       "      <td>Exxon Mobil Corporation</td>\n",
       "      <td>purchase</td>\n",
       "      <td>$1,001 - $15,000</td>\n",
       "      <td>Hon. Virginia Foxx</td>\n",
       "      <td>NC05</td>\n",
       "      <td>https://disclosures-clerk.house.gov/public_dis...</td>\n",
       "      <td>False</td>\n",
       "    </tr>\n",
       "    <tr>\n",
       "      <th>2</th>\n",
       "      <td>2021</td>\n",
       "      <td>10/04/2021</td>\n",
       "      <td>2021-09-10</td>\n",
       "      <td>joint</td>\n",
       "      <td>ILPT</td>\n",
       "      <td>Industrial Logistics Properties Trust - Common...</td>\n",
       "      <td>purchase</td>\n",
       "      <td>$15,001 - $50,000</td>\n",
       "      <td>Hon. Virginia Foxx</td>\n",
       "      <td>NC05</td>\n",
       "      <td>https://disclosures-clerk.house.gov/public_dis...</td>\n",
       "      <td>False</td>\n",
       "    </tr>\n",
       "    <tr>\n",
       "      <th>3</th>\n",
       "      <td>2021</td>\n",
       "      <td>10/04/2021</td>\n",
       "      <td>2021-09-28</td>\n",
       "      <td>joint</td>\n",
       "      <td>PM</td>\n",
       "      <td>Phillip Morris International Inc</td>\n",
       "      <td>purchase</td>\n",
       "      <td>$15,001 - $50,000</td>\n",
       "      <td>Hon. Virginia Foxx</td>\n",
       "      <td>NC05</td>\n",
       "      <td>https://disclosures-clerk.house.gov/public_dis...</td>\n",
       "      <td>False</td>\n",
       "    </tr>\n",
       "    <tr>\n",
       "      <th>4</th>\n",
       "      <td>2021</td>\n",
       "      <td>10/04/2021</td>\n",
       "      <td>2021-09-17</td>\n",
       "      <td>self</td>\n",
       "      <td>BLK</td>\n",
       "      <td>BlackRock Inc</td>\n",
       "      <td>sale_partial</td>\n",
       "      <td>$1,001 - $15,000</td>\n",
       "      <td>Hon. Alan S. Lowenthal</td>\n",
       "      <td>CA47</td>\n",
       "      <td>https://disclosures-clerk.house.gov/public_dis...</td>\n",
       "      <td>False</td>\n",
       "    </tr>\n",
       "  </tbody>\n",
       "</table>\n",
       "</div>"
      ],
      "text/plain": [
       "   disclosure_year disclosure_date transaction_date  owner ticker  \\\n",
       "0             2021      10/04/2021       2021-09-27  joint     BP   \n",
       "1             2021      10/04/2021       2021-09-13  joint    XOM   \n",
       "2             2021      10/04/2021       2021-09-10  joint   ILPT   \n",
       "3             2021      10/04/2021       2021-09-28  joint     PM   \n",
       "4             2021      10/04/2021       2021-09-17   self    BLK   \n",
       "\n",
       "                                   asset_description          type  \\\n",
       "0                                             BP plc      purchase   \n",
       "1                            Exxon Mobil Corporation      purchase   \n",
       "2  Industrial Logistics Properties Trust - Common...      purchase   \n",
       "3                   Phillip Morris International Inc      purchase   \n",
       "4                                      BlackRock Inc  sale_partial   \n",
       "\n",
       "              amount          representative district  \\\n",
       "0   $1,001 - $15,000      Hon. Virginia Foxx     NC05   \n",
       "1   $1,001 - $15,000      Hon. Virginia Foxx     NC05   \n",
       "2  $15,001 - $50,000      Hon. Virginia Foxx     NC05   \n",
       "3  $15,001 - $50,000      Hon. Virginia Foxx     NC05   \n",
       "4   $1,001 - $15,000  Hon. Alan S. Lowenthal     CA47   \n",
       "\n",
       "                                            ptr_link  cap_gains_over_200_usd  \n",
       "0  https://disclosures-clerk.house.gov/public_dis...                   False  \n",
       "1  https://disclosures-clerk.house.gov/public_dis...                   False  \n",
       "2  https://disclosures-clerk.house.gov/public_dis...                   False  \n",
       "3  https://disclosures-clerk.house.gov/public_dis...                   False  \n",
       "4  https://disclosures-clerk.house.gov/public_dis...                   False  "
      ]
     },
     "execution_count": 2,
     "metadata": {},
     "output_type": "execute_result"
    }
   ],
   "source": [
    "df = pd.read_csv('data/all_transactions.csv')\n",
    "df.head(5)"
   ]
  },
  {
   "cell_type": "markdown",
   "metadata": {},
   "source": [
    "Look at the types of the columns to see which ones may need to have their types changed."
   ]
  },
  {
   "cell_type": "code",
   "execution_count": 3,
   "metadata": {},
   "outputs": [
    {
     "data": {
      "text/plain": [
       "disclosure_year            int64\n",
       "disclosure_date           object\n",
       "transaction_date          object\n",
       "owner                     object\n",
       "ticker                    object\n",
       "asset_description         object\n",
       "type                      object\n",
       "amount                    object\n",
       "representative            object\n",
       "district                  object\n",
       "ptr_link                  object\n",
       "cap_gains_over_200_usd      bool\n",
       "dtype: object"
      ]
     },
     "execution_count": 3,
     "metadata": {},
     "output_type": "execute_result"
    }
   ],
   "source": [
    "df.dtypes"
   ]
  },
  {
   "cell_type": "markdown",
   "metadata": {},
   "source": [
    "disclosure_data and transaction_date can be represented in date time, but they are normal objects right now. "
   ]
  },
  {
   "cell_type": "code",
   "execution_count": 4,
   "metadata": {},
   "outputs": [
    {
     "data": {
      "text/plain": [
       "disclosure_year                    int64\n",
       "disclosure_date           datetime64[ns]\n",
       "transaction_date          datetime64[ns]\n",
       "owner                             object\n",
       "ticker                            object\n",
       "asset_description                 object\n",
       "type                              object\n",
       "amount                            object\n",
       "representative                    object\n",
       "district                          object\n",
       "ptr_link                          object\n",
       "cap_gains_over_200_usd              bool\n",
       "dtype: object"
      ]
     },
     "execution_count": 4,
     "metadata": {},
     "output_type": "execute_result"
    }
   ],
   "source": [
    "df['disclosure_date'] = pd.to_datetime(df['disclosure_date'], errors = 'coerce')\n",
    "df['transaction_date'] = pd.to_datetime(df['transaction_date'], errors = 'coerce')\n",
    "df.dtypes"
   ]
  },
  {
   "cell_type": "markdown",
   "metadata": {},
   "source": [
    "Let's clean the 'Hon. ' out of every rep's name so it becomes easier to read."
   ]
  },
  {
   "cell_type": "code",
   "execution_count": 5,
   "metadata": {},
   "outputs": [
    {
     "name": "stderr",
     "output_type": "stream",
     "text": [
      "/var/folders/3k/d13l9xy576xd1j71sdj55ttc0000gn/T/ipykernel_18471/1258939511.py:1: FutureWarning: The default value of regex will change from True to False in a future version.\n",
      "  df['representative'] = df['representative'].str.replace('Hon. ', '')\n"
     ]
    }
   ],
   "source": [
    "df['representative'] = df['representative'].str.replace('Hon. ', '')"
   ]
  },
  {
   "cell_type": "markdown",
   "metadata": {},
   "source": [
    "Let's create a 'state' column so we can do groupby state if we need to in the future."
   ]
  },
  {
   "cell_type": "code",
   "execution_count": 6,
   "metadata": {},
   "outputs": [],
   "source": [
    "df['state'] = df['district'].str[:2]"
   ]
  },
  {
   "cell_type": "markdown",
   "metadata": {},
   "source": [
    "All done!"
   ]
  },
  {
   "cell_type": "code",
   "execution_count": 59,
   "metadata": {},
   "outputs": [
    {
     "data": {
      "text/html": [
       "<div>\n",
       "<style scoped>\n",
       "    .dataframe tbody tr th:only-of-type {\n",
       "        vertical-align: middle;\n",
       "    }\n",
       "\n",
       "    .dataframe tbody tr th {\n",
       "        vertical-align: top;\n",
       "    }\n",
       "\n",
       "    .dataframe thead th {\n",
       "        text-align: right;\n",
       "    }\n",
       "</style>\n",
       "<table border=\"1\" class=\"dataframe\">\n",
       "  <thead>\n",
       "    <tr style=\"text-align: right;\">\n",
       "      <th></th>\n",
       "      <th>disclosure_year</th>\n",
       "      <th>disclosure_date</th>\n",
       "      <th>transaction_date</th>\n",
       "      <th>owner</th>\n",
       "      <th>ticker</th>\n",
       "      <th>asset_description</th>\n",
       "      <th>type</th>\n",
       "      <th>amount</th>\n",
       "      <th>representative</th>\n",
       "      <th>district</th>\n",
       "      <th>ptr_link</th>\n",
       "      <th>cap_gains_over_200_usd</th>\n",
       "      <th>state</th>\n",
       "    </tr>\n",
       "  </thead>\n",
       "  <tbody>\n",
       "    <tr>\n",
       "      <th>0</th>\n",
       "      <td>2021</td>\n",
       "      <td>2021-10-04</td>\n",
       "      <td>2021-09-27</td>\n",
       "      <td>joint</td>\n",
       "      <td>BP</td>\n",
       "      <td>BP plc</td>\n",
       "      <td>purchase</td>\n",
       "      <td>$1,001 - $15,000</td>\n",
       "      <td>Virginia Foxx</td>\n",
       "      <td>NC05</td>\n",
       "      <td>https://disclosures-clerk.house.gov/public_dis...</td>\n",
       "      <td>False</td>\n",
       "      <td>NC</td>\n",
       "    </tr>\n",
       "    <tr>\n",
       "      <th>1</th>\n",
       "      <td>2021</td>\n",
       "      <td>2021-10-04</td>\n",
       "      <td>2021-09-13</td>\n",
       "      <td>joint</td>\n",
       "      <td>XOM</td>\n",
       "      <td>Exxon Mobil Corporation</td>\n",
       "      <td>purchase</td>\n",
       "      <td>$1,001 - $15,000</td>\n",
       "      <td>Virginia Foxx</td>\n",
       "      <td>NC05</td>\n",
       "      <td>https://disclosures-clerk.house.gov/public_dis...</td>\n",
       "      <td>False</td>\n",
       "      <td>NC</td>\n",
       "    </tr>\n",
       "    <tr>\n",
       "      <th>2</th>\n",
       "      <td>2021</td>\n",
       "      <td>2021-10-04</td>\n",
       "      <td>2021-09-10</td>\n",
       "      <td>joint</td>\n",
       "      <td>ILPT</td>\n",
       "      <td>Industrial Logistics Properties Trust - Common...</td>\n",
       "      <td>purchase</td>\n",
       "      <td>$15,001 - $50,000</td>\n",
       "      <td>Virginia Foxx</td>\n",
       "      <td>NC05</td>\n",
       "      <td>https://disclosures-clerk.house.gov/public_dis...</td>\n",
       "      <td>False</td>\n",
       "      <td>NC</td>\n",
       "    </tr>\n",
       "    <tr>\n",
       "      <th>3</th>\n",
       "      <td>2021</td>\n",
       "      <td>2021-10-04</td>\n",
       "      <td>2021-09-28</td>\n",
       "      <td>joint</td>\n",
       "      <td>PM</td>\n",
       "      <td>Phillip Morris International Inc</td>\n",
       "      <td>purchase</td>\n",
       "      <td>$15,001 - $50,000</td>\n",
       "      <td>Virginia Foxx</td>\n",
       "      <td>NC05</td>\n",
       "      <td>https://disclosures-clerk.house.gov/public_dis...</td>\n",
       "      <td>False</td>\n",
       "      <td>NC</td>\n",
       "    </tr>\n",
       "    <tr>\n",
       "      <th>4</th>\n",
       "      <td>2021</td>\n",
       "      <td>2021-10-04</td>\n",
       "      <td>2021-09-17</td>\n",
       "      <td>self</td>\n",
       "      <td>BLK</td>\n",
       "      <td>BlackRock Inc</td>\n",
       "      <td>sale_partial</td>\n",
       "      <td>$1,001 - $15,000</td>\n",
       "      <td>Alan S. Lowenthal</td>\n",
       "      <td>CA47</td>\n",
       "      <td>https://disclosures-clerk.house.gov/public_dis...</td>\n",
       "      <td>False</td>\n",
       "      <td>CA</td>\n",
       "    </tr>\n",
       "  </tbody>\n",
       "</table>\n",
       "</div>"
      ],
      "text/plain": [
       "   disclosure_year disclosure_date transaction_date  owner ticker  \\\n",
       "0             2021      2021-10-04       2021-09-27  joint     BP   \n",
       "1             2021      2021-10-04       2021-09-13  joint    XOM   \n",
       "2             2021      2021-10-04       2021-09-10  joint   ILPT   \n",
       "3             2021      2021-10-04       2021-09-28  joint     PM   \n",
       "4             2021      2021-10-04       2021-09-17   self    BLK   \n",
       "\n",
       "                                   asset_description          type  \\\n",
       "0                                             BP plc      purchase   \n",
       "1                            Exxon Mobil Corporation      purchase   \n",
       "2  Industrial Logistics Properties Trust - Common...      purchase   \n",
       "3                   Phillip Morris International Inc      purchase   \n",
       "4                                      BlackRock Inc  sale_partial   \n",
       "\n",
       "              amount     representative district  \\\n",
       "0   $1,001 - $15,000      Virginia Foxx     NC05   \n",
       "1   $1,001 - $15,000      Virginia Foxx     NC05   \n",
       "2  $15,001 - $50,000      Virginia Foxx     NC05   \n",
       "3  $15,001 - $50,000      Virginia Foxx     NC05   \n",
       "4   $1,001 - $15,000  Alan S. Lowenthal     CA47   \n",
       "\n",
       "                                            ptr_link  cap_gains_over_200_usd  \\\n",
       "0  https://disclosures-clerk.house.gov/public_dis...                   False   \n",
       "1  https://disclosures-clerk.house.gov/public_dis...                   False   \n",
       "2  https://disclosures-clerk.house.gov/public_dis...                   False   \n",
       "3  https://disclosures-clerk.house.gov/public_dis...                   False   \n",
       "4  https://disclosures-clerk.house.gov/public_dis...                   False   \n",
       "\n",
       "  state  \n",
       "0    NC  \n",
       "1    NC  \n",
       "2    NC  \n",
       "3    NC  \n",
       "4    CA  "
      ]
     },
     "execution_count": 59,
     "metadata": {},
     "output_type": "execute_result"
    }
   ],
   "source": [
    "df.head(5)"
   ]
  },
  {
   "cell_type": "code",
   "execution_count": 8,
   "metadata": {},
   "outputs": [],
   "source": [
    "# df.to_csv('data/cleaned_all_transactions.csv')"
   ]
  },
  {
   "cell_type": "markdown",
   "metadata": {},
   "source": [
    "## EDA Time"
   ]
  },
  {
   "cell_type": "markdown",
   "metadata": {},
   "source": [
    "### Univariate Analysis"
   ]
  },
  {
   "cell_type": "markdown",
   "metadata": {},
   "source": [
    "We need to look at the distributions of relevant columns separately by using DataFrame operations and drawing appropriate plots. ```value_counts()``` will help us understand the values of a column."
   ]
  },
  {
   "cell_type": "markdown",
   "metadata": {},
   "source": [
    "Let's explore the ``disclosure_year`` columm first"
   ]
  },
  {
   "cell_type": "code",
   "execution_count": 26,
   "metadata": {},
   "outputs": [
    {
     "data": {
      "text/plain": [
       "2020    7379\n",
       "2021    5520\n",
       "2022    1303\n",
       "Name: disclosure_year, dtype: int64"
      ]
     },
     "execution_count": 26,
     "metadata": {},
     "output_type": "execute_result"
    }
   ],
   "source": [
    "# call .value_counts on 'disclosure_year'\n",
    "df['disclosure_year'].value_counts()"
   ]
  },
  {
   "cell_type": "code",
   "execution_count": 57,
   "metadata": {},
   "outputs": [
    {
     "data": {
      "image/png": "[encoded data removed]",
      "text/plain": [
       "<Figure size 432x288 with 1 Axes>"
      ]
     },
     "metadata": {
      "needs_background": "light"
     },
     "output_type": "display_data"
    }
   ],
   "source": [
    "# first call .value_counts(), then .plot(), so graph is easier to read\n",
    "df['disclosure_year'].value_counts().plot(kind = 'bar', \\\n",
    "    title = 'Year of Stock Transaction Disclosure', \\\n",
    "    xlabel = 'Year', ylabel = 'number of `stock transactions');"
   ]
  },
  {
   "cell_type": "markdown",
   "metadata": {},
   "source": [
    "Clearly **2020** was the most popular year in this data set. This doesn't mean that the reps just traded more in 2020 than in 2021 or 2022, they probably just have not disclosed trades from those two years yet."
   ]
  },
  {
   "cell_type": "markdown",
   "metadata": {},
   "source": [
    "Now let's look at the ```ticker``` column. There are too many individiual tickers (abbreviations used to uniquely identify shares of a particular stock), so we will only look at the top 20."
   ]
  },
  {
   "cell_type": "code",
   "execution_count": 55,
   "metadata": {},
   "outputs": [
    {
     "data": {
      "image/png": "[encoded data removed]",
      "text/plain": [
       "<Figure size 432x288 with 1 Axes>"
      ]
     },
     "metadata": {
      "needs_background": "light"
     },
     "output_type": "display_data"
    }
   ],
   "source": [
    "df['ticker'].value_counts()[:20].plot(kind = 'barh', \\\n",
    "    title = '20 Most Popular Stock Transactions by Ticker', \\\n",
    "    xlabel = 'ticker', ylabel = 'number of transactions');"
   ]
  },
  {
   "cell_type": "markdown",
   "metadata": {},
   "source": [
    "Clearly, the most popular stock trades are in tech:\n",
    "* Microsoft\n",
    "* Apple\n",
    "* NetApp\n",
    "* FaceBook (Meta?)\n",
    "* Amazon\n",
    "* Tesla\n",
    "* and so on...\n",
    "\n",
    "But there is even a Fed Fund:\n",
    "*  BLF FedFund (TDDXX)\n",
    "\n",
    "\n",
    "**Surprised rich people are investing in fed funds?**\n",
    "\n",
    "**Hey, maybe the old people in the House of Representatives *really do care***\n",
    "**about their retirement funds!**\n",
    "\n",
    "\n",
    "The biggest surprise, however, is the most popular ticker, '--', which isn't even a stock. What is '--'? Further digging will be done soon."
   ]
  },
  {
   "cell_type": "markdown",
   "metadata": {},
   "source": [
    "Now let's look at the ```amount``` column, to see how much of that 💰💸🤑 reps bring in."
   ]
  },
  {
   "cell_type": "code",
   "execution_count": 43,
   "metadata": {},
   "outputs": [
    {
     "data": {
      "text/plain": [
       "$1,001 - $15,000            10008\n",
       "$15,001 - $50,000            2237\n",
       "$50,001 - $100,000            718\n",
       "$100,001 - $250,000           545\n",
       "$1,001 -                      242\n",
       "$250,001 - $500,000           226\n",
       "$500,001 - $1,000,000         142\n",
       "$1,000,001 - $5,000,000        38\n",
       "$1,000,000 +                   28\n",
       "$5,000,001 - $25,000,000        9\n",
       "$1,000 - $15,000                4\n",
       "$15,000 - $50,000               3\n",
       "$50,000,000 +                   1\n",
       "$1,000,000 - $5,000,000         1\n",
       "Name: amount, dtype: int64"
      ]
     },
     "execution_count": 43,
     "metadata": {},
     "output_type": "execute_result"
    }
   ],
   "source": [
    "df['amount'].value_counts()"
   ]
  },
  {
   "cell_type": "code",
   "execution_count": 51,
   "metadata": {},
   "outputs": [
    {
     "data": {
      "image/png": "[encoded data removed]",
      "text/plain": [
       "<Figure size 432x288 with 1 Axes>"
      ]
     },
     "metadata": {
      "needs_background": "light"
     },
     "output_type": "display_data"
    }
   ],
   "source": [
    "# first call .value_counts(), then .plot(), so graph is easier to read\n",
    "df['amount'].value_counts().plot(kind = 'bar', \\\n",
    "    title = 'How many transactions reps make, by size', ylabel = 'Number of transactions', \\\n",
    "    xlabel = 'Transaction Amount');"
   ]
  },
  {
   "cell_type": "markdown",
   "metadata": {},
   "source": [
    "### Bivariate Analysis"
   ]
  },
  {
   "cell_type": "markdown",
   "metadata": {},
   "source": [
    "We need to look at the statistics of pairs of columns to identify possible associations. "
   ]
  },
  {
   "cell_type": "code",
   "execution_count": 77,
   "metadata": {},
   "outputs": [
    {
     "data": {
      "text/html": [
       "<div>\n",
       "<style scoped>\n",
       "    .dataframe tbody tr th:only-of-type {\n",
       "        vertical-align: middle;\n",
       "    }\n",
       "\n",
       "    .dataframe tbody tr th {\n",
       "        vertical-align: top;\n",
       "    }\n",
       "\n",
       "    .dataframe thead th {\n",
       "        text-align: right;\n",
       "    }\n",
       "</style>\n",
       "<table border=\"1\" class=\"dataframe\">\n",
       "  <thead>\n",
       "    <tr style=\"text-align: right;\">\n",
       "      <th></th>\n",
       "      <th>disclosure_year</th>\n",
       "      <th>disclosure_date</th>\n",
       "      <th>transaction_date</th>\n",
       "      <th>owner</th>\n",
       "      <th>ticker</th>\n",
       "      <th>asset_description</th>\n",
       "      <th>type</th>\n",
       "      <th>amount</th>\n",
       "      <th>representative</th>\n",
       "      <th>district</th>\n",
       "      <th>ptr_link</th>\n",
       "      <th>cap_gains_over_200_usd</th>\n",
       "      <th>state</th>\n",
       "    </tr>\n",
       "  </thead>\n",
       "  <tbody>\n",
       "    <tr>\n",
       "      <th>0</th>\n",
       "      <td>2021</td>\n",
       "      <td>2021-10-04</td>\n",
       "      <td>2021-09-27</td>\n",
       "      <td>joint</td>\n",
       "      <td>BP</td>\n",
       "      <td>BP plc</td>\n",
       "      <td>purchase</td>\n",
       "      <td>$1,001 - $15,000</td>\n",
       "      <td>Virginia Foxx</td>\n",
       "      <td>NC05</td>\n",
       "      <td>https://disclosures-clerk.house.gov/public_dis...</td>\n",
       "      <td>False</td>\n",
       "      <td>NC</td>\n",
       "    </tr>\n",
       "    <tr>\n",
       "      <th>1</th>\n",
       "      <td>2021</td>\n",
       "      <td>2021-10-04</td>\n",
       "      <td>2021-09-13</td>\n",
       "      <td>joint</td>\n",
       "      <td>XOM</td>\n",
       "      <td>Exxon Mobil Corporation</td>\n",
       "      <td>purchase</td>\n",
       "      <td>$1,001 - $15,000</td>\n",
       "      <td>Virginia Foxx</td>\n",
       "      <td>NC05</td>\n",
       "      <td>https://disclosures-clerk.house.gov/public_dis...</td>\n",
       "      <td>False</td>\n",
       "      <td>NC</td>\n",
       "    </tr>\n",
       "    <tr>\n",
       "      <th>2</th>\n",
       "      <td>2021</td>\n",
       "      <td>2021-10-04</td>\n",
       "      <td>2021-09-10</td>\n",
       "      <td>joint</td>\n",
       "      <td>ILPT</td>\n",
       "      <td>Industrial Logistics Properties Trust - Common...</td>\n",
       "      <td>purchase</td>\n",
       "      <td>$15,001 - $50,000</td>\n",
       "      <td>Virginia Foxx</td>\n",
       "      <td>NC05</td>\n",
       "      <td>https://disclosures-clerk.house.gov/public_dis...</td>\n",
       "      <td>False</td>\n",
       "      <td>NC</td>\n",
       "    </tr>\n",
       "    <tr>\n",
       "      <th>3</th>\n",
       "      <td>2021</td>\n",
       "      <td>2021-10-04</td>\n",
       "      <td>2021-09-28</td>\n",
       "      <td>joint</td>\n",
       "      <td>PM</td>\n",
       "      <td>Phillip Morris International Inc</td>\n",
       "      <td>purchase</td>\n",
       "      <td>$15,001 - $50,000</td>\n",
       "      <td>Virginia Foxx</td>\n",
       "      <td>NC05</td>\n",
       "      <td>https://disclosures-clerk.house.gov/public_dis...</td>\n",
       "      <td>False</td>\n",
       "      <td>NC</td>\n",
       "    </tr>\n",
       "    <tr>\n",
       "      <th>4</th>\n",
       "      <td>2021</td>\n",
       "      <td>2021-10-04</td>\n",
       "      <td>2021-09-17</td>\n",
       "      <td>self</td>\n",
       "      <td>BLK</td>\n",
       "      <td>BlackRock Inc</td>\n",
       "      <td>sale_partial</td>\n",
       "      <td>$1,001 - $15,000</td>\n",
       "      <td>Alan S. Lowenthal</td>\n",
       "      <td>CA47</td>\n",
       "      <td>https://disclosures-clerk.house.gov/public_dis...</td>\n",
       "      <td>False</td>\n",
       "      <td>CA</td>\n",
       "    </tr>\n",
       "  </tbody>\n",
       "</table>\n",
       "</div>"
      ],
      "text/plain": [
       "   disclosure_year disclosure_date transaction_date  owner ticker  \\\n",
       "0             2021      2021-10-04       2021-09-27  joint     BP   \n",
       "1             2021      2021-10-04       2021-09-13  joint    XOM   \n",
       "2             2021      2021-10-04       2021-09-10  joint   ILPT   \n",
       "3             2021      2021-10-04       2021-09-28  joint     PM   \n",
       "4             2021      2021-10-04       2021-09-17   self    BLK   \n",
       "\n",
       "                                   asset_description          type  \\\n",
       "0                                             BP plc      purchase   \n",
       "1                            Exxon Mobil Corporation      purchase   \n",
       "2  Industrial Logistics Properties Trust - Common...      purchase   \n",
       "3                   Phillip Morris International Inc      purchase   \n",
       "4                                      BlackRock Inc  sale_partial   \n",
       "\n",
       "              amount     representative district  \\\n",
       "0   $1,001 - $15,000      Virginia Foxx     NC05   \n",
       "1   $1,001 - $15,000      Virginia Foxx     NC05   \n",
       "2  $15,001 - $50,000      Virginia Foxx     NC05   \n",
       "3  $15,001 - $50,000      Virginia Foxx     NC05   \n",
       "4   $1,001 - $15,000  Alan S. Lowenthal     CA47   \n",
       "\n",
       "                                            ptr_link  cap_gains_over_200_usd  \\\n",
       "0  https://disclosures-clerk.house.gov/public_dis...                   False   \n",
       "1  https://disclosures-clerk.house.gov/public_dis...                   False   \n",
       "2  https://disclosures-clerk.house.gov/public_dis...                   False   \n",
       "3  https://disclosures-clerk.house.gov/public_dis...                   False   \n",
       "4  https://disclosures-clerk.house.gov/public_dis...                   False   \n",
       "\n",
       "  state  \n",
       "0    NC  \n",
       "1    NC  \n",
       "2    NC  \n",
       "3    NC  \n",
       "4    CA  "
      ]
     },
     "execution_count": 77,
     "metadata": {},
     "output_type": "execute_result"
    }
   ],
   "source": [
    "df.head(5)"
   ]
  },
  {
   "cell_type": "code",
   "execution_count": 75,
   "metadata": {},
   "outputs": [
    {
     "data": {
      "image/png": "[encoded data removed]",
      "text/plain": [
       "<Figure size 432x288 with 1 Axes>"
      ]
     },
     "metadata": {
      "needs_background": "light"
     },
     "output_type": "display_data"
    }
   ],
   "source": [
    "df[['amount', 'cap_gains_over_200_usd']].value_counts().plot(kind = 'barh');"
   ]
  },
  {
   "cell_type": "markdown",
   "metadata": {},
   "source": [
    "Clearly, the three most popular categories of trade are:\n",
    "* (1,001 - 15,000) and NO capital gains above $200\n",
    "* (15,001 - 50,000) and NO capital gains above $200\n",
    "* (50,001 - 100,000) and NO capital gains above $200\n",
    "\n",
    "Reps need to realize they ain't so good at trading huh 🤣"
   ]
  },
  {
   "cell_type": "code",
   "execution_count": 80,
   "metadata": {},
   "outputs": [
    {
     "data": {
      "text/html": [
       "<div>\n",
       "<style scoped>\n",
       "    .dataframe tbody tr th:only-of-type {\n",
       "        vertical-align: middle;\n",
       "    }\n",
       "\n",
       "    .dataframe tbody tr th {\n",
       "        vertical-align: top;\n",
       "    }\n",
       "\n",
       "    .dataframe thead th {\n",
       "        text-align: right;\n",
       "    }\n",
       "</style>\n",
       "<table border=\"1\" class=\"dataframe\">\n",
       "  <thead>\n",
       "    <tr style=\"text-align: right;\">\n",
       "      <th>amount</th>\n",
       "      <th>$1,000 - $15,000</th>\n",
       "      <th>$1,000,000 +</th>\n",
       "      <th>$1,000,000 - $5,000,000</th>\n",
       "      <th>$1,000,001 - $5,000,000</th>\n",
       "      <th>$1,001 -</th>\n",
       "      <th>$1,001 - $15,000</th>\n",
       "      <th>$100,001 - $250,000</th>\n",
       "      <th>$15,000 - $50,000</th>\n",
       "      <th>$15,001 - $50,000</th>\n",
       "      <th>$250,001 - $500,000</th>\n",
       "      <th>$5,000,001 - $25,000,000</th>\n",
       "      <th>$50,000,000 +</th>\n",
       "      <th>$50,001 - $100,000</th>\n",
       "      <th>$500,001 - $1,000,000</th>\n",
       "    </tr>\n",
       "    <tr>\n",
       "      <th>disclosure_year</th>\n",
       "      <th></th>\n",
       "      <th></th>\n",
       "      <th></th>\n",
       "      <th></th>\n",
       "      <th></th>\n",
       "      <th></th>\n",
       "      <th></th>\n",
       "      <th></th>\n",
       "      <th></th>\n",
       "      <th></th>\n",
       "      <th></th>\n",
       "      <th></th>\n",
       "      <th></th>\n",
       "      <th></th>\n",
       "    </tr>\n",
       "  </thead>\n",
       "  <tbody>\n",
       "    <tr>\n",
       "      <th>2020</th>\n",
       "      <td>NaN</td>\n",
       "      <td>0.000000</td>\n",
       "      <td>NaN</td>\n",
       "      <td>0.153846</td>\n",
       "      <td>0.073529</td>\n",
       "      <td>0.062241</td>\n",
       "      <td>0.132743</td>\n",
       "      <td>NaN</td>\n",
       "      <td>0.078571</td>\n",
       "      <td>0.104651</td>\n",
       "      <td>0.333333</td>\n",
       "      <td>0.0</td>\n",
       "      <td>0.095101</td>\n",
       "      <td>0.140000</td>\n",
       "    </tr>\n",
       "    <tr>\n",
       "      <th>2021</th>\n",
       "      <td>0.0</td>\n",
       "      <td>0.058824</td>\n",
       "      <td>0.0</td>\n",
       "      <td>0.000000</td>\n",
       "      <td>0.105263</td>\n",
       "      <td>0.080624</td>\n",
       "      <td>0.021583</td>\n",
       "      <td>0.0</td>\n",
       "      <td>0.114478</td>\n",
       "      <td>0.065421</td>\n",
       "      <td>0.000000</td>\n",
       "      <td>NaN</td>\n",
       "      <td>0.068404</td>\n",
       "      <td>0.014706</td>\n",
       "    </tr>\n",
       "    <tr>\n",
       "      <th>2022</th>\n",
       "      <td>NaN</td>\n",
       "      <td>NaN</td>\n",
       "      <td>NaN</td>\n",
       "      <td>0.000000</td>\n",
       "      <td>NaN</td>\n",
       "      <td>0.001103</td>\n",
       "      <td>0.000000</td>\n",
       "      <td>NaN</td>\n",
       "      <td>0.000000</td>\n",
       "      <td>0.000000</td>\n",
       "      <td>0.000000</td>\n",
       "      <td>NaN</td>\n",
       "      <td>0.000000</td>\n",
       "      <td>0.000000</td>\n",
       "    </tr>\n",
       "  </tbody>\n",
       "</table>\n",
       "</div>"
      ],
      "text/plain": [
       "amount           $1,000 - $15,000  $1,000,000 +  $1,000,000 - $5,000,000  \\\n",
       "disclosure_year                                                            \n",
       "2020                          NaN      0.000000                      NaN   \n",
       "2021                          0.0      0.058824                      0.0   \n",
       "2022                          NaN           NaN                      NaN   \n",
       "\n",
       "amount           $1,000,001 - $5,000,000  $1,001 -  $1,001 - $15,000  \\\n",
       "disclosure_year                                                        \n",
       "2020                            0.153846  0.073529          0.062241   \n",
       "2021                            0.000000  0.105263          0.080624   \n",
       "2022                            0.000000       NaN          0.001103   \n",
       "\n",
       "amount           $100,001 - $250,000  $15,000 - $50,000  $15,001 - $50,000  \\\n",
       "disclosure_year                                                              \n",
       "2020                        0.132743                NaN           0.078571   \n",
       "2021                        0.021583                0.0           0.114478   \n",
       "2022                        0.000000                NaN           0.000000   \n",
       "\n",
       "amount           $250,001 - $500,000  $5,000,001 - $25,000,000  $50,000,000 +  \\\n",
       "disclosure_year                                                                 \n",
       "2020                        0.104651                  0.333333            0.0   \n",
       "2021                        0.065421                  0.000000            NaN   \n",
       "2022                        0.000000                  0.000000            NaN   \n",
       "\n",
       "amount           $50,001 - $100,000  $500,001 - $1,000,000  \n",
       "disclosure_year                                             \n",
       "2020                       0.095101               0.140000  \n",
       "2021                       0.068404               0.014706  \n",
       "2022                       0.000000               0.000000  "
      ]
     },
     "execution_count": 80,
     "metadata": {},
     "output_type": "execute_result"
    }
   ],
   "source": [
    "df.pivot_table(index = 'disclosure_year', columns='amount', values = 'cap_gains_over_200_usd')"
   ]
  },
  {
   "cell_type": "markdown",
   "metadata": {},
   "source": [
    "Which state has the highest average number of trades that result in capital gains over $200?\n",
    "Michigan! With a pretty mind blowing result of 77% 🤯\n",
    "\n",
    "**Note:** The first that may come to mind is that Michigan may have had a high cap_gains_over_200_usd value for relatively small trades, in the $1,000 - $15,000 category, and low numbers in the rest. This would have induced Simpson's paradox. But we checked with another pivot table, and it is the case that Michigan has high cap_gains_over_200_usd values for *all* amount categories. "
   ]
  },
  {
   "cell_type": "code",
   "execution_count": 88,
   "metadata": {},
   "outputs": [
    {
     "data": {
      "text/html": [
       "<div>\n",
       "<style scoped>\n",
       "    .dataframe tbody tr th:only-of-type {\n",
       "        vertical-align: middle;\n",
       "    }\n",
       "\n",
       "    .dataframe tbody tr th {\n",
       "        vertical-align: top;\n",
       "    }\n",
       "\n",
       "    .dataframe thead th {\n",
       "        text-align: right;\n",
       "    }\n",
       "</style>\n",
       "<table border=\"1\" class=\"dataframe\">\n",
       "  <thead>\n",
       "    <tr style=\"text-align: right;\">\n",
       "      <th></th>\n",
       "      <th>cap_gains_over_200_usd</th>\n",
       "    </tr>\n",
       "    <tr>\n",
       "      <th>state</th>\n",
       "      <th></th>\n",
       "    </tr>\n",
       "  </thead>\n",
       "  <tbody>\n",
       "    <tr>\n",
       "      <th>MI</th>\n",
       "      <td>0.772871</td>\n",
       "    </tr>\n",
       "    <tr>\n",
       "      <th>SC</th>\n",
       "      <td>0.379310</td>\n",
       "    </tr>\n",
       "    <tr>\n",
       "      <th>NY</th>\n",
       "      <td>0.280702</td>\n",
       "    </tr>\n",
       "    <tr>\n",
       "      <th>ID</th>\n",
       "      <td>0.222222</td>\n",
       "    </tr>\n",
       "    <tr>\n",
       "      <th>LA</th>\n",
       "      <td>0.222222</td>\n",
       "    </tr>\n",
       "    <tr>\n",
       "      <th>KY</th>\n",
       "      <td>0.115942</td>\n",
       "    </tr>\n",
       "    <tr>\n",
       "      <th>AR</th>\n",
       "      <td>0.111111</td>\n",
       "    </tr>\n",
       "    <tr>\n",
       "      <th>WI</th>\n",
       "      <td>0.105263</td>\n",
       "    </tr>\n",
       "    <tr>\n",
       "      <th>GA</th>\n",
       "      <td>0.103004</td>\n",
       "    </tr>\n",
       "    <tr>\n",
       "      <th>MT</th>\n",
       "      <td>0.094567</td>\n",
       "    </tr>\n",
       "    <tr>\n",
       "      <th>VT</th>\n",
       "      <td>0.081633</td>\n",
       "    </tr>\n",
       "    <tr>\n",
       "      <th>AL</th>\n",
       "      <td>0.080000</td>\n",
       "    </tr>\n",
       "    <tr>\n",
       "      <th>CA</th>\n",
       "      <td>0.079694</td>\n",
       "    </tr>\n",
       "    <tr>\n",
       "      <th>WV</th>\n",
       "      <td>0.073684</td>\n",
       "    </tr>\n",
       "    <tr>\n",
       "      <th>NJ</th>\n",
       "      <td>0.063588</td>\n",
       "    </tr>\n",
       "    <tr>\n",
       "      <th>MN</th>\n",
       "      <td>0.062136</td>\n",
       "    </tr>\n",
       "    <tr>\n",
       "      <th>IL</th>\n",
       "      <td>0.054913</td>\n",
       "    </tr>\n",
       "    <tr>\n",
       "      <th>NV</th>\n",
       "      <td>0.054487</td>\n",
       "    </tr>\n",
       "    <tr>\n",
       "      <th>IA</th>\n",
       "      <td>0.048780</td>\n",
       "    </tr>\n",
       "    <tr>\n",
       "      <th>PA</th>\n",
       "      <td>0.047619</td>\n",
       "    </tr>\n",
       "    <tr>\n",
       "      <th>NC</th>\n",
       "      <td>0.044917</td>\n",
       "    </tr>\n",
       "    <tr>\n",
       "      <th>TN</th>\n",
       "      <td>0.044914</td>\n",
       "    </tr>\n",
       "    <tr>\n",
       "      <th>RI</th>\n",
       "      <td>0.042654</td>\n",
       "    </tr>\n",
       "    <tr>\n",
       "      <th>OH</th>\n",
       "      <td>0.042553</td>\n",
       "    </tr>\n",
       "    <tr>\n",
       "      <th>TX</th>\n",
       "      <td>0.032567</td>\n",
       "    </tr>\n",
       "    <tr>\n",
       "      <th>IN</th>\n",
       "      <td>0.032000</td>\n",
       "    </tr>\n",
       "    <tr>\n",
       "      <th>FL</th>\n",
       "      <td>0.022394</td>\n",
       "    </tr>\n",
       "    <tr>\n",
       "      <th>CO</th>\n",
       "      <td>0.017751</td>\n",
       "    </tr>\n",
       "    <tr>\n",
       "      <th>WA</th>\n",
       "      <td>0.016854</td>\n",
       "    </tr>\n",
       "    <tr>\n",
       "      <th>UT</th>\n",
       "      <td>0.013245</td>\n",
       "    </tr>\n",
       "    <tr>\n",
       "      <th>OR</th>\n",
       "      <td>0.013208</td>\n",
       "    </tr>\n",
       "    <tr>\n",
       "      <th>VA</th>\n",
       "      <td>0.012514</td>\n",
       "    </tr>\n",
       "    <tr>\n",
       "      <th>CT</th>\n",
       "      <td>0.000000</td>\n",
       "    </tr>\n",
       "    <tr>\n",
       "      <th>AZ</th>\n",
       "      <td>0.000000</td>\n",
       "    </tr>\n",
       "    <tr>\n",
       "      <th>KS</th>\n",
       "      <td>0.000000</td>\n",
       "    </tr>\n",
       "    <tr>\n",
       "      <th>OK</th>\n",
       "      <td>0.000000</td>\n",
       "    </tr>\n",
       "    <tr>\n",
       "      <th>MS</th>\n",
       "      <td>0.000000</td>\n",
       "    </tr>\n",
       "    <tr>\n",
       "      <th>MO</th>\n",
       "      <td>0.000000</td>\n",
       "    </tr>\n",
       "    <tr>\n",
       "      <th>HI</th>\n",
       "      <td>0.000000</td>\n",
       "    </tr>\n",
       "    <tr>\n",
       "      <th>ME</th>\n",
       "      <td>0.000000</td>\n",
       "    </tr>\n",
       "    <tr>\n",
       "      <th>MD</th>\n",
       "      <td>0.000000</td>\n",
       "    </tr>\n",
       "    <tr>\n",
       "      <th>MA</th>\n",
       "      <td>0.000000</td>\n",
       "    </tr>\n",
       "    <tr>\n",
       "      <th>DC</th>\n",
       "      <td>0.000000</td>\n",
       "    </tr>\n",
       "  </tbody>\n",
       "</table>\n",
       "</div>"
      ],
      "text/plain": [
       "       cap_gains_over_200_usd\n",
       "state                        \n",
       "MI                   0.772871\n",
       "SC                   0.379310\n",
       "NY                   0.280702\n",
       "ID                   0.222222\n",
       "LA                   0.222222\n",
       "KY                   0.115942\n",
       "AR                   0.111111\n",
       "WI                   0.105263\n",
       "GA                   0.103004\n",
       "MT                   0.094567\n",
       "VT                   0.081633\n",
       "AL                   0.080000\n",
       "CA                   0.079694\n",
       "WV                   0.073684\n",
       "NJ                   0.063588\n",
       "MN                   0.062136\n",
       "IL                   0.054913\n",
       "NV                   0.054487\n",
       "IA                   0.048780\n",
       "PA                   0.047619\n",
       "NC                   0.044917\n",
       "TN                   0.044914\n",
       "RI                   0.042654\n",
       "OH                   0.042553\n",
       "TX                   0.032567\n",
       "IN                   0.032000\n",
       "FL                   0.022394\n",
       "CO                   0.017751\n",
       "WA                   0.016854\n",
       "UT                   0.013245\n",
       "OR                   0.013208\n",
       "VA                   0.012514\n",
       "CT                   0.000000\n",
       "AZ                   0.000000\n",
       "KS                   0.000000\n",
       "OK                   0.000000\n",
       "MS                   0.000000\n",
       "MO                   0.000000\n",
       "HI                   0.000000\n",
       "ME                   0.000000\n",
       "MD                   0.000000\n",
       "MA                   0.000000\n",
       "DC                   0.000000"
      ]
     },
     "execution_count": 88,
     "metadata": {},
     "output_type": "execute_result"
    }
   ],
   "source": [
    "(\n",
    "    df.pivot_table(index = 'state', values = 'cap_gains_over_200_usd')\n",
    "    .sort_values(by = 'cap_gains_over_200_usd', ascending=False)\n",
    ")"
   ]
  },
  {
   "cell_type": "code",
   "execution_count": null,
   "metadata": {},
   "outputs": [],
   "source": []
  }
 ],
 "metadata": {
  "interpreter": {
   "hash": "5295a267c55f180e60e71387ea73cc020fddd40d0e79d6e49d9e5453acf0c9a9"
  },
  "kernelspec": {
   "display_name": "Python 3.8.12 ('dsc80')",
   "language": "python",
   "name": "python3"
  },
  "language_info": {
   "codemirror_mode": {
    "name": "ipython",
    "version": 3
   },
   "file_extension": ".py",
   "mimetype": "text/x-python",
   "name": "python",
   "nbconvert_exporter": "python",
   "pygments_lexer": "ipython3",
   "version": "3.8.12"
  },
  "orig_nbformat": 4
 },
 "nbformat": 4,
 "nbformat_minor": 2
}
