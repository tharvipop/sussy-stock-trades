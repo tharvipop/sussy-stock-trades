{
 "cells": [
  {
   "cell_type": "markdown",
   "metadata": {},
   "source": [
    "# **Sussy Stock Trades**"
   ]
  },
  {
   "cell_type": "markdown",
   "metadata": {},
   "source": [
    "#### Prabina Pokharel, Atharva Kulkarni"
   ]
  },
  {
   "cell_type": "markdown",
   "metadata": {},
   "source": [
    "# **Summary of Findings**"
   ]
  },
  {
   "cell_type": "markdown",
   "metadata": {},
   "source": [
    "### **Introduction**"
   ]
  },
  {
   "cell_type": "markdown",
   "metadata": {},
   "source": [
    "This dataset has been maintained by Timothy Carambat as part of the House Stock Watcher project. Each row in this dataset corresponds to one stock trasanction that was carried out by a member of the U.S. House of Representatives. \n",
    "\n",
    "There are several features, such as:\n",
    "\n",
    "\n",
    "`disclosure_date` \n",
    "`transaction_date`          \n",
    "`ticker`              \n",
    "`asset_description`     \n",
    "`amount`                    \n",
    "`representative`\n",
    "\n",
    "and several more...\n",
    "\n",
    "For reference, the question we are going to be exploring is:\n",
    "\n",
    "**Are representatives from the state of Michigan more likely to have an average trade proportion that result in capital gains over 200 usd higher than the rest of the population?**"
   ]
  },
  {
   "cell_type": "markdown",
   "metadata": {},
   "source": [
    "So in order to be able to answer this question, let's identify a few important columns:\n",
    "\n",
    "`cap_gains_over_200_usd` \n",
    "* Describes if the particular trade resulted in a capital gain of over $200.00\n",
    "\n",
    "and \n",
    "\n",
    "`state` \n",
    "*  we will create in the cleaning section\n",
    "\n"
   ]
  },
  {
   "cell_type": "markdown",
   "metadata": {},
   "source": [
    "### **Cleaning and EDA**"
   ]
  },
  {
   "cell_type": "markdown",
   "metadata": {},
   "source": [
    "Here's an overview of our cleaning steps:\n",
    "\n",
    "* Changing `disclosure_year` and `transaction_date` to pandas datetime object \n",
    "  * This was handy to create, as we could simply subtract the two columns to create a new new `non_disclosure_period(days)` column.\n",
    "* Removed the 'Hon.' out of representatives' names\n",
    "  * To make it easier to read.\n",
    "* Added a `state` column, created from `district`\n",
    "  * Necessary in order to be able to answer our main question!\n",
    "  * Also useful to create cool aggregates by state!\n",
    "* Added an `amount_cleaned` column, created from `amount`\n",
    "  * This was important in order to be able to do any sort of math calculations with relation to amount of the transaction value.\n"
   ]
  },
  {
   "cell_type": "markdown",
   "metadata": {},
   "source": [
    "### **Assessment of Missingness**"
   ]
  },
  {
   "cell_type": "markdown",
   "metadata": {},
   "source": [
    "lhahedasdasd"
   ]
  },
  {
   "cell_type": "markdown",
   "metadata": {},
   "source": [
    "### **Hypothesis Test**"
   ]
  },
  {
   "cell_type": "markdown",
   "metadata": {},
   "source": [
    "aliwhdweawdcwd"
   ]
  },
  {
   "cell_type": "markdown",
   "metadata": {},
   "source": []
  },
  {
   "cell_type": "markdown",
   "metadata": {},
   "source": [
    "# **Code**"
   ]
  },
  {
   "cell_type": "code",
   "execution_count": 85,
   "metadata": {},
   "outputs": [],
   "source": [
    "import matplotlib.pyplot as plt\n",
    "import numpy as np\n",
    "import os\n",
    "import pandas as pd\n",
    "import seaborn as sns"
   ]
  },
  {
   "cell_type": "markdown",
   "metadata": {},
   "source": [
    "# **Cleaning and EDA**"
   ]
  },
  {
   "cell_type": "markdown",
   "metadata": {},
   "source": [
    "### **Data Cleaning**"
   ]
  },
  {
   "cell_type": "markdown",
   "metadata": {},
   "source": [
    "A note for this section: we decided to carry out cleaning and EDA before formulating our question, hoping that an interesting question would dawn upon us while doing EDA, so our cleaning will include more steps than necessary than required for eventual hypothesis testing."
   ]
  },
  {
   "cell_type": "code",
   "execution_count": 86,
   "metadata": {},
   "outputs": [
    {
     "data": {
      "text/html": [
       "<div>\n",
       "<style scoped>\n",
       "    .dataframe tbody tr th:only-of-type {\n",
       "        vertical-align: middle;\n",
       "    }\n",
       "\n",
       "    .dataframe tbody tr th {\n",
       "        vertical-align: top;\n",
       "    }\n",
       "\n",
       "    .dataframe thead th {\n",
       "        text-align: right;\n",
       "    }\n",
       "</style>\n",
       "<table border=\"1\" class=\"dataframe\">\n",
       "  <thead>\n",
       "    <tr style=\"text-align: right;\">\n",
       "      <th></th>\n",
       "      <th>disclosure_year</th>\n",
       "      <th>disclosure_date</th>\n",
       "      <th>transaction_date</th>\n",
       "      <th>owner</th>\n",
       "      <th>ticker</th>\n",
       "      <th>asset_description</th>\n",
       "      <th>type</th>\n",
       "      <th>amount</th>\n",
       "    </tr>\n",
       "  </thead>\n",
       "  <tbody>\n",
       "    <tr>\n",
       "      <th>0</th>\n",
       "      <td>2021</td>\n",
       "      <td>10/04/2021</td>\n",
       "      <td>2021-09-27</td>\n",
       "      <td>joint</td>\n",
       "      <td>BP</td>\n",
       "      <td>BP plc</td>\n",
       "      <td>purchase</td>\n",
       "      <td>$1,001 - $15,000</td>\n",
       "    </tr>\n",
       "    <tr>\n",
       "      <th>1</th>\n",
       "      <td>2021</td>\n",
       "      <td>10/04/2021</td>\n",
       "      <td>2021-09-13</td>\n",
       "      <td>joint</td>\n",
       "      <td>XOM</td>\n",
       "      <td>Exxon Mobil Corporation</td>\n",
       "      <td>purchase</td>\n",
       "      <td>$1,001 - $15,000</td>\n",
       "    </tr>\n",
       "    <tr>\n",
       "      <th>2</th>\n",
       "      <td>2021</td>\n",
       "      <td>10/04/2021</td>\n",
       "      <td>2021-09-10</td>\n",
       "      <td>joint</td>\n",
       "      <td>ILPT</td>\n",
       "      <td>Industrial Logistics Properties Trust - Common...</td>\n",
       "      <td>purchase</td>\n",
       "      <td>$15,001 - $50,000</td>\n",
       "    </tr>\n",
       "    <tr>\n",
       "      <th>3</th>\n",
       "      <td>2021</td>\n",
       "      <td>10/04/2021</td>\n",
       "      <td>2021-09-28</td>\n",
       "      <td>joint</td>\n",
       "      <td>PM</td>\n",
       "      <td>Phillip Morris International Inc</td>\n",
       "      <td>purchase</td>\n",
       "      <td>$15,001 - $50,000</td>\n",
       "    </tr>\n",
       "    <tr>\n",
       "      <th>4</th>\n",
       "      <td>2021</td>\n",
       "      <td>10/04/2021</td>\n",
       "      <td>2021-09-17</td>\n",
       "      <td>self</td>\n",
       "      <td>BLK</td>\n",
       "      <td>BlackRock Inc</td>\n",
       "      <td>sale_partial</td>\n",
       "      <td>$1,001 - $15,000</td>\n",
       "    </tr>\n",
       "  </tbody>\n",
       "</table>\n",
       "</div>"
      ],
      "text/plain": [
       "   disclosure_year disclosure_date transaction_date  owner ticker  \\\n",
       "0             2021      10/04/2021       2021-09-27  joint     BP   \n",
       "1             2021      10/04/2021       2021-09-13  joint    XOM   \n",
       "2             2021      10/04/2021       2021-09-10  joint   ILPT   \n",
       "3             2021      10/04/2021       2021-09-28  joint     PM   \n",
       "4             2021      10/04/2021       2021-09-17   self    BLK   \n",
       "\n",
       "                                   asset_description          type  \\\n",
       "0                                             BP plc      purchase   \n",
       "1                            Exxon Mobil Corporation      purchase   \n",
       "2  Industrial Logistics Properties Trust - Common...      purchase   \n",
       "3                   Phillip Morris International Inc      purchase   \n",
       "4                                      BlackRock Inc  sale_partial   \n",
       "\n",
       "              amount  \n",
       "0   $1,001 - $15,000  \n",
       "1   $1,001 - $15,000  \n",
       "2  $15,001 - $50,000  \n",
       "3  $15,001 - $50,000  \n",
       "4   $1,001 - $15,000  "
      ]
     },
     "metadata": {},
     "output_type": "display_data"
    },
    {
     "data": {
      "text/html": [
       "<div>\n",
       "<style scoped>\n",
       "    .dataframe tbody tr th:only-of-type {\n",
       "        vertical-align: middle;\n",
       "    }\n",
       "\n",
       "    .dataframe tbody tr th {\n",
       "        vertical-align: top;\n",
       "    }\n",
       "\n",
       "    .dataframe thead th {\n",
       "        text-align: right;\n",
       "    }\n",
       "</style>\n",
       "<table border=\"1\" class=\"dataframe\">\n",
       "  <thead>\n",
       "    <tr style=\"text-align: right;\">\n",
       "      <th></th>\n",
       "      <th>representative</th>\n",
       "      <th>district</th>\n",
       "      <th>ptr_link</th>\n",
       "      <th>cap_gains_over_200_usd</th>\n",
       "    </tr>\n",
       "  </thead>\n",
       "  <tbody>\n",
       "    <tr>\n",
       "      <th>0</th>\n",
       "      <td>Hon. Virginia Foxx</td>\n",
       "      <td>NC05</td>\n",
       "      <td>https://disclosures-clerk.house.gov/public_dis...</td>\n",
       "      <td>False</td>\n",
       "    </tr>\n",
       "    <tr>\n",
       "      <th>1</th>\n",
       "      <td>Hon. Virginia Foxx</td>\n",
       "      <td>NC05</td>\n",
       "      <td>https://disclosures-clerk.house.gov/public_dis...</td>\n",
       "      <td>False</td>\n",
       "    </tr>\n",
       "    <tr>\n",
       "      <th>2</th>\n",
       "      <td>Hon. Virginia Foxx</td>\n",
       "      <td>NC05</td>\n",
       "      <td>https://disclosures-clerk.house.gov/public_dis...</td>\n",
       "      <td>False</td>\n",
       "    </tr>\n",
       "    <tr>\n",
       "      <th>3</th>\n",
       "      <td>Hon. Virginia Foxx</td>\n",
       "      <td>NC05</td>\n",
       "      <td>https://disclosures-clerk.house.gov/public_dis...</td>\n",
       "      <td>False</td>\n",
       "    </tr>\n",
       "    <tr>\n",
       "      <th>4</th>\n",
       "      <td>Hon. Alan S. Lowenthal</td>\n",
       "      <td>CA47</td>\n",
       "      <td>https://disclosures-clerk.house.gov/public_dis...</td>\n",
       "      <td>False</td>\n",
       "    </tr>\n",
       "  </tbody>\n",
       "</table>\n",
       "</div>"
      ],
      "text/plain": [
       "           representative district  \\\n",
       "0      Hon. Virginia Foxx     NC05   \n",
       "1      Hon. Virginia Foxx     NC05   \n",
       "2      Hon. Virginia Foxx     NC05   \n",
       "3      Hon. Virginia Foxx     NC05   \n",
       "4  Hon. Alan S. Lowenthal     CA47   \n",
       "\n",
       "                                            ptr_link  cap_gains_over_200_usd  \n",
       "0  https://disclosures-clerk.house.gov/public_dis...                   False  \n",
       "1  https://disclosures-clerk.house.gov/public_dis...                   False  \n",
       "2  https://disclosures-clerk.house.gov/public_dis...                   False  \n",
       "3  https://disclosures-clerk.house.gov/public_dis...                   False  \n",
       "4  https://disclosures-clerk.house.gov/public_dis...                   False  "
      ]
     },
     "metadata": {},
     "output_type": "display_data"
    }
   ],
   "source": [
    "df = pd.read_csv('data/all_transactions.csv')\n",
    "# splitting up so dataframe is displayable in the final pdf :)\n",
    "display(df.iloc[:, :8].head())\n",
    "display(df.iloc[:, 8:].head())"
   ]
  },
  {
   "cell_type": "markdown",
   "metadata": {},
   "source": [
    "Let's look at the types of the columns to see which ones may need to have their types changed."
   ]
  },
  {
   "cell_type": "code",
   "execution_count": 87,
   "metadata": {},
   "outputs": [
    {
     "data": {
      "text/plain": [
       "disclosure_year            int64\n",
       "disclosure_date           object\n",
       "transaction_date          object\n",
       "owner                     object\n",
       "ticker                    object\n",
       "asset_description         object\n",
       "type                      object\n",
       "amount                    object\n",
       "representative            object\n",
       "district                  object\n",
       "ptr_link                  object\n",
       "cap_gains_over_200_usd      bool\n",
       "dtype: object"
      ]
     },
     "execution_count": 87,
     "metadata": {},
     "output_type": "execute_result"
    }
   ],
   "source": [
    "df.dtypes"
   ]
  },
  {
   "cell_type": "markdown",
   "metadata": {},
   "source": [
    "```disclosure_data``` and ```transaction_date``` can be represented in date time, but they are normal objects right now. \n",
    "\n",
    "Let's change them to pandas's ```datetime``` objects"
   ]
  },
  {
   "cell_type": "code",
   "execution_count": 88,
   "metadata": {},
   "outputs": [
    {
     "data": {
      "text/plain": [
       "disclosure_year                    int64\n",
       "disclosure_date           datetime64[ns]\n",
       "transaction_date          datetime64[ns]\n",
       "owner                             object\n",
       "ticker                            object\n",
       "asset_description                 object\n",
       "type                              object\n",
       "amount                            object\n",
       "representative                    object\n",
       "district                          object\n",
       "ptr_link                          object\n",
       "cap_gains_over_200_usd              bool\n",
       "dtype: object"
      ]
     },
     "execution_count": 88,
     "metadata": {},
     "output_type": "execute_result"
    }
   ],
   "source": [
    "# need to have errors = 'coerce', so some weird data gets set to np.nan\n",
    "df['disclosure_date'] = pd.to_datetime(df['disclosure_date'], errors = 'coerce')\n",
    "df['transaction_date'] = pd.to_datetime(df['transaction_date'], errors = 'coerce')\n",
    "df.dtypes"
   ]
  },
  {
   "cell_type": "markdown",
   "metadata": {},
   "source": [
    "This next step isn't super important for data analysis, but I'd say it is very important for some readability. If you can't read your data, what will you do??\n",
    "\n",
    "Let's clean the 'Hon. ' out of every rep's name so it becomes easier to read."
   ]
  },
  {
   "cell_type": "code",
   "execution_count": 89,
   "metadata": {},
   "outputs": [],
   "source": [
    "# regex=False to get rid of regex depracated warning\n",
    "df['representative'] = df['representative'].str.replace('Hon. ', '', regex=False)"
   ]
  },
  {
   "cell_type": "markdown",
   "metadata": {},
   "source": [
    "Let's create a `state` column so we can do groupby state if we need to in the future."
   ]
  },
  {
   "cell_type": "code",
   "execution_count": 90,
   "metadata": {},
   "outputs": [
    {
     "data": {
      "text/html": [
       "<div>\n",
       "<style scoped>\n",
       "    .dataframe tbody tr th:only-of-type {\n",
       "        vertical-align: middle;\n",
       "    }\n",
       "\n",
       "    .dataframe tbody tr th {\n",
       "        vertical-align: top;\n",
       "    }\n",
       "\n",
       "    .dataframe thead th {\n",
       "        text-align: right;\n",
       "    }\n",
       "</style>\n",
       "<table border=\"1\" class=\"dataframe\">\n",
       "  <thead>\n",
       "    <tr style=\"text-align: right;\">\n",
       "      <th></th>\n",
       "      <th>state</th>\n",
       "    </tr>\n",
       "  </thead>\n",
       "  <tbody>\n",
       "    <tr>\n",
       "      <th>0</th>\n",
       "      <td>NC</td>\n",
       "    </tr>\n",
       "    <tr>\n",
       "      <th>1</th>\n",
       "      <td>NC</td>\n",
       "    </tr>\n",
       "    <tr>\n",
       "      <th>2</th>\n",
       "      <td>NC</td>\n",
       "    </tr>\n",
       "    <tr>\n",
       "      <th>3</th>\n",
       "      <td>NC</td>\n",
       "    </tr>\n",
       "    <tr>\n",
       "      <th>4</th>\n",
       "      <td>CA</td>\n",
       "    </tr>\n",
       "  </tbody>\n",
       "</table>\n",
       "</div>"
      ],
      "text/plain": [
       "  state\n",
       "0    NC\n",
       "1    NC\n",
       "2    NC\n",
       "3    NC\n",
       "4    CA"
      ]
     },
     "execution_count": 90,
     "metadata": {},
     "output_type": "execute_result"
    }
   ],
   "source": [
    "df['state'] = df['district'].str[:2]\n",
    "df[['state']].head()"
   ]
  },
  {
   "cell_type": "markdown",
   "metadata": {},
   "source": [
    "Now let's deal with the ranges in the ```amount``` column. The ranges are an issue for 2 reasons:\n",
    "\n",
    "* We can't do math with a range\n",
    "* It's harder to read"
   ]
  },
  {
   "cell_type": "markdown",
   "metadata": {},
   "source": [
    "So let's create a new column, ```amount_cleaned```, that consists of the mean of the range given in ```amount```. \n",
    "\n",
    "And for values without a range, e.g. '$1,001 -', we'll deal with those after we fill in the ranges with averages."
   ]
  },
  {
   "cell_type": "code",
   "execution_count": 91,
   "metadata": {},
   "outputs": [],
   "source": [
    "# create a dictionary to map range values to their average value\n",
    "mapped_values = {\n",
    "    '$1,001 - $15,000':8_000.5,\n",
    "    '$15,001 - $50,000':32_500.5,\n",
    "    '$50,001 - $100,000':75_000.5,\n",
    "    '$100,001 - $250,000':175_000.5,\n",
    "\n",
    "    # place holder so we can calculate values by filling in average\n",
    "    '$1,001 -':-99,\n",
    "\n",
    "    '$250,001 - $500,000':375_000.5,\n",
    "    '$500,001 - $1,000,000':375_000.5,\n",
    "    '$1,000,001 - $5,000,000':3_000_000.5,\n",
    "\n",
    "    # place holder so we can calculate values by filling in average\n",
    "    '$1,000,000 +':-100,\n",
    "\n",
    "    '$5,000,001 - $25,000,000':15_000_000.5,\n",
    "    '$1,000 - $15,000':8_000,\n",
    "    '$15,000 - $50,000':32_000,\n",
    "\n",
    "    # we aren't giving 50,000,000+ a placeholder here, because we think\n",
    "    # 50,000,000+ is already too much so let's just keep the average as is.\n",
    "    '$50,000,000 +':50_000_000,\n",
    "    '$1,000,000 - $5,000,000':3_000_000,\n",
    "}"
   ]
  },
  {
   "cell_type": "code",
   "execution_count": 92,
   "metadata": {},
   "outputs": [],
   "source": [
    "# replace range values with their average value\n",
    "df['amount_cleaned'] = df['amount'].replace(mapped_values)"
   ]
  },
  {
   "cell_type": "markdown",
   "metadata": {},
   "source": [
    "Now let's deal with the non-ranges, i.e., '$1,001 -' and '$1,000,000 +'\n",
    "\n",
    "Let's find the average of ```amount_cleaned``` column when values are above $1,001 and $1,000,000 seperately, and then replace the respective values."
   ]
  },
  {
   "cell_type": "code",
   "execution_count": 93,
   "metadata": {},
   "outputs": [
    {
     "data": {
      "text/plain": [
       "(53267.76, 6163265.79)"
      ]
     },
     "execution_count": 93,
     "metadata": {},
     "output_type": "execute_result"
    }
   ],
   "source": [
    "avg_above_1001 = round(df.loc[df['amount_cleaned'] >= 1_001]['amount_cleaned'].mean(), 2)\n",
    "avg_above_1_mil = round(df.loc[df['amount_cleaned'] >= 1_000_000]['amount_cleaned'].mean(), 2)\n",
    "\n",
    "avg_above_1001, avg_above_1_mil"
   ]
  },
  {
   "cell_type": "code",
   "execution_count": 94,
   "metadata": {},
   "outputs": [
    {
     "data": {
      "text/plain": [
       "False"
      ]
     },
     "execution_count": 94,
     "metadata": {},
     "output_type": "execute_result"
    }
   ],
   "source": [
    "# replace -99, which maps to '$1,001 -' in 'amounts' with avg_above_1001\n",
    "df['amount_cleaned'] = df['amount_cleaned'].replace({-99: avg_above_1001})\n",
    "\n",
    "# replace -100, which maps to '$1,000,000 +' in 'amounts' with avg_above_1_mil\n",
    "df['amount_cleaned'] = df['amount_cleaned'].replace({-100: avg_above_1_mil})\n",
    "\n",
    "# let's make sure the -99 and -100 values are gone!\n",
    "(-99 or -100) in df['amount_cleaned'].value_counts()"
   ]
  },
  {
   "cell_type": "code",
   "execution_count": 95,
   "metadata": {},
   "outputs": [
    {
     "data": {
      "text/plain": [
       "dtype('float64')"
      ]
     },
     "execution_count": 95,
     "metadata": {},
     "output_type": "execute_result"
    }
   ],
   "source": [
    "# let's make sure our newly added column is of type float\n",
    "df.dtypes[-1]"
   ]
  },
  {
   "cell_type": "markdown",
   "metadata": {},
   "source": [
    "What if we wanted to examine how long it takes for reps to disclose their trade? Let's create a new column called ```non_disclosure_period(days)```.\n",
    "\n",
    "Our previous work of converting `disclosure_date` and `transaction_date` to `datetime` objects will also come in handy here, since we can simply subtract the 2 columns."
   ]
  },
  {
   "cell_type": "code",
   "execution_count": 96,
   "metadata": {},
   "outputs": [
    {
     "data": {
      "text/html": [
       "<div>\n",
       "<style scoped>\n",
       "    .dataframe tbody tr th:only-of-type {\n",
       "        vertical-align: middle;\n",
       "    }\n",
       "\n",
       "    .dataframe tbody tr th {\n",
       "        vertical-align: top;\n",
       "    }\n",
       "\n",
       "    .dataframe thead th {\n",
       "        text-align: right;\n",
       "    }\n",
       "</style>\n",
       "<table border=\"1\" class=\"dataframe\">\n",
       "  <thead>\n",
       "    <tr style=\"text-align: right;\">\n",
       "      <th></th>\n",
       "      <th>non_disclosure_period(days)</th>\n",
       "    </tr>\n",
       "  </thead>\n",
       "  <tbody>\n",
       "    <tr>\n",
       "      <th>0</th>\n",
       "      <td>7.0</td>\n",
       "    </tr>\n",
       "    <tr>\n",
       "      <th>1</th>\n",
       "      <td>21.0</td>\n",
       "    </tr>\n",
       "    <tr>\n",
       "      <th>2</th>\n",
       "      <td>24.0</td>\n",
       "    </tr>\n",
       "    <tr>\n",
       "      <th>3</th>\n",
       "      <td>6.0</td>\n",
       "    </tr>\n",
       "    <tr>\n",
       "      <th>4</th>\n",
       "      <td>17.0</td>\n",
       "    </tr>\n",
       "  </tbody>\n",
       "</table>\n",
       "</div>"
      ],
      "text/plain": [
       "   non_disclosure_period(days)\n",
       "0                          7.0\n",
       "1                         21.0\n",
       "2                         24.0\n",
       "3                          6.0\n",
       "4                         17.0"
      ]
     },
     "execution_count": 96,
     "metadata": {},
     "output_type": "execute_result"
    }
   ],
   "source": [
    "# assign a new column 'non_disclosure_period(days)' to be difference of 'disclosure_date' and 'transaction_date'\n",
    "df['non_disclosure_period(days)'] = (df['disclosure_date'] - df['transaction_date']).dt.days\n",
    "df[['non_disclosure_period(days)']].head()"
   ]
  },
  {
   "cell_type": "markdown",
   "metadata": {},
   "source": [
    "Let's see if there are any weird values in this new column."
   ]
  },
  {
   "cell_type": "code",
   "execution_count": 97,
   "metadata": {},
   "outputs": [
    {
     "data": {
      "text/plain": [
       "13"
      ]
     },
     "execution_count": 97,
     "metadata": {},
     "output_type": "execute_result"
    }
   ],
   "source": [
    "df[df['non_disclosure_period(days)'] < 0].shape[0]"
   ]
  },
  {
   "cell_type": "markdown",
   "metadata": {},
   "source": [
    "There are 13 transactions where non disclosure days are negative. We will exclude those."
   ]
  },
  {
   "cell_type": "markdown",
   "metadata": {},
   "source": [
    "This concludes our data cleaning section."
   ]
  },
  {
   "cell_type": "markdown",
   "metadata": {},
   "source": [
    "### **EDA - Univariate Analysis**"
   ]
  },
  {
   "cell_type": "markdown",
   "metadata": {},
   "source": [
    "Note: ```value_counts()``` will help us understand the values of a column by showing us how many times each entry occurs."
   ]
  },
  {
   "cell_type": "markdown",
   "metadata": {},
   "source": [
    "Let's explore the ``disclosure_year`` columm first."
   ]
  },
  {
   "cell_type": "code",
   "execution_count": 98,
   "metadata": {},
   "outputs": [
    {
     "data": {
      "image/png": "[encoded data removed]",
      "text/plain": [
       "<Figure size 576x432 with 1 Axes>"
      ]
     },
     "metadata": {
      "needs_background": "light"
     },
     "output_type": "display_data"
    }
   ],
   "source": [
    "# first call .value_counts(), then .plot(), so graph is easier to read\n",
    "df['disclosure_year'].value_counts().plot(kind = 'bar', \\\n",
    "    title = 'Year of Stock Transaction Disclosure', \\\n",
    "    xlabel = 'Year', ylabel = 'number of `stock transactions', figsize=(8,6));"
   ]
  },
  {
   "cell_type": "markdown",
   "metadata": {},
   "source": [
    "Clearly **2020** was the most popular year in this data set. This doesn't mean that the reps just traded more in 2020 than in 2021 or 2022, they probably just have not disclosed trades from those two years yet."
   ]
  },
  {
   "cell_type": "markdown",
   "metadata": {},
   "source": [
    "Now let's look at the ```ticker``` column. There are too many individiual tickers (abbreviations used to uniquely identify shares of a particular stock), so we will only look at the top 20."
   ]
  },
  {
   "cell_type": "code",
   "execution_count": 99,
   "metadata": {},
   "outputs": [
    {
     "data": {
      "image/png": "[encoded data removed]",
      "text/plain": [
       "<Figure size 720x432 with 1 Axes>"
      ]
     },
     "metadata": {
      "needs_background": "light"
     },
     "output_type": "display_data"
    }
   ],
   "source": [
    "df['ticker'].value_counts()[:20].plot(kind = 'barh', figsize=(10,6))\n",
    "plt.title('20 Most Popular Stock Transactions by Ticker')\n",
    "plt.ylabel('ticker')\n",
    "plt.xlabel('number of transactions')\n",
    "plt.show()"
   ]
  },
  {
   "cell_type": "markdown",
   "metadata": {},
   "source": [
    "Clearly, the most popular stock trades are in tech:\n",
    "* Microsoft\n",
    "* Apple\n",
    "* NetApp\n",
    "* FaceBook (Meta)\n",
    "* Amazon\n",
    "* Tesla\n",
    "* and so on...\n",
    "\n",
    "But there is even a Fed Fund:\n",
    "*  BLF FedFund (TDDXX)\n",
    "\n",
    "\n",
    "**Surprised rich people are investing in fed funds?**\n",
    "\n",
    "**Hey, maybe the old people in the House of Representatives *really do care***\n",
    "**about their retirement funds!**\n",
    "\n",
    "\n",
    "The biggest surprise, however, is the most popular ticker, '--', which isn't even a stock. What is '--'? Let's clean that up and convert to `np.nan`."
   ]
  },
  {
   "cell_type": "code",
   "execution_count": 100,
   "metadata": {},
   "outputs": [],
   "source": [
    "df['ticker'] = df['ticker'].replace({'--': np.nan})"
   ]
  },
  {
   "cell_type": "markdown",
   "metadata": {},
   "source": [
    "Let's make sure the `--` characters are gone."
   ]
  },
  {
   "cell_type": "code",
   "execution_count": 101,
   "metadata": {},
   "outputs": [
    {
     "data": {
      "text/plain": [
       "True"
      ]
     },
     "execution_count": 101,
     "metadata": {},
     "output_type": "execute_result"
    }
   ],
   "source": [
    "# resulting dataframe should have 0 rows, .shape[0] should be equal to 0\n",
    "df[df['ticker'] == '--'].shape[0] == 0"
   ]
  },
  {
   "cell_type": "markdown",
   "metadata": {},
   "source": [
    "Now let's look at the ```amount_cleaned``` column, to see how much of that 💰💸🤑 reps bring in."
   ]
  },
  {
   "cell_type": "code",
   "execution_count": 102,
   "metadata": {},
   "outputs": [
    {
     "data": {
      "image/png": "[encoded data removed]",
      "text/plain": [
       "<Figure size 576x432 with 1 Axes>"
      ]
     },
     "metadata": {
      "needs_background": "light"
     },
     "output_type": "display_data"
    }
   ],
   "source": [
    "# first call .value_counts(), then .plot(), so graph is easier to read\n",
    "df['amount_cleaned'].value_counts().plot(kind = 'bar', \\\n",
    "    title = 'How many transactions reps make, by size', ylabel = 'Number of transactions', \\\n",
    "    xlabel = 'Transaction Amount (averaged)', figsize=(8,6));"
   ]
  },
  {
   "cell_type": "markdown",
   "metadata": {},
   "source": [
    "Wow! Such an overwhelming majority of stock trades are averaged out to $8,000, that the graph gets stretched vertically so much that we cannot even estimate how many transactions are done for any transaction above $53267.76."
   ]
  },
  {
   "cell_type": "markdown",
   "metadata": {},
   "source": [
    "### **EDA - Bivariate Analysis**"
   ]
  },
  {
   "cell_type": "markdown",
   "metadata": {},
   "source": [
    "We want to see whether reps have many counts of capital gains of over $200 or few. Let's find that out by grouping ```amount_cleaned``` and ```cap_gains_over_200_usd```."
   ]
  },
  {
   "cell_type": "code",
   "execution_count": 103,
   "metadata": {},
   "outputs": [
    {
     "data": {
      "image/png": "[encoded data removed]",
      "text/plain": [
       "<Figure size 720x432 with 1 Axes>"
      ]
     },
     "metadata": {
      "needs_background": "light"
     },
     "output_type": "display_data"
    }
   ],
   "source": [
    "df[['amount_cleaned', 'cap_gains_over_200_usd']].value_counts().plot(kind = 'barh', figsize=(10,6))\n",
    "plt.xlabel(\"Count\")\n",
    "plt.ylabel(\"(amount, capital gains over $200)\")\n",
    "plt.show()"
   ]
  },
  {
   "cell_type": "markdown",
   "metadata": {},
   "source": [
    "Let's see if the `non_disclosure_period(days)` column has any correlation with `amount_cleaned`.\n",
    "\n",
    "Does a bigger stock transaction (higher `amount_cleaned`) lead to a longer `non_disclosure_period(days)` period? Let's find out."
   ]
  },
  {
   "cell_type": "code",
   "execution_count": 104,
   "metadata": {},
   "outputs": [
    {
     "data": {
      "image/png": "[encoded data removed]",
      "text/plain": [
       "<Figure size 720x432 with 1 Axes>"
      ]
     },
     "metadata": {
      "needs_background": "light"
     },
     "output_type": "display_data"
    }
   ],
   "source": [
    "relevant_non_disclosure_periods = df.loc[(df['non_disclosure_period(days)'] > 0)]\\\n",
    "    [['amount_cleaned', 'non_disclosure_period(days)']]\n",
    "relevant_non_disclosure_periods.plot(kind='scatter', x='amount_cleaned', \\\n",
    "    y = 'non_disclosure_period(days)', figsize=(10,6));"
   ]
  },
  {
   "cell_type": "markdown",
   "metadata": {},
   "source": [
    "Before analyzing anything, an important point: this graph seems kinda weird right? Why are all the points jumbled around a few x values?\n",
    "\n",
    "Well, this is the result of replacing a range with the average of the range."
   ]
  },
  {
   "cell_type": "markdown",
   "metadata": {},
   "source": [
    "As most of our data is seems to be less than trade transaction amount of 2 million, let's zoom in on its left to see if we notice anything."
   ]
  },
  {
   "cell_type": "code",
   "execution_count": 105,
   "metadata": {},
   "outputs": [
    {
     "data": {
      "image/png": "[encoded data removed]",
      "text/plain": [
       "<Figure size 720x432 with 1 Axes>"
      ]
     },
     "metadata": {
      "needs_background": "light"
     },
     "output_type": "display_data"
    }
   ],
   "source": [
    "closer_look = relevant_non_disclosure_periods[relevant_non_disclosure_periods['amount_cleaned'] < 2_000_000]\n",
    "closer_look.plot(kind='scatter', x='amount_cleaned', y = 'non_disclosure_period(days)', figsize=(10,6));"
   ]
  },
  {
   "cell_type": "markdown",
   "metadata": {},
   "source": [
    "Huh!\n",
    "\n",
    "We notice that there doesn't seem to be much relationship between transaction amount and the non disclosure period. Our hypothesis was that reps that have invested more in trades delay disclosing it, **but here we see the opposite**, where, if the transaction was high, they seem to be disclosing it sooner than if the transaction was low.\n",
    "\n",
    "This makes sense, they probably don't want to get into legal trouble. They are politicians after all, and they will do anything to make sure they get reelected. I'm sure the headlines of\n",
    "\n",
    " *Rep. X. arrested after failing to disclose a trade of $5,000,000.*\n",
    "\n",
    " won't be great for their political career."
   ]
  },
  {
   "cell_type": "markdown",
   "metadata": {},
   "source": [
    "### **Interesting Aggregates / Pivot Tables**"
   ]
  },
  {
   "cell_type": "markdown",
   "metadata": {},
   "source": [
    "Let's find out if there are any reps with a 100% `cap_gains_over_200_usd` proportion score."
   ]
  },
  {
   "cell_type": "code",
   "execution_count": 106,
   "metadata": {},
   "outputs": [
    {
     "data": {
      "text/html": [
       "<div>\n",
       "<style scoped>\n",
       "    .dataframe tbody tr th:only-of-type {\n",
       "        vertical-align: middle;\n",
       "    }\n",
       "\n",
       "    .dataframe tbody tr th {\n",
       "        vertical-align: top;\n",
       "    }\n",
       "\n",
       "    .dataframe thead th {\n",
       "        text-align: right;\n",
       "    }\n",
       "</style>\n",
       "<table border=\"1\" class=\"dataframe\">\n",
       "  <thead>\n",
       "    <tr style=\"text-align: right;\">\n",
       "      <th></th>\n",
       "      <th>cap_gains_over_200_usd</th>\n",
       "    </tr>\n",
       "    <tr>\n",
       "      <th>representative</th>\n",
       "      <th></th>\n",
       "    </tr>\n",
       "  </thead>\n",
       "  <tbody>\n",
       "    <tr>\n",
       "      <th>Patrick T. McHenry</th>\n",
       "      <td>1.000000</td>\n",
       "    </tr>\n",
       "    <tr>\n",
       "      <th>Mr. TJ John (Tj) Cox</th>\n",
       "      <td>1.000000</td>\n",
       "    </tr>\n",
       "    <tr>\n",
       "      <th>Tim Burchett</th>\n",
       "      <td>1.000000</td>\n",
       "    </tr>\n",
       "    <tr>\n",
       "      <th>Mr. Peter Meijer</th>\n",
       "      <td>0.902256</td>\n",
       "    </tr>\n",
       "    <tr>\n",
       "      <th>Bradley S. Schneider</th>\n",
       "      <td>0.777778</td>\n",
       "    </tr>\n",
       "    <tr>\n",
       "      <th>...</th>\n",
       "      <td>...</td>\n",
       "    </tr>\n",
       "    <tr>\n",
       "      <th>Harold Dallas Rogers</th>\n",
       "      <td>0.000000</td>\n",
       "    </tr>\n",
       "    <tr>\n",
       "      <th>Harley E. Rouda</th>\n",
       "      <td>0.000000</td>\n",
       "    </tr>\n",
       "    <tr>\n",
       "      <th>Gus M. Bilirakis</th>\n",
       "      <td>0.000000</td>\n",
       "    </tr>\n",
       "    <tr>\n",
       "      <th>Greg Steube</th>\n",
       "      <td>0.000000</td>\n",
       "    </tr>\n",
       "    <tr>\n",
       "      <th>Katherine M. Clark</th>\n",
       "      <td>0.000000</td>\n",
       "    </tr>\n",
       "  </tbody>\n",
       "</table>\n",
       "<p>178 rows × 1 columns</p>\n",
       "</div>"
      ],
      "text/plain": [
       "                      cap_gains_over_200_usd\n",
       "representative                              \n",
       "Patrick T. McHenry                  1.000000\n",
       "Mr. TJ John (Tj) Cox                1.000000\n",
       "Tim Burchett                        1.000000\n",
       "Mr. Peter Meijer                    0.902256\n",
       "Bradley S. Schneider                0.777778\n",
       "...                                      ...\n",
       "Harold Dallas Rogers                0.000000\n",
       "Harley E. Rouda                     0.000000\n",
       "Gus M. Bilirakis                    0.000000\n",
       "Greg Steube                         0.000000\n",
       "Katherine M. Clark                  0.000000\n",
       "\n",
       "[178 rows x 1 columns]"
      ]
     },
     "execution_count": 106,
     "metadata": {},
     "output_type": "execute_result"
    }
   ],
   "source": [
    "(\n",
    "    df.pivot_table(index = 'representative', values = 'cap_gains_over_200_usd')\n",
    "    .sort_values(by='cap_gains_over_200_usd', ascending=False)\n",
    ")"
   ]
  },
  {
   "cell_type": "markdown",
   "metadata": {},
   "source": [
    "It looks like Reps. Patrick T. McHenry, Mr. TJ John (Tj) Cox, and Tim Burchett are pros, with a 100% ```cap_gains_over_200_usd``` proportion score. But, are they really?\""
   ]
  },
  {
   "cell_type": "code",
   "execution_count": 107,
   "metadata": {},
   "outputs": [
    {
     "data": {
      "text/html": [
       "<div>\n",
       "<style scoped>\n",
       "    .dataframe tbody tr th:only-of-type {\n",
       "        vertical-align: middle;\n",
       "    }\n",
       "\n",
       "    .dataframe tbody tr th {\n",
       "        vertical-align: top;\n",
       "    }\n",
       "\n",
       "    .dataframe thead th {\n",
       "        text-align: right;\n",
       "    }\n",
       "</style>\n",
       "<table border=\"1\" class=\"dataframe\">\n",
       "  <thead>\n",
       "    <tr style=\"text-align: right;\">\n",
       "      <th></th>\n",
       "      <th>disclosure_year</th>\n",
       "      <th>disclosure_date</th>\n",
       "      <th>transaction_date</th>\n",
       "      <th>owner</th>\n",
       "      <th>ticker</th>\n",
       "      <th>asset_description</th>\n",
       "      <th>type</th>\n",
       "      <th>amount</th>\n",
       "      <th>representative</th>\n",
       "      <th>district</th>\n",
       "      <th>ptr_link</th>\n",
       "      <th>cap_gains_over_200_usd</th>\n",
       "      <th>state</th>\n",
       "      <th>amount_cleaned</th>\n",
       "      <th>non_disclosure_period(days)</th>\n",
       "    </tr>\n",
       "  </thead>\n",
       "  <tbody>\n",
       "    <tr>\n",
       "      <th>56</th>\n",
       "      <td>2020</td>\n",
       "      <td>2020-09-22</td>\n",
       "      <td>2020-08-17</td>\n",
       "      <td>NaN</td>\n",
       "      <td>NaN</td>\n",
       "      <td>Metallic Minerals Corp.</td>\n",
       "      <td>sale_partial</td>\n",
       "      <td>$100,001 - $250,000</td>\n",
       "      <td>Mr. TJ John (Tj) Cox</td>\n",
       "      <td>CA21</td>\n",
       "      <td>https://disclosures-clerk.house.gov/public_dis...</td>\n",
       "      <td>True</td>\n",
       "      <td>CA</td>\n",
       "      <td>175000.5</td>\n",
       "      <td>36.0</td>\n",
       "    </tr>\n",
       "    <tr>\n",
       "      <th>10854</th>\n",
       "      <td>2021</td>\n",
       "      <td>2021-01-10</td>\n",
       "      <td>2020-11-19</td>\n",
       "      <td>NaN</td>\n",
       "      <td>D</td>\n",
       "      <td>Sale of shares in Dominion Energy Inc.</td>\n",
       "      <td>sale_full</td>\n",
       "      <td>$15,001 - $50,000</td>\n",
       "      <td>Patrick T. McHenry</td>\n",
       "      <td>NC10</td>\n",
       "      <td>https://disclosures-clerk.house.gov/public_dis...</td>\n",
       "      <td>True</td>\n",
       "      <td>NC</td>\n",
       "      <td>32500.5</td>\n",
       "      <td>52.0</td>\n",
       "    </tr>\n",
       "    <tr>\n",
       "      <th>13381</th>\n",
       "      <td>2020</td>\n",
       "      <td>2020-02-26</td>\n",
       "      <td>2020-02-12</td>\n",
       "      <td>NaN</td>\n",
       "      <td>DENN</td>\n",
       "      <td>Denny's Corporation</td>\n",
       "      <td>sale_full</td>\n",
       "      <td>$1,001 - $15,000</td>\n",
       "      <td>Tim Burchett</td>\n",
       "      <td>TN02</td>\n",
       "      <td>https://disclosures-clerk.house.gov/public_dis...</td>\n",
       "      <td>True</td>\n",
       "      <td>TN</td>\n",
       "      <td>8000.5</td>\n",
       "      <td>14.0</td>\n",
       "    </tr>\n",
       "  </tbody>\n",
       "</table>\n",
       "</div>"
      ],
      "text/plain": [
       "       disclosure_year disclosure_date transaction_date owner ticker  \\\n",
       "56                2020      2020-09-22       2020-08-17   NaN    NaN   \n",
       "10854             2021      2021-01-10       2020-11-19   NaN      D   \n",
       "13381             2020      2020-02-26       2020-02-12   NaN   DENN   \n",
       "\n",
       "                            asset_description          type  \\\n",
       "56                    Metallic Minerals Corp.  sale_partial   \n",
       "10854  Sale of shares in Dominion Energy Inc.     sale_full   \n",
       "13381                     Denny's Corporation     sale_full   \n",
       "\n",
       "                    amount        representative district  \\\n",
       "56     $100,001 - $250,000  Mr. TJ John (Tj) Cox     CA21   \n",
       "10854    $15,001 - $50,000    Patrick T. McHenry     NC10   \n",
       "13381     $1,001 - $15,000          Tim Burchett     TN02   \n",
       "\n",
       "                                                ptr_link  \\\n",
       "56     https://disclosures-clerk.house.gov/public_dis...   \n",
       "10854  https://disclosures-clerk.house.gov/public_dis...   \n",
       "13381  https://disclosures-clerk.house.gov/public_dis...   \n",
       "\n",
       "       cap_gains_over_200_usd state  amount_cleaned  \\\n",
       "56                       True    CA        175000.5   \n",
       "10854                    True    NC         32500.5   \n",
       "13381                    True    TN          8000.5   \n",
       "\n",
       "       non_disclosure_period(days)  \n",
       "56                            36.0  \n",
       "10854                         52.0  \n",
       "13381                         14.0  "
      ]
     },
     "execution_count": 107,
     "metadata": {},
     "output_type": "execute_result"
    }
   ],
   "source": [
    "df[\n",
    "    (df['representative'] == 'Patrick T. McHenry') |\n",
    "    (df['representative'] == 'Mr. TJ John (Tj) Cox') |\n",
    "    (df['representative'] == 'Tim Burchett')\n",
    "]"
   ]
  },
  {
   "cell_type": "markdown",
   "metadata": {},
   "source": [
    "Upon further review, it seems that they each have only traded once so we don't have enough data to conclude that they are really pros at stock trading. "
   ]
  },
  {
   "cell_type": "markdown",
   "metadata": {},
   "source": [
    "Ok, that was a flop.\n",
    "\n",
    "Here's a new one to aggregate:\n",
    "**Which state has the highest average number of trades that result in capital gains over $200?**"
   ]
  },
  {
   "cell_type": "code",
   "execution_count": 108,
   "metadata": {},
   "outputs": [
    {
     "data": {
      "text/html": [
       "<div>\n",
       "<style scoped>\n",
       "    .dataframe tbody tr th:only-of-type {\n",
       "        vertical-align: middle;\n",
       "    }\n",
       "\n",
       "    .dataframe tbody tr th {\n",
       "        vertical-align: top;\n",
       "    }\n",
       "\n",
       "    .dataframe thead th {\n",
       "        text-align: right;\n",
       "    }\n",
       "</style>\n",
       "<table border=\"1\" class=\"dataframe\">\n",
       "  <thead>\n",
       "    <tr style=\"text-align: right;\">\n",
       "      <th></th>\n",
       "      <th>cap_gains_over_200_usd</th>\n",
       "    </tr>\n",
       "    <tr>\n",
       "      <th>state</th>\n",
       "      <th></th>\n",
       "    </tr>\n",
       "  </thead>\n",
       "  <tbody>\n",
       "    <tr>\n",
       "      <th>MI</th>\n",
       "      <td>0.772871</td>\n",
       "    </tr>\n",
       "    <tr>\n",
       "      <th>SC</th>\n",
       "      <td>0.379310</td>\n",
       "    </tr>\n",
       "    <tr>\n",
       "      <th>NY</th>\n",
       "      <td>0.280702</td>\n",
       "    </tr>\n",
       "    <tr>\n",
       "      <th>ID</th>\n",
       "      <td>0.222222</td>\n",
       "    </tr>\n",
       "    <tr>\n",
       "      <th>LA</th>\n",
       "      <td>0.222222</td>\n",
       "    </tr>\n",
       "  </tbody>\n",
       "</table>\n",
       "</div>"
      ],
      "text/plain": [
       "       cap_gains_over_200_usd\n",
       "state                        \n",
       "MI                   0.772871\n",
       "SC                   0.379310\n",
       "NY                   0.280702\n",
       "ID                   0.222222\n",
       "LA                   0.222222"
      ]
     },
     "execution_count": 108,
     "metadata": {},
     "output_type": "execute_result"
    }
   ],
   "source": [
    "(\n",
    "    df.pivot_table(index = 'state', values = 'cap_gains_over_200_usd')\n",
    "    .sort_values(by = 'cap_gains_over_200_usd', ascending=False)\n",
    "    .head()\n",
    ")"
   ]
  },
  {
   "cell_type": "markdown",
   "metadata": {},
   "source": [
    "Michigan! With a pretty mind blowing result of 77% 🤯\n",
    "\n",
    "Does the value of 77% seem *sussy?* Well, we do. (Yes, this is foreshadowing for our Hypothesis Testing)\n",
    "\n",
    "**Note:** The first that may come to mind is that Michigan may have had a high ```cap_gains_over_200_usd``` value for relatively small trades, in the $8000.5 category, and low numbers in the rest. This would have induced Simpson's paradox. But as shown below, we checked with another pivot table, and it is really the case that Michigan has high ```cap_gains_over_200_usd``` values for *all* amount categories. "
   ]
  },
  {
   "cell_type": "markdown",
   "metadata": {},
   "source": [
    "Let's look at `non_disclosure_period(days)` values indexed by the stock transaction amount itself, for each type of exchange."
   ]
  },
  {
   "cell_type": "code",
   "execution_count": 109,
   "metadata": {},
   "outputs": [
    {
     "data": {
      "text/html": [
       "<div>\n",
       "<style scoped>\n",
       "    .dataframe tbody tr th:only-of-type {\n",
       "        vertical-align: middle;\n",
       "    }\n",
       "\n",
       "    .dataframe tbody tr th {\n",
       "        vertical-align: top;\n",
       "    }\n",
       "\n",
       "    .dataframe thead th {\n",
       "        text-align: right;\n",
       "    }\n",
       "</style>\n",
       "<table border=\"1\" class=\"dataframe\">\n",
       "  <thead>\n",
       "    <tr style=\"text-align: right;\">\n",
       "      <th>type</th>\n",
       "      <th>exchange</th>\n",
       "      <th>purchase</th>\n",
       "      <th>sale_full</th>\n",
       "      <th>sale_partial</th>\n",
       "    </tr>\n",
       "    <tr>\n",
       "      <th>amount_cleaned</th>\n",
       "      <th></th>\n",
       "      <th></th>\n",
       "      <th></th>\n",
       "      <th></th>\n",
       "    </tr>\n",
       "  </thead>\n",
       "  <tbody>\n",
       "    <tr>\n",
       "      <th>8000.00</th>\n",
       "      <td>NaN</td>\n",
       "      <td>NaN</td>\n",
       "      <td>19.000000</td>\n",
       "      <td>19.000000</td>\n",
       "    </tr>\n",
       "    <tr>\n",
       "      <th>8000.50</th>\n",
       "      <td>149.081967</td>\n",
       "      <td>65.273784</td>\n",
       "      <td>73.570919</td>\n",
       "      <td>57.616108</td>\n",
       "    </tr>\n",
       "    <tr>\n",
       "      <th>32000.00</th>\n",
       "      <td>NaN</td>\n",
       "      <td>NaN</td>\n",
       "      <td>19.000000</td>\n",
       "      <td>19.000000</td>\n",
       "    </tr>\n",
       "    <tr>\n",
       "      <th>32500.50</th>\n",
       "      <td>35.285714</td>\n",
       "      <td>49.260524</td>\n",
       "      <td>44.978177</td>\n",
       "      <td>80.050562</td>\n",
       "    </tr>\n",
       "    <tr>\n",
       "      <th>53267.76</th>\n",
       "      <td>19.000000</td>\n",
       "      <td>10.752688</td>\n",
       "      <td>39.545455</td>\n",
       "      <td>13.031746</td>\n",
       "    </tr>\n",
       "    <tr>\n",
       "      <th>75000.50</th>\n",
       "      <td>40.875000</td>\n",
       "      <td>42.727506</td>\n",
       "      <td>42.405738</td>\n",
       "      <td>63.606557</td>\n",
       "    </tr>\n",
       "    <tr>\n",
       "      <th>175000.50</th>\n",
       "      <td>40.500000</td>\n",
       "      <td>25.249097</td>\n",
       "      <td>53.600917</td>\n",
       "      <td>40.725000</td>\n",
       "    </tr>\n",
       "    <tr>\n",
       "      <th>375000.50</th>\n",
       "      <td>33.333333</td>\n",
       "      <td>27.622754</td>\n",
       "      <td>37.950311</td>\n",
       "      <td>47.933333</td>\n",
       "    </tr>\n",
       "    <tr>\n",
       "      <th>3000000.00</th>\n",
       "      <td>NaN</td>\n",
       "      <td>NaN</td>\n",
       "      <td>23.000000</td>\n",
       "      <td>NaN</td>\n",
       "    </tr>\n",
       "    <tr>\n",
       "      <th>3000000.50</th>\n",
       "      <td>43.000000</td>\n",
       "      <td>29.210526</td>\n",
       "      <td>21.000000</td>\n",
       "      <td>25.666667</td>\n",
       "    </tr>\n",
       "    <tr>\n",
       "      <th>6163265.79</th>\n",
       "      <td>NaN</td>\n",
       "      <td>97.333333</td>\n",
       "      <td>54.769231</td>\n",
       "      <td>30.166667</td>\n",
       "    </tr>\n",
       "    <tr>\n",
       "      <th>15000000.50</th>\n",
       "      <td>NaN</td>\n",
       "      <td>21.250000</td>\n",
       "      <td>35.333333</td>\n",
       "      <td>39.500000</td>\n",
       "    </tr>\n",
       "    <tr>\n",
       "      <th>50000000.00</th>\n",
       "      <td>NaN</td>\n",
       "      <td>NaN</td>\n",
       "      <td>37.000000</td>\n",
       "      <td>NaN</td>\n",
       "    </tr>\n",
       "  </tbody>\n",
       "</table>\n",
       "</div>"
      ],
      "text/plain": [
       "type              exchange   purchase  sale_full  sale_partial\n",
       "amount_cleaned                                                \n",
       "8000.00                NaN        NaN  19.000000     19.000000\n",
       "8000.50         149.081967  65.273784  73.570919     57.616108\n",
       "32000.00               NaN        NaN  19.000000     19.000000\n",
       "32500.50         35.285714  49.260524  44.978177     80.050562\n",
       "53267.76         19.000000  10.752688  39.545455     13.031746\n",
       "75000.50         40.875000  42.727506  42.405738     63.606557\n",
       "175000.50        40.500000  25.249097  53.600917     40.725000\n",
       "375000.50        33.333333  27.622754  37.950311     47.933333\n",
       "3000000.00             NaN        NaN  23.000000           NaN\n",
       "3000000.50       43.000000  29.210526  21.000000     25.666667\n",
       "6163265.79             NaN  97.333333  54.769231     30.166667\n",
       "15000000.50            NaN  21.250000  35.333333     39.500000\n",
       "50000000.00            NaN        NaN  37.000000           NaN"
      ]
     },
     "execution_count": 109,
     "metadata": {},
     "output_type": "execute_result"
    }
   ],
   "source": [
    "df.pivot_table(index='amount_cleaned', values='non_disclosure_period(days)', columns='type')"
   ]
  },
  {
   "cell_type": "markdown",
   "metadata": {},
   "source": [
    "This table is confusing, so let's look at just the means of each of the columns."
   ]
  },
  {
   "cell_type": "code",
   "execution_count": 110,
   "metadata": {},
   "outputs": [
    {
     "data": {
      "text/plain": [
       "type\n",
       "exchange        51.582288\n",
       "purchase        40.964468\n",
       "sale_full       38.550314\n",
       "sale_partial    39.663331\n",
       "dtype: float64"
      ]
     },
     "execution_count": 110,
     "metadata": {},
     "output_type": "execute_result"
    }
   ],
   "source": [
    "df.pivot_table(index='amount_cleaned', values='non_disclosure_period(days)', columns='type').mean()"
   ]
  },
  {
   "cell_type": "markdown",
   "metadata": {},
   "source": [
    "For some reason, or just sheer random chance, exchanges take on average almost 12 days longer to be disclosed than purchases, full sales, and partial sales. Interesting 🤔🤔"
   ]
  },
  {
   "cell_type": "markdown",
   "metadata": {},
   "source": [
    "This concludes our EDA section."
   ]
  },
  {
   "cell_type": "markdown",
   "metadata": {},
   "source": [
    "# **Assessment of Missingness**"
   ]
  },
  {
   "cell_type": "markdown",
   "metadata": {},
   "source": [
    "hehehhehehehehheeee"
   ]
  },
  {
   "cell_type": "markdown",
   "metadata": {},
   "source": [
    "# **Hypothesis Testing**"
   ]
  },
  {
   "cell_type": "markdown",
   "metadata": {},
   "source": [
    "The question we've decided to explore is the case of *why are Michigan reps so damn good at trading stocks?*"
   ]
  },
  {
   "cell_type": "markdown",
   "metadata": {},
   "source": [
    "Here's a little bit of background again to refresh your memory.\n",
    "\n",
    "In our interesting aggregates / pivot tables section, we wanted to answer:\n",
    "**Which state has the highest average number of trades that result in capital gains over $200?**"
   ]
  },
  {
   "cell_type": "code",
   "execution_count": 80,
   "metadata": {},
   "outputs": [
    {
     "data": {
      "text/html": [
       "<div>\n",
       "<style scoped>\n",
       "    .dataframe tbody tr th:only-of-type {\n",
       "        vertical-align: middle;\n",
       "    }\n",
       "\n",
       "    .dataframe tbody tr th {\n",
       "        vertical-align: top;\n",
       "    }\n",
       "\n",
       "    .dataframe thead th {\n",
       "        text-align: right;\n",
       "    }\n",
       "</style>\n",
       "<table border=\"1\" class=\"dataframe\">\n",
       "  <thead>\n",
       "    <tr style=\"text-align: right;\">\n",
       "      <th></th>\n",
       "      <th>cap_gains_over_200_usd</th>\n",
       "    </tr>\n",
       "    <tr>\n",
       "      <th>state</th>\n",
       "      <th></th>\n",
       "    </tr>\n",
       "  </thead>\n",
       "  <tbody>\n",
       "    <tr>\n",
       "      <th>MI</th>\n",
       "      <td>0.772871</td>\n",
       "    </tr>\n",
       "    <tr>\n",
       "      <th>SC</th>\n",
       "      <td>0.379310</td>\n",
       "    </tr>\n",
       "    <tr>\n",
       "      <th>NY</th>\n",
       "      <td>0.280702</td>\n",
       "    </tr>\n",
       "    <tr>\n",
       "      <th>ID</th>\n",
       "      <td>0.222222</td>\n",
       "    </tr>\n",
       "    <tr>\n",
       "      <th>LA</th>\n",
       "      <td>0.222222</td>\n",
       "    </tr>\n",
       "  </tbody>\n",
       "</table>\n",
       "</div>"
      ],
      "text/plain": [
       "       cap_gains_over_200_usd\n",
       "state                        \n",
       "MI                   0.772871\n",
       "SC                   0.379310\n",
       "NY                   0.280702\n",
       "ID                   0.222222\n",
       "LA                   0.222222"
      ]
     },
     "execution_count": 80,
     "metadata": {},
     "output_type": "execute_result"
    }
   ],
   "source": [
    "(\n",
    "    df.pivot_table(index = 'state', values = 'cap_gains_over_200_usd')\n",
    "    .sort_values(by = 'cap_gains_over_200_usd', ascending=False)\n",
    "    .head()\n",
    ")"
   ]
  },
  {
   "cell_type": "markdown",
   "metadata": {},
   "source": [
    "**Formalized...**\n",
    "\n",
    "* **Question:**\n",
    "\n",
    "The reps from the state of Michigan have a 77% of trades that result in the ```cap_gains_over_200_usd``` column have a True value. \n",
    "\n",
    "Is this just by chance, or are the representatives from some states, like  *The Great Lakes State*, just that damn much better at trading then representatives from other states?\n",
    "\n",
    "* **Null hypothesis:** Reps from Michigan *are not* more likely to have an average trade proportion that result in capital gains over 200 usd higher than the rest of the population.\n",
    "\n",
    "* **Alternative Hypothesis:** Reps from Michigan *are* more likely to have an average trade proportion that result in capital gains over 200 usd higher than the rest of the population.\n",
    "\n",
    "* **Test statistic:** Difference of means between average value of `cap_gains_over_200_usd` column for Michigan reps vs average value of `cap_gains_over_200_usd` column for non-Michigan reps.\n",
    "  * Difference of means is appropriate here because we have numerical/quantitiative data\n",
    "\n",
    "* **Significance level:** 1%"
   ]
  },
  {
   "cell_type": "markdown",
   "metadata": {},
   "source": [
    "##### There's an easy solution to this problem - **Permutation Testing!**\n",
    "\n",
    "We're choosing permutation testing over hypothesis testing because we are given *2* observed samples (versus the only *one* that hypothesis testing works on). One group is all trades from reps from Michigan, and the other group are all trades that are not from reps from Michigan. We need to see if they are they fundamentally different, or could they have been generated by the same process?"
   ]
  },
  {
   "cell_type": "markdown",
   "metadata": {},
   "source": [
    "Let's begin the permutation testing. \n",
    "\n",
    "First, let's find the observed test statistic: difference in means."
   ]
  },
  {
   "cell_type": "code",
   "execution_count": 124,
   "metadata": {},
   "outputs": [
    {
     "data": {
      "text/plain": [
       "0.7210881633608198"
      ]
     },
     "execution_count": 124,
     "metadata": {},
     "output_type": "execute_result"
    }
   ],
   "source": [
    "# let's only choose the columns we need \n",
    "ptest_df = df[['state', 'cap_gains_over_200_usd']]\n",
    "\n",
    "# seperate into 2 groups\n",
    "ptest_df_MI = ptest_df.loc[ptest_df['state'] == 'MI']\n",
    "ptest_df_NOTMI = ptest_df.loc[ptest_df['state'] != 'MI']\n",
    "\n",
    "# calculate difference of means\n",
    "observed_diff_means = ptest_df_MI['cap_gains_over_200_usd'].mean() - \\\n",
    "                        ptest_df_NOTMI['cap_gains_over_200_usd'].mean()\n",
    "observed_diff_means"
   ]
  },
  {
   "cell_type": "markdown",
   "metadata": {},
   "source": [
    "So the reps from Michigan have an average value of `cap_gains_over_200_usd` substantially higher than non-Michigan reps, by about 72%."
   ]
  },
  {
   "cell_type": "markdown",
   "metadata": {},
   "source": [
    "Now let's run the permutation test 500 times."
   ]
  },
  {
   "cell_type": "code",
   "execution_count": 140,
   "metadata": {},
   "outputs": [],
   "source": [
    "diff_means = []\n",
    "N = 500\n",
    "for _ in range(N):\n",
    "\n",
    "    # shuffle the cap_gains_over_200_usd column\n",
    "    shuffled_gains = (\n",
    "        ptest_df['cap_gains_over_200_usd']\n",
    "        .sample(frac=1)\n",
    "        # we need to reset_index w/ drop=True otherwise the old index values will exist\n",
    "        .reset_index(drop=True)\n",
    "    )\n",
    "\n",
    "    # assign a new dataframe with the shuffled column\n",
    "    ptest_df_shuffled = (\n",
    "        ptest_df.assign(**{'shuffled_cap_gains_over_200_usd': shuffled_gains})\n",
    "    )\n",
    "\n",
    "    # Michigan only values\n",
    "    MI_only = (\n",
    "        ptest_df_shuffled.loc[ptest_df_shuffled['state'] == 'MI']\n",
    "    )\n",
    "\n",
    "    # NON-Michigan only values\n",
    "    not_MI = (\n",
    "        ptest_df_shuffled.loc[ptest_df_shuffled['state'] != 'MI']\n",
    "    )\n",
    "\n",
    "    # compute difference in means by subtracting MI-only group's mean with\n",
    "    # NON-MI-only group's mean.\n",
    "    test_stat = (\n",
    "        MI_only['shuffled_cap_gains_over_200_usd'].mean() - \\\n",
    "            not_MI['shuffled_cap_gains_over_200_usd'].mean()\n",
    "    )\n",
    "    diff_means.append(test_stat)"
   ]
  },
  {
   "cell_type": "markdown",
   "metadata": {},
   "source": [
    "Now let's calculate the p-value!\n",
    "\n",
    "The p-value represents what proportion of our `observed_diff_means` list had more extreme values than our observed test-statistic, `diff_means`."
   ]
  },
  {
   "cell_type": "code",
   "execution_count": 147,
   "metadata": {},
   "outputs": [
    {
     "data": {
      "text/plain": [
       "0.0"
      ]
     },
     "execution_count": 147,
     "metadata": {},
     "output_type": "execute_result"
    }
   ],
   "source": [
    "p_val = np.mean(diff_means >= observed_diff_means)\n",
    "p_val"
   ]
  },
  {
   "cell_type": "markdown",
   "metadata": {},
   "source": [
    "**0!**\n",
    "\n",
    "So this means that our result is **highly significant**, and we can reject the null hypothesis since our p-value (0.0) is lower than our significance level (0.01).\n",
    "\n",
    "I.E., Reps from Michigan *did indeed* have an average trade proportion that resulted in capital gains over 200 usd *higher* than the rest of the population, and this was **not due by chance**. \n",
    "\n",
    "If it was only due by chance, our p-value would not be so low, and we would not be rejecting the null hypothesis."
   ]
  },
  {
   "cell_type": "markdown",
   "metadata": {},
   "source": []
  }
 ],
 "metadata": {
  "interpreter": {
   "hash": "5295a267c55f180e60e71387ea73cc020fddd40d0e79d6e49d9e5453acf0c9a9"
  },
  "kernelspec": {
   "display_name": "Python 3.8.12 ('dsc80')",
   "language": "python",
   "name": "python3"
  },
  "language_info": {
   "codemirror_mode": {
    "name": "ipython",
    "version": 3
   },
   "file_extension": ".py",
   "mimetype": "text/x-python",
   "name": "python",
   "nbconvert_exporter": "python",
   "pygments_lexer": "ipython3",
   "version": "3.8.12"
  },
  "orig_nbformat": 4
 },
 "nbformat": 4,
 "nbformat_minor": 2
}
